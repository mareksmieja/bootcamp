{
 "cells": [
  {
   "cell_type": "code",
   "execution_count": 11,
   "metadata": {
    "collapsed": true
   },
   "outputs": [],
   "source": [
    "import numpy as np\n",
    "import pandas as pd\n",
    "import seaborn as sns\n",
    "import matplotlib.pyplot as plt"
   ]
  },
  {
   "cell_type": "markdown",
   "metadata": {},
   "source": [
    "https://docs.google.com/spreadsheets/d/1Xu2z6F-F_XtlEvCWoOiqp_oDJArsYE4uxo2eIiY5LEs/edit#gid=0"
   ]
  },
  {
   "cell_type": "code",
   "execution_count": 16,
   "metadata": {
    "collapsed": true
   },
   "outputs": [],
   "source": [
    "filename=\"tab.txt\"\n",
    "\n",
    "df = pd.read_csv(filename, delimiter='\\t')\n",
    "data = df.values "
   ]
  },
  {
   "cell_type": "code",
   "execution_count": 17,
   "metadata": {},
   "outputs": [
    {
     "data": {
      "text/plain": [
       "array([[ 0.2 ,  0.14,  0.3 ,  0.2 ],\n",
       "       [ 0.1 ,  0.2 ,  0.05,  0.4 ],\n",
       "       [ 0.19,  0.2 ,  0.33,  0.5 ]])"
      ]
     },
     "execution_count": 17,
     "metadata": {},
     "output_type": "execute_result"
    }
   ],
   "source": [
    "data"
   ]
  },
  {
   "cell_type": "code",
   "execution_count": 18,
   "metadata": {},
   "outputs": [
    {
     "name": "stdout",
     "output_type": "stream",
     "text": [
      "[[ 2.5  4.   1.   2.5]\n",
      " [ 3.   2.   4.   1. ]\n",
      " [ 4.   3.   2.   1. ]]\n"
     ]
    }
   ],
   "source": [
    "data = -data\n",
    "y = np.argsort(data, axis=1)\n",
    "\n",
    "n_samples, n_features = data.shape\n",
    "res = np.zeros_like(data)\n",
    "\n",
    "for i in range(n_samples):\n",
    "    n = 1\n",
    "    for j in range(n_features):\n",
    "        if j == 0:\n",
    "            res[i, y[i, j]] = n\n",
    "        elif data[i, y[i, j - 1]] == data[i, y[i, j]]:\n",
    "            res[i, y[i, j]] = n\n",
    "        else:\n",
    "            n += 1\n",
    "            res[i, y[i, j]] = n\n",
    "            \n",
    "\n",
    "for i in range(n_samples):\n",
    "    n = 1\n",
    "    for j in range(n_features):\n",
    "        if j == 0:\n",
    "            res[i, y[i, j]] = n\n",
    "        elif data[i, y[i, j - 1]] == data[i, y[i, j]]:\n",
    "            res[i, y[i, j]] = n\n",
    "        else:\n",
    "            n += 1\n",
    "            res[i, y[i, j]] = n\n",
    "\n",
    "res1 = np.copy(res)\n",
    "res1 = res1.astype(float)\n",
    "\n",
    "for i in range(n_samples):\n",
    "    n = 0\n",
    "    for j in range(1,12):\n",
    "        v = np.where(res[i, :] == j)[0]\n",
    "        if v.size == 0:\n",
    "            break\n",
    "        n += 1\n",
    "        res1[i, v] = n + (v.size - 1) / 2.\n",
    "        n = n + v.size -1\n",
    "\n",
    "print(res1)\n"
   ]
  },
  {
   "cell_type": "code",
   "execution_count": 19,
   "metadata": {},
   "outputs": [
    {
     "data": {
      "image/png": "[encoded data removed]",
      "text/plain": [
       "<matplotlib.figure.Figure at 0x22d52520e80>"
      ]
     },
     "metadata": {},
     "output_type": "display_data"
    }
   ],
   "source": [
    "data = res1\n",
    "name_list = df.columns.values\n",
    "\n",
    "plt.figure(figsize=(15,10))\n",
    "sns.set_style(\"white\")\n",
    "sns.set_context(\"notebook\", font_scale=1.5, rc={\"lines.linewidth\": 1.5})\n",
    "\n",
    "bplot = sns.boxplot(data = data, palette=sns.color_palette(\"hls\", 11))\n",
    "\n",
    "bplot.set_ylabel(r'Ranking', fontsize=18)\n",
    "\n",
    "bplot.set_xticklabels(name_list, rotation=45, ha='right', fontsize=14)\n",
    "\n",
    "medians = np.median(data, axis=0)\n",
    "median_labels = [str(np.round(s, 2)) for s in medians]\n",
    "\n",
    "pos = range(len(medians))\n",
    "for tick,label in zip(pos, bplot.get_xticklabels()):\n",
    "    bplot.text(pos[tick], medians[tick] + 0.4, median_labels[tick],\n",
    "            horizontalalignment='center', size='x-small', color='w', weight='semibold')\n",
    "\n",
    "plt.show();"
   ]
  },
  {
   "cell_type": "code",
   "execution_count": null,
   "metadata": {
    "collapsed": true
   },
   "outputs": [],
   "source": []
  }
 ],
 "metadata": {
  "kernelspec": {
   "display_name": "Python 3",
   "language": "python",
   "name": "python3"
  },
  "language_info": {
   "codemirror_mode": {
    "name": "ipython",
    "version": 3
   },
   "file_extension": ".py",
   "mimetype": "text/x-python",
   "name": "python",
   "nbconvert_exporter": "python",
   "pygments_lexer": "ipython3",
   "version": "3.6.3"
  }
 },
 "nbformat": 4,
 "nbformat_minor": 2
}
