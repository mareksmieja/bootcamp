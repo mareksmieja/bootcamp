{
 "cells": [
  {
   "cell_type": "markdown",
   "metadata": {},
   "source": [
    "Budujemy model LDA i transformujemy dane"
   ]
  },
  {
   "cell_type": "code",
   "execution_count": 1,
   "metadata": {},
   "outputs": [],
   "source": [
    "#TODO"
   ]
  },
  {
   "cell_type": "markdown",
   "metadata": {},
   "source": [
    "<h1>Wizualizacja modeli</h1>"
   ]
  },
  {
   "cell_type": "markdown",
   "metadata": {},
   "source": [
    "Do wizualizacji użyjemy biblioteki pyLDAvis. instalujemy pyLDAvis: https://github.com/bmabey/pyLDAvis"
   ]
  },
  {
   "cell_type": "code",
   "execution_count": 4,
   "metadata": {},
   "outputs": [
    {
     "data": {
      "text/html": [
       "\n",
       "<link rel=\"stylesheet\" type=\"text/css\" href=\"https://cdn.rawgit.com/bmabey/pyLDAvis/files/ldavis.v1.0.0.css\">\n",
       "\n",
       "\n",
       "<div id=\"ldavis_el550819376332876487611820494\"></div>\n",
       "<script type=\"text/javascript\">\n",
       "\n",
       "var ldavis_el550819376332876487611820494_data = {\"mdsDat\": {\"Freq\": [53.72783957197066, 46.27216042802934], \"cluster\": [1, 1], \"topics\": [1, 2], \"x\": [0.01832333579659462, -0.01832333579659462], \"y\": [0.0, 0.0]}, \"tinfo\": {\"Category\": [\"Default\", \"Default\", \"Default\", \"Default\", \"Default\", \"Default\", \"Default\", \"Default\", \"Default\", \"Default\", \"Default\", \"Default\", \"Topic1\", \"Topic1\", \"Topic1\", \"Topic1\", \"Topic1\", \"Topic1\", \"Topic1\", \"Topic1\", \"Topic1\", \"Topic1\", \"Topic1\", \"Topic1\", \"Topic2\", \"Topic2\", \"Topic2\", \"Topic2\", \"Topic2\", \"Topic2\", \"Topic2\", \"Topic2\", \"Topic2\", \"Topic2\", \"Topic2\", \"Topic2\"], \"Freq\": [2.0, 2.0, 3.0, 2.0, 2.0, 2.0, 2.0, 2.0, 2.0, 2.0, 2.0, 2.0, 1.5352979410338363, 2.509267001032811, 1.293669034262107, 1.6952149109672132, 1.2346081967119837, 1.645130465387995, 1.0790615933986558, 1.4189647183507403, 0.8787207927926199, 0.8531106672881789, 0.7508415112244399, 0.6871868956121796, 1.4887183423609445, 1.4174805519192009, 1.3030277274000794, 1.2743667064118458, 1.422352518573507, 1.05015886096795, 1.169243203140688, 0.8760814828358198, 1.113192091599467, 0.8099846519948921, 0.9547503971338042, 0.5395697070916476], \"Term\": [\"time\", \"response\", \"system\", \"computer\", \"eps\", \"survey\", \"user\", \"minors\", \"human\", \"trees\", \"graph\", \"interface\", \"eps\", \"system\", \"human\", \"trees\", \"interface\", \"graph\", \"minors\", \"user\", \"survey\", \"computer\", \"response\", \"time\", \"time\", \"response\", \"computer\", \"survey\", \"user\", \"minors\", \"graph\", \"interface\", \"trees\", \"human\", \"system\", \"eps\"], \"Total\": [2.0, 2.0, 3.0, 2.0, 2.0, 2.0, 2.0, 2.0, 2.0, 2.0, 2.0, 2.0, 2.074867648125484, 3.4640173981666154, 2.1036536862569992, 2.80840700256668, 2.1106896795478036, 2.814373668528683, 2.129220454366606, 2.8413172369242474, 2.1530874992044655, 2.1561383946882584, 2.168322063143641, 2.175905237973124, 2.175905237973124, 2.168322063143641, 2.1561383946882584, 2.1530874992044655, 2.8413172369242474, 2.129220454366606, 2.814373668528683, 2.1106896795478036, 2.80840700256668, 2.1036536862569992, 3.4640173981666154, 2.074867648125484], \"loglift\": [12.0, 11.0, 10.0, 9.0, 8.0, 7.0, 6.0, 5.0, 4.0, 3.0, 2.0, 1.0, 0.3201, 0.2988, 0.135, 0.1164, 0.085, 0.0843, -0.0584, -0.0731, -0.275, -0.3059, -0.4393, -0.5314, 0.3911, 0.3456, 0.267, 0.2462, 0.0787, 0.0638, -0.1078, -0.1087, -0.1548, -0.1838, -0.5181, -0.5763], \"logprob\": [12.0, 11.0, 10.0, 9.0, 8.0, 7.0, 6.0, 5.0, 4.0, 3.0, 2.0, 1.0, -2.3173000812530518, -1.8260999917984009, -2.488600015640259, -2.2181999683380127, -2.5353000164031982, -2.248199939727783, -2.6700000762939453, -2.3961000442504883, -2.8752999305725098, -2.904900074005127, -3.032599925994873, -3.1212000846862793, -2.1988000869750977, -2.24780011177063, -2.3320000171661377, -2.3541998863220215, -2.2444000244140625, -2.5476999282836914, -2.4402999877929688, -2.7290000915527344, -2.4893999099731445, -2.8073999881744385, -2.6429998874664307, -3.213599920272827]}, \"token.table\": {\"Topic\": [1, 2, 1, 2, 1, 2, 1, 2, 1, 2, 1, 2, 1, 2, 1, 2, 1, 2, 1, 2, 1, 2, 1, 2], \"Freq\": [0.4637921213515533, 0.4637921213515533, 0.9639169041971798, 0.4819584520985899, 0.7106376890761537, 0.35531884453807683, 0.4753634148685783, 0.4753634148685783, 0.47377878884319985, 0.47377878884319985, 0.4696554543937429, 0.4696554543937429, 0.4611861019161501, 0.4611861019161501, 0.4644493084324188, 0.4644493084324188, 0.8660464585390929, 0.2886821528463643, 0.4595788376020958, 0.4595788376020958, 0.7121474907918066, 0.3560737453959033, 0.3519494363404874, 0.3519494363404874], \"Term\": [\"computer\", \"computer\", \"eps\", \"eps\", \"graph\", \"graph\", \"human\", \"human\", \"interface\", \"interface\", \"minors\", \"minors\", \"response\", \"response\", \"survey\", \"survey\", \"system\", \"system\", \"time\", \"time\", \"trees\", \"trees\", \"user\", \"user\"]}, \"R\": 12, \"lambda.step\": 0.01, \"plot.opts\": {\"xlab\": \"PC1\", \"ylab\": \"PC2\"}, \"topic.order\": [1, 2]};\n",
       "\n",
       "function LDAvis_load_lib(url, callback){\n",
       "  var s = document.createElement('script');\n",
       "  s.src = url;\n",
       "  s.async = true;\n",
       "  s.onreadystatechange = s.onload = callback;\n",
       "  s.onerror = function(){console.warn(\"failed to load library \" + url);};\n",
       "  document.getElementsByTagName(\"head\")[0].appendChild(s);\n",
       "}\n",
       "\n",
       "if(typeof(LDAvis) !== \"undefined\"){\n",
       "   // already loaded: just create the visualization\n",
       "   !function(LDAvis){\n",
       "       new LDAvis(\"#\" + \"ldavis_el550819376332876487611820494\", ldavis_el550819376332876487611820494_data);\n",
       "   }(LDAvis);\n",
       "}else if(typeof define === \"function\" && define.amd){\n",
       "   // require.js is available: use it to load d3/LDAvis\n",
       "   require.config({paths: {d3: \"https://cdnjs.cloudflare.com/ajax/libs/d3/3.5.5/d3.min\"}});\n",
       "   require([\"d3\"], function(d3){\n",
       "      window.d3 = d3;\n",
       "      LDAvis_load_lib(\"https://cdn.rawgit.com/bmabey/pyLDAvis/files/ldavis.v1.0.0.js\", function(){\n",
       "        new LDAvis(\"#\" + \"ldavis_el550819376332876487611820494\", ldavis_el550819376332876487611820494_data);\n",
       "      });\n",
       "    });\n",
       "}else{\n",
       "    // require.js not available: dynamically load d3 & LDAvis\n",
       "    LDAvis_load_lib(\"https://cdnjs.cloudflare.com/ajax/libs/d3/3.5.5/d3.min.js\", function(){\n",
       "         LDAvis_load_lib(\"https://cdn.rawgit.com/bmabey/pyLDAvis/files/ldavis.v1.0.0.js\", function(){\n",
       "                 new LDAvis(\"#\" + \"ldavis_el550819376332876487611820494\", ldavis_el550819376332876487611820494_data);\n",
       "            })\n",
       "         });\n",
       "}\n",
       "</script>"
      ],
      "text/plain": [
       "<IPython.core.display.HTML object>"
      ]
     },
     "execution_count": 4,
     "metadata": {},
     "output_type": "execute_result"
    }
   ],
   "source": [
    "import pyLDAvis.gensim\n",
    "\n",
    "vis = pyLDAvis.gensim.prepare(model, corpus, dictionary)\n",
    "pyLDAvis.display(vis)"
   ]
  },
  {
   "cell_type": "markdown",
   "metadata": {
    "collapsed": true
   },
   "source": [
    "ZADANIE: proszę wziąć 20newsgroups (dla każdej klasy 100 postów) i zwizualizować jego LDA. \n",
    "\n",
    "Czy znalezione tematy są łatwo opisywalne?\n",
    "\n",
    "Czy podział na tematy zgadza się z podziałem na klasy?"
   ]
  },
  {
   "cell_type": "code",
   "execution_count": 5,
   "metadata": {
    "collapsed": true
   },
   "outputs": [],
   "source": [
    "#TODO\n"
   ]
  }
 ],
 "metadata": {
  "kernelspec": {
   "display_name": "Python 3",
   "language": "python",
   "name": "python3"
  },
  "language_info": {
   "codemirror_mode": {
    "name": "ipython",
    "version": 3
   },
   "file_extension": ".py",
   "mimetype": "text/x-python",
   "name": "python",
   "nbconvert_exporter": "python",
   "pygments_lexer": "ipython3",
   "version": "3.6.3"
  }
 },
 "nbformat": 4,
 "nbformat_minor": 2
}
