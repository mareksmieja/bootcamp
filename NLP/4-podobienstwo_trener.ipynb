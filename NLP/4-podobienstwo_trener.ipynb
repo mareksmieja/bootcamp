{
 "cells": [
  {
   "cell_type": "markdown",
   "metadata": {},
   "source": [
    "<h2>Podobieństwo dokumentów</h2>\n",
    "\n",
    "Weźmy dwa (podobne) dokumenty."
   ]
  },
  {
   "cell_type": "code",
   "execution_count": 32,
   "metadata": {},
   "outputs": [
    {
     "name": "stdout",
     "output_type": "stream",
     "text": [
      "['I eat an apple.', 'I ate the apple.']\n",
      "{'eat': 3, 'an': 0, 'apple': 1, 'ate': 2, 'the': 4}\n",
      "[[1 1 0 1 0]\n",
      " [0 1 1 0 1]]\n"
     ]
    }
   ],
   "source": [
    "from sklearn.feature_extraction.text import CountVectorizer\n",
    "from nltk.tokenize import sent_tokenize\n",
    "\n",
    "sentences = [\"I eat an apple.\", \"I ate the apple.\"]\n",
    "\n",
    "\n",
    "print(sentences)\n",
    "vectorizer = CountVectorizer()\n",
    "vectorizer.fit(sentences)\n",
    "print( vectorizer.vocabulary_ )\n",
    "bag_of_words = vectorizer.transform(sentences)\n",
    "print(bag_of_words.todense())"
   ]
  },
  {
   "cell_type": "markdown",
   "metadata": {},
   "source": [
    "ZADANIE: Policzyć ich odległość (euklidesową i hammminga)."
   ]
  },
  {
   "cell_type": "code",
   "execution_count": 33,
   "metadata": {},
   "outputs": [
    {
     "name": "stdout",
     "output_type": "stream",
     "text": [
      "[1 1 0 1 0]\n",
      "[0 1 1 0 1]\n",
      "2.0\n",
      "0.8\n"
     ]
    }
   ],
   "source": [
    "import numpy as np\n",
    "\n",
    "t1 = np.array(bag_of_words[0].todense()).flatten()\n",
    "t2 = np.array(bag_of_words[1].todense()).flatten()\n",
    "print(t1)\n",
    "print(t2)\n",
    "\n",
    "import scipy.spatial.distance as dist\n",
    "\n",
    "print(dist.euclidean(t1,t2))\n",
    "\n",
    "print(dist.hamming(t1,t2))"
   ]
  },
  {
   "cell_type": "markdown",
   "metadata": {},
   "source": [
    "ZADANIE: Usuńmy stopwords oraz zestemujmy."
   ]
  },
  {
   "cell_type": "code",
   "execution_count": 34,
   "metadata": {
    "collapsed": true
   },
   "outputs": [],
   "source": [
    "#TODO"
   ]
  },
  {
   "cell_type": "markdown",
   "metadata": {},
   "source": [
    "Cześciowo pomogło. Weźmy inny przykład i policzmy odległość."
   ]
  },
  {
   "cell_type": "code",
   "execution_count": 35,
   "metadata": {},
   "outputs": [
    {
     "name": "stdout",
     "output_type": "stream",
     "text": [
      "['I love apples.', 'I love apples. I love apples.']\n",
      "{'love': 1, 'apples': 0}\n",
      "[[1 1]\n",
      " [2 2]]\n"
     ]
    }
   ],
   "source": [
    "sentences = [\"I love apples.\", \"I love apples. I love apples.\"]\n",
    "\n",
    "\n",
    "print(sentences)\n",
    "vectorizer = CountVectorizer()\n",
    "vectorizer.fit(sentences)\n",
    "print( vectorizer.vocabulary_ )\n",
    "bag_of_words = vectorizer.transform(sentences)\n",
    "print(bag_of_words.todense())"
   ]
  },
  {
   "cell_type": "markdown",
   "metadata": {},
   "source": [
    "Liczność słów często nie ma znaczenia. \n",
    "\n",
    "ZADANIE: (1) Proszę użyć odelgłości kosinusowej (2) Proszę użyć reprezentacji set-of-words."
   ]
  },
  {
   "cell_type": "code",
   "execution_count": 36,
   "metadata": {},
   "outputs": [
    {
     "name": "stdout",
     "output_type": "stream",
     "text": [
      "0.666666666667\n"
     ]
    }
   ],
   "source": [
    "\n",
    "\n",
    "from scipy.spatial.distance import cosine\n",
    "print(cosine(t1,t2))"
   ]
  },
  {
   "cell_type": "markdown",
   "metadata": {},
   "source": [
    "Odległość cosinsusowa jest typową odległością na tekstach - ważny jest tylko kąt a nie długość.\n",
    "\n",
    "\n",
    "Dla wyszukiwania informacji w tekstach można użyć odległości cosinusowej"
   ]
  }
 ],
 "metadata": {
  "kernelspec": {
   "display_name": "Python 3",
   "language": "python",
   "name": "python3"
  },
  "language_info": {
   "codemirror_mode": {
    "name": "ipython",
    "version": 3
   },
   "file_extension": ".py",
   "mimetype": "text/x-python",
   "name": "python",
   "nbconvert_exporter": "python",
   "pygments_lexer": "ipython3",
   "version": "3.6.3"
  }
 },
 "nbformat": 4,
 "nbformat_minor": 2
}
