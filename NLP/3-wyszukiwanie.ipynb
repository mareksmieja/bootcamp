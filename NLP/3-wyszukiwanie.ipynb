{
 "cells": [
  {
   "cell_type": "markdown",
   "metadata": {},
   "source": [
    "<h1>Wyszukiwanie informacji</h1>\n",
    "\n",
    "Jednym z zadań nlp jest wyszukiwanie dokumentów podobnych dla danego zapytania (wyszukiwarki internetowe)."
   ]
  },
  {
   "cell_type": "markdown",
   "metadata": {},
   "source": [
    "Weźmy korpus dokumentów, jak poniżej. "
   ]
  },
  {
   "cell_type": "code",
   "execution_count": 1,
   "metadata": {
    "collapsed": true
   },
   "outputs": [],
   "source": [
    "corpus = [\"Romeo and Juliet\",\n",
    "         \"Juliet: O happy dagger\",\n",
    "         \"Romeo died by dagger\",\n",
    "         \"'Live free or die', that’s the New-Hampshire’s motto\",\n",
    "         \"Did you know, New-Hampshire is in New-England\"]"
   ]
  },
  {
   "cell_type": "markdown",
   "metadata": {},
   "source": [
    "ZADANIE: Zadajemy zapytanie \"dies, dagger\". Prosze uszeregować dokumenty w kolejności od najbardziej pasujących. \n",
    "\n",
    "Transformujemy query do naszej reprezentacji i liczymy ile słów się pokrywa (mnożenie wektorów i sumowanie)\n",
    "\n"
   ]
  },
  {
   "cell_type": "code",
   "execution_count": 2,
   "metadata": {
    "collapsed": true
   },
   "outputs": [],
   "source": [
    "query = [\"dies\", \"dagger\"]"
   ]
  },
  {
   "cell_type": "code",
   "execution_count": 3,
   "metadata": {},
   "outputs": [],
   "source": [
    "#TODO"
   ]
  },
  {
   "cell_type": "markdown",
   "metadata": {},
   "source": [
    "Żeby dokumenty były podobne to muszą zawierać te same słowa.\n",
    "\n",
    "ZADANIE: Czy aby na pewno 2 i 4 są tak samo podobne do query?\n",
    "\n"
   ]
  },
  {
   "cell_type": "markdown",
   "metadata": {},
   "source": [
    "Można użyć transformaty tfidf: https://en.wikipedia.org/wiki/Tf%E2%80%93idf.\n",
    "\n",
    "tf - waga słowa jest proporcjonalna do ilości jego wystąpień w dokumencie\n",
    "\n",
    "idf - waga jest odwrotnie proporcjonalna do ilości dokumentów w jakich występuje\n",
    "\n",
    "Intuicyjnie tfidf zmniejsza wagi często występujących słów, co powoduje że są mniej ważne (potencjalnie można nie usuwać stopwords..)\n",
    "\n",
    "ZADANIE: Proszę spróbować zaimplementować własne tfidf (https://medium.freecodecamp.org/how-to-process-textual-data-using-tf-idf-in-python-cd2bbc0a94a3).\n"
   ]
  },
  {
   "cell_type": "code",
   "execution_count": 4,
   "metadata": {
    "collapsed": true
   },
   "outputs": [],
   "source": [
    "#TODO"
   ]
  },
  {
   "cell_type": "markdown",
   "metadata": {},
   "source": [
    "ZADANIE: Użyjmy Tfidf z sklearn i dokonajmy wyszukiwania."
   ]
  },
  {
   "cell_type": "code",
   "execution_count": 5,
   "metadata": {},
   "outputs": [],
   "source": [
    "from sklearn.feature_extraction.text import TfidfVectorizer\n",
    "\n",
    "#TODO\n"
   ]
  },
  {
   "cell_type": "markdown",
   "metadata": {},
   "source": [
    "ZADANIE: Co spowodowało że podobieństwo zostało rozróżnione?"
   ]
  },
  {
   "cell_type": "code",
   "execution_count": null,
   "metadata": {
    "collapsed": true
   },
   "outputs": [],
   "source": []
  }
 ],
 "metadata": {
  "kernelspec": {
   "display_name": "Python 3",
   "language": "python",
   "name": "python3"
  },
  "language_info": {
   "codemirror_mode": {
    "name": "ipython",
    "version": 3
   },
   "file_extension": ".py",
   "mimetype": "text/x-python",
   "name": "python",
   "nbconvert_exporter": "python",
   "pygments_lexer": "ipython3",
   "version": "3.6.3"
  }
 },
 "nbformat": 4,
 "nbformat_minor": 2
}
