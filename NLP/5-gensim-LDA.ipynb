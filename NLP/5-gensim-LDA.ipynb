{
 "cells": [
  {
   "cell_type": "markdown",
   "metadata": {
    "collapsed": true
   },
   "source": [
    "<h1>Latent Dirichlet Allocation</h1>\n",
    "\n",
    "LSI pozwala w pewnym sensie znajdowac kluczowe tematy w tekście i dla danego dokumentu określać najbliższy mu temat. Jest to podejście geometryczne. \n",
    "\n",
    "LDA jest podejściem probabilistycznym do modelowania tematów. Jest bardziej dokładny choć wolniejszy."
   ]
  },
  {
   "attachments": {
    "image.png": {
     "image/png": "[encoded data removed]"
    }
   },
   "cell_type": "markdown",
   "metadata": {
    "collapsed": true
   },
   "source": [
    "Bierzemy macierz częstości słów $W_i$ w dokumentach $D_i$:\n",
    "\n",
    "![image.png](attachment:image.png)\n",
    "\n",
    "Załóżmy że mamy $k$ tematów. Każdy temat jest charakteryzowany słowami (jedne słowa pojawiają się częściej inne rzadziej). \n",
    "\n",
    "<h2>Częstości</h2>\n",
    "\n",
    "Jeśli przejdziemy po dokumentach i przyporządkujemy każde słowo do określonego tematu, to powstaną 2 macierze\n",
    "\n",
    "Dokument-temat\n",
    "\n",
    "![image.png](attachment:image.png)\n",
    "\n",
    "Temat-słowo\n",
    "\n",
    "![image.png](attachment:image.png)\n",
    "\n",
    "Mając powyższe macierze możemy policzyć prawdopodobieństwa:\n",
    "\n",
    "-$p_1$ - przynależności dokumentu do tematu\n",
    "\n",
    "-$p_2$ - przynależności słowa do tematu\n",
    "\n",
    "LDA dąży do jak najlepszego przyporządkowania słów poszczególnych dokumentów do tematów (maksymalizowana jest funkcja wiarygodności).\n",
    "\n",
    "\n",
    "<h2>Generatywność</h2>\n",
    "\n",
    "Mając prawdopodobieństwa $p_1$, $p_2$ możemy wygeneraować dokument:\n",
    "\n",
    "-wybieramy (losujemy) prawdopodobieństwo przynależności dokumentu do tematu (z $p_1$) - dokuemnt zawsze należy do wielu tematów\n",
    "\n",
    "-generujemy słowa w dokumencie - najpierw losujemy do jakiego tematu należy słowo, a potem generujemy słowo z tego tematu $(z $p_2$)\n",
    "\n",
    "<h2> Przykład</h2>\n",
    "\n",
    "Let’s make an example. According to the above process, when generating some particular document D, you might\n",
    "\n",
    "Pick 5 to be the number of words in D.<br/>\n",
    "Decide that D will be 1/2 about food and 1/2 about cute animals.<br/>\n",
    "Pick the first word to come from the food topic, which then gives you the word “broccoli”.<br/>\n",
    "Pick the second word to come from the cute animals topic, which gives you “panda”.<br/>\n",
    "Pick the third word to come from the cute animals topic, giving you “adorable”.<br/>\n",
    "Pick the fourth word to come from the food topic, giving you “cherries”.<br/>\n",
    "Pick the fifth word to come from the food topic, giving you “eating”.<br/>\n",
    "So the document generated under the LDA model will be “broccoli panda adorable cherries eating” (note that LDA is a bag-of-words model).<br/>\n",
    "\n",
    "<h2>Uczenie</h2>\n",
    "\n",
    "1. Idziemy przez wszystkie słowa i wszystkie dokumentu i losowo przyporządkowujemy je do tematów.\n",
    "2. Iteracyjnie idzemy: bierzemy dokuemnt $d$  i słowo $w$ i przyporządkowujemy je do najlepiej pasującego tematu - maksymalizującego $P(d|t)P(t|w)$\n",
    "3. Po przejsciu przez wszystkie dokumenty aktualizujemy macierze i wracamy do punktu 2"
   ]
  },
  {
   "cell_type": "markdown",
   "metadata": {},
   "source": [
    "Bierzemy korpus"
   ]
  },
  {
   "cell_type": "code",
   "execution_count": 3,
   "metadata": {},
   "outputs": [
    {
     "name": "stderr",
     "output_type": "stream",
     "text": [
      "C:\\Users\\user\\Anaconda3\\lib\\site-packages\\gensim\\utils.py:1197: UserWarning: detected Windows; aliasing chunkize to chunkize_serial\n",
      "  warnings.warn(\"detected Windows; aliasing chunkize to chunkize_serial\")\n"
     ]
    },
    {
     "name": "stdout",
     "output_type": "stream",
     "text": [
      "MmCorpus(9 documents, 12 features, 28 non-zero entries)\n"
     ]
    }
   ],
   "source": [
    "from gensim import corpora, models\n",
    "dictionary = corpora.Dictionary.load('tmp/deerwester.dict')\n",
    "corpus = corpora.MmCorpus('tmp/deerwester.mm') # comes from the first tutorial, \"From strings to vectors\"\n",
    "print(corpus)"
   ]
  },
  {
   "cell_type": "markdown",
   "metadata": {},
   "source": [
    "ZADANIE: Budujemy model LDA i transformujemy dane"
   ]
  },
  {
   "cell_type": "code",
   "execution_count": 4,
   "metadata": {},
   "outputs": [],
   "source": [
    "#TODO "
   ]
  },
  {
   "cell_type": "markdown",
   "metadata": {},
   "source": [
    "Dla każdego dokumentu dostajemy prawdopodobieństwo przynależności dokumentu do danego tematu.\n",
    "\n",
    "Możemy też zobaczyć z czego składają się tematy:"
   ]
  },
  {
   "cell_type": "code",
   "execution_count": 34,
   "metadata": {},
   "outputs": [
    {
     "data": {
      "text/plain": [
       "[(0, '0.143*\"trees\" + 0.117*\"graph\" + 0.108*\"interface\" + 0.103*\"user\" + 0.087*\"minors\" + 0.072*\"computer\" + 0.072*\"time\" + 0.071*\"response\" + 0.071*\"human\" + 0.061*\"system\"'), (1, '0.180*\"system\" + 0.109*\"survey\" + 0.092*\"user\" + 0.087*\"eps\" + 0.079*\"graph\" + 0.075*\"human\" + 0.075*\"response\" + 0.075*\"time\" + 0.075*\"computer\" + 0.060*\"minors\"')]"
      ]
     },
     "execution_count": 34,
     "metadata": {},
     "output_type": "execute_result"
    }
   ],
   "source": [
    "model.show_topics()"
   ]
  },
  {
   "cell_type": "markdown",
   "metadata": {},
   "source": [
    "ZADANIE: Chcemy postortowac słowa każdego tematu i wybrać 5 najważniejszych - co można powiedzieć o tematach?\n",
    "\n",
    "Proszę zobaczyć na funkcje typu get_topics(), get_term_topics(...): https://radimrehurek.com/gensim/models/ldamodel.html"
   ]
  },
  {
   "cell_type": "code",
   "execution_count": 5,
   "metadata": {},
   "outputs": [],
   "source": [
    "#TODO"
   ]
  },
  {
   "cell_type": "markdown",
   "metadata": {},
   "source": [
    "ZADANIE: Proszę posortować zdania najbardziej pasujące do danego tematu. "
   ]
  },
  {
   "cell_type": "code",
   "execution_count": 6,
   "metadata": {},
   "outputs": [],
   "source": [
    "#TODO"
   ]
  },
  {
   "cell_type": "markdown",
   "metadata": {},
   "source": [
    "ZADANIE: Sprawdzić do jakiego tematu pasuje nowy dokument i jakie są mu najbliższe\n"
   ]
  },
  {
   "cell_type": "code",
   "execution_count": 73,
   "metadata": {
    "collapsed": true
   },
   "outputs": [],
   "source": [
    "\n",
    "doc = \"Human computer interaction\""
   ]
  },
  {
   "cell_type": "code",
   "execution_count": 7,
   "metadata": {},
   "outputs": [],
   "source": [
    "#TODO"
   ]
  }
 ],
 "metadata": {
  "kernelspec": {
   "display_name": "Python 3",
   "language": "python",
   "name": "python3"
  },
  "language_info": {
   "codemirror_mode": {
    "name": "ipython",
    "version": 3
   },
   "file_extension": ".py",
   "mimetype": "text/x-python",
   "name": "python",
   "nbconvert_exporter": "python",
   "pygments_lexer": "ipython3",
   "version": "3.6.3"
  }
 },
 "nbformat": 4,
 "nbformat_minor": 2
}
