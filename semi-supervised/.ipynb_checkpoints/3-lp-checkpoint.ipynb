{
 "cells": [
  {
   "cell_type": "code",
   "execution_count": 1,
   "metadata": {
    "collapsed": true
   },
   "outputs": [],
   "source": [
    "import pandas as pd\n",
    "import numpy as np\n",
    "import matplotlib.pyplot as plt\n",
    "from sklearn.utils import shuffle\n",
    "import copy\n",
    "from scipy import stats\n",
    "from sklearn.datasets import make_blobs\n",
    "from sklearn.model_selection import train_test_split\n",
    "import random\n",
    "\n",
    "%matplotlib inline"
   ]
  },
  {
   "cell_type": "code",
   "execution_count": 2,
   "metadata": {
    "collapsed": true
   },
   "outputs": [],
   "source": [
    "def draw(model, X, y):\n",
    "\n",
    "    h = .02\n",
    "\n",
    "    # Plot the decision boundary. For that, we will assign a color to each\n",
    "    # point in the mesh [x_min, x_max]x[y_min, y_max].\n",
    "    x_min, x_max = X[:, 0].min() - .5, X[:, 0].max() + .5\n",
    "    y_min, y_max = X[:, 1].min() - .5, X[:, 1].max() + .5\n",
    "    xx, yy = np.meshgrid(np.arange(x_min, x_max, h), np.arange(y_min, y_max, h))\n",
    "    Z = model.predict(np.c_[xx.ravel(), yy.ravel()])\n",
    "\n",
    "    Z = Z.reshape(xx.shape)\n",
    "    plt.figure(1, figsize=(4, 3))\n",
    "    plt.pcolormesh(xx, yy, Z, cmap=plt.cm.Paired)\n",
    "\n",
    "    plt.scatter(X[:, 0], X[:, 1], c=y, edgecolors='k', cmap=plt.cm.Paired)\n",
    "    plt.xlabel('Sepal length')\n",
    "    plt.ylabel('Sepal width')"
   ]
  },
  {
   "cell_type": "markdown",
   "metadata": {},
   "source": [
    "# Wykorzystanie wewnętrznego podobieństwa punktów\n",
    "\n",
    "Weźmy zbiór blobs jak poprzednio."
   ]
  },
  {
   "cell_type": "code",
   "execution_count": 3,
   "metadata": {},
   "outputs": [
    {
     "data": {
      "image/png": "[encoded data removed]",
      "text/plain": [
       "<matplotlib.figure.Figure at 0x1ee06061860>"
      ]
     },
     "metadata": {},
     "output_type": "display_data"
    }
   ],
   "source": [
    "\n",
    "\n",
    "X, y = make_blobs(n_samples=210, centers = [[-2,0],[2,0]], random_state=42)\n",
    "y_save = copy.deepcopy(y)\n",
    "X_save = copy.deepcopy(X)\n",
    "plt.scatter(X[:, 0], X[:, 1])\n",
    "plt.axis('equal')\n",
    "plt.show()"
   ]
  },
  {
   "cell_type": "code",
   "execution_count": 4,
   "metadata": {
    "collapsed": true
   },
   "outputs": [],
   "source": [
    "\n",
    "\n",
    "num_labels = 10\n",
    "num_unlabeled = len(y_save)-num_labels\n",
    "random.seed(1)\n",
    "inds_unlabeled = random.sample(range(len(y_save)), num_unlabeled)\n",
    "y[inds_unlabeled] = -1\n"
   ]
  },
  {
   "cell_type": "code",
   "execution_count": 5,
   "metadata": {
    "collapsed": true
   },
   "outputs": [],
   "source": [
    "X_train = X_save[y>-1]\n",
    "X_test = X_save[y == -1]\n",
    "y_train = y_save[y > -1]\n",
    "y_test = y_save[y == -1]"
   ]
  },
  {
   "cell_type": "code",
   "execution_count": 6,
   "metadata": {},
   "outputs": [
    {
     "data": {
      "image/png": "[encoded data removed]",
      "text/plain": [
       "<matplotlib.figure.Figure at 0x1ee0607a0f0>"
      ]
     },
     "metadata": {},
     "output_type": "display_data"
    }
   ],
   "source": [
    "plt.scatter(X[y>=0][:,0], X[y>=0][:,1], c = y[y>=0])\n",
    "plt.show()"
   ]
  },
  {
   "cell_type": "markdown",
   "metadata": {},
   "source": [
    "Użyjmy modelu LabelPropagation, przetestujmy i narysujmy wynik"
   ]
  },
  {
   "cell_type": "code",
   "execution_count": 8,
   "metadata": {},
   "outputs": [],
   "source": [
    "#TODO"
   ]
  },
  {
   "cell_type": "markdown",
   "metadata": {},
   "source": [
    "ZADANIE: Weźmy trudniejszy zbiór. Proszę wypróbować LP"
   ]
  },
  {
   "cell_type": "code",
   "execution_count": 9,
   "metadata": {},
   "outputs": [
    {
     "data": {
      "image/png": "[encoded data removed]",
      "text/plain": [
       "<matplotlib.figure.Figure at 0x1ee0607a358>"
      ]
     },
     "metadata": {},
     "output_type": "display_data"
    }
   ],
   "source": [
    "from sklearn.datasets import make_circles\n",
    "X, y = make_circles(n_samples=210, shuffle=False)\n",
    "y_save = copy.deepcopy(y)\n",
    "X_save = copy.deepcopy(X)\n",
    "plt.scatter(X[:, 0], X[:, 1])\n",
    "plt.axis('equal')\n",
    "plt.show()"
   ]
  },
  {
   "cell_type": "code",
   "execution_count": 10,
   "metadata": {
    "collapsed": true
   },
   "outputs": [],
   "source": [
    "from sklearn.model_selection import train_test_split\n",
    "import random\n",
    "\n",
    "num_labels = 10\n",
    "num_unlabeled = len(y_save)-num_labels\n",
    "random.seed(1)\n",
    "inds_unlabeled = random.sample(range(len(y_save)), num_unlabeled)\n",
    "y[inds_unlabeled] = -1\n"
   ]
  },
  {
   "cell_type": "code",
   "execution_count": 11,
   "metadata": {},
   "outputs": [],
   "source": [
    "#TODO"
   ]
  },
  {
   "cell_type": "markdown",
   "metadata": {},
   "source": [
    "ZADANIE: Proszę wziąć kernel knn"
   ]
  },
  {
   "cell_type": "code",
   "execution_count": 12,
   "metadata": {},
   "outputs": [],
   "source": [
    "\n",
    "#TODO"
   ]
  },
  {
   "cell_type": "markdown",
   "metadata": {},
   "source": [
    "Sprawdźmy inny model - LabelSpreading"
   ]
  },
  {
   "cell_type": "code",
   "execution_count": 13,
   "metadata": {},
   "outputs": [],
   "source": [
    "\n",
    "#TODO"
   ]
  },
  {
   "cell_type": "markdown",
   "metadata": {},
   "source": [
    "# Label propagation:\n",
    "\n",
    "Dane:\n",
    "\n",
    "* $Y$ - macierz etykiet (znanych)\n",
    "* $F$ - macierz przejścia (podobieństw)\n",
    "\n",
    "Algorytm:\n",
    "\n",
    "* $Y = FY$ - propaguj etykiety (potem normalizacja do prawdopodobieństw)\n",
    "* Ustaw prawdziwe wartosci etykiet na $Y$\n",
    "* Powtarzaj aż do zbieżności\n",
    "\n",
    "Algorytm zbiega do globalnego rozwiązania"
   ]
  },
  {
   "cell_type": "markdown",
   "metadata": {},
   "source": [
    "# Label spreading:\n",
    "\n",
    "Dane:\n",
    "\n",
    "* $Y$ - macierz etykiet (znanych)\n",
    "* $F$ - macierz przejścia (podobieństw)\n",
    "\n",
    "Algorytm:\n",
    "\n",
    "* $S = D^{-1/2} F D^{-1/2}$ - normalizuj przejścia, tak żeby osłabić wagę wierzchołków o dużym stopniu\n",
    "* $S = \\alpha S + (1-\\alpha) Y$\n",
    "* Powtarzaj aż do zbieżności\n",
    "\n",
    "Algorytm zbiega do globalnego rozwiązania\n",
    "\n",
    "\n",
    "Różnice w porównaniu do poprzedniego:\n",
    "\n",
    "* może zmieniać część prawdziwych etykiet (do poziomu $\\alpha$), jeśli tylko wskazuje na to struktura danych\n",
    "* normalizacja stopniem (sumaryczną wagą) wierzchołka\n",
    "\n",
    "Label spreading jest następcą poprzedniego przez co jest trochę lepsze"
   ]
  },
  {
   "cell_type": "markdown",
   "metadata": {},
   "source": [
    "# Metody grafowe\n",
    "\n",
    "Metody grafowe to metody transdukcyjne tzn. nie pozwalają na łatwe przyporządkowanie nowych przykładów poza tymi na których były uczone."
   ]
  },
  {
   "cell_type": "code",
   "execution_count": null,
   "metadata": {
    "collapsed": true
   },
   "outputs": [],
   "source": []
  },
  {
   "cell_type": "code",
   "execution_count": null,
   "metadata": {
    "collapsed": true
   },
   "outputs": [],
   "source": []
  }
 ],
 "metadata": {
  "kernelspec": {
   "display_name": "Python 3",
   "language": "python",
   "name": "python3"
  },
  "language_info": {
   "codemirror_mode": {
    "name": "ipython",
    "version": 3
   },
   "file_extension": ".py",
   "mimetype": "text/x-python",
   "name": "python",
   "nbconvert_exporter": "python",
   "pygments_lexer": "ipython3",
   "version": "3.6.3"
  }
 },
 "nbformat": 4,
 "nbformat_minor": 2
}
