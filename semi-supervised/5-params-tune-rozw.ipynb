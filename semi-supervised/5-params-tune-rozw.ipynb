{
 "cells": [
  {
   "cell_type": "code",
   "execution_count": 1,
   "metadata": {},
   "outputs": [],
   "source": [
    "import pandas as pd\n",
    "import numpy as np\n",
    "import matplotlib.pyplot as plt\n",
    "from sklearn.utils import shuffle\n",
    "import copy\n",
    "from scipy import stats\n",
    "from sklearn.datasets import make_blobs\n",
    "from sklearn.model_selection import train_test_split\n",
    "import random\n",
    "from sklearn import datasets\n",
    "from sklearn.semi_supervised import LabelPropagation\n",
    "from sklearn.semi_supervised import LabelSpreading\n",
    "from sklearn.metrics import accuracy_score\n",
    "\n",
    "%matplotlib inline"
   ]
  },
  {
   "cell_type": "code",
   "execution_count": 2,
   "metadata": {},
   "outputs": [],
   "source": [
    "def draw(model, X, y):\n",
    "\n",
    "    h = .02\n",
    "\n",
    "    # Plot the decision boundary. For that, we will assign a color to each\n",
    "    # point in the mesh [x_min, x_max]x[y_min, y_max].\n",
    "    x_min, x_max = X[:, 0].min() - .5, X[:, 0].max() + .5\n",
    "    y_min, y_max = X[:, 1].min() - .5, X[:, 1].max() + .5\n",
    "    xx, yy = np.meshgrid(np.arange(x_min, x_max, h), np.arange(y_min, y_max, h))\n",
    "    Z = model.predict(np.c_[xx.ravel(), yy.ravel()])\n",
    "\n",
    "    Z = Z.reshape(xx.shape)\n",
    "    plt.figure(1, figsize=(4, 3))\n",
    "    plt.pcolormesh(xx, yy, Z, cmap=plt.cm.Paired)\n",
    "\n",
    "    plt.scatter(X[:, 0], X[:, 1], c=y, edgecolors='k', cmap=plt.cm.Paired)\n",
    "    plt.xlabel('Sepal length')\n",
    "    plt.ylabel('Sepal width')"
   ]
  },
  {
   "cell_type": "markdown",
   "metadata": {},
   "source": [
    "ZADANIE: Wypróbuj działanie poznanych klasyfikatorów na iris. Weź zbiór 10 etykietowanych przykładów. Użyj domyślnych parametrów dla różnych kerneli"
   ]
  },
  {
   "cell_type": "code",
   "execution_count": 3,
   "metadata": {},
   "outputs": [
    {
     "data": {
      "text/plain": [
       "10"
      ]
     },
     "execution_count": 3,
     "metadata": {},
     "output_type": "execute_result"
    }
   ],
   "source": [
    "\n",
    "\n",
    "rng = np.random.RandomState(42)\n",
    "iris = datasets.load_iris()\n",
    "labels = np.copy(iris.target)\n",
    "\n",
    "random.seed(1)\n",
    "num_labels = 10\n",
    "num_unlabeled = len(iris.target)-num_labels\n",
    "inds_unlabeled = random.sample(range(len(iris.target)), num_unlabeled)\n",
    "labels[inds_unlabeled] = -1\n",
    "\n",
    "len(labels[labels > -1])"
   ]
  },
  {
   "cell_type": "markdown",
   "metadata": {},
   "source": [
    "Zobaczmy domyśle działanie na iris"
   ]
  },
  {
   "cell_type": "code",
   "execution_count": 4,
   "metadata": {},
   "outputs": [
    {
     "name": "stdout",
     "output_type": "stream",
     "text": [
      "0.9533333333333334\n"
     ]
    }
   ],
   "source": [
    "\n",
    "\n",
    "label_prop_model = LabelPropagation()\n",
    "label_prop_model.fit(iris.data, labels)\n",
    "y_pred = label_prop_model.predict(iris.data)\n",
    "print(accuracy_score(y_pred, iris.target))\n"
   ]
  },
  {
   "cell_type": "code",
   "execution_count": 5,
   "metadata": {},
   "outputs": [
    {
     "name": "stdout",
     "output_type": "stream",
     "text": [
      "0.3333333333333333\n"
     ]
    },
    {
     "name": "stderr",
     "output_type": "stream",
     "text": [
      "C:\\Users\\marek\\Anaconda3\\lib\\site-packages\\sklearn\\semi_supervised\\label_propagation.py:277: RuntimeWarning: invalid value encountered in true_divide\n",
      "  self.label_distributions_ /= normalizer\n",
      "C:\\Users\\marek\\Anaconda3\\lib\\site-packages\\sklearn\\semi_supervised\\label_propagation.py:288: ConvergenceWarning: max_iter=1000 was reached without convergence.\n",
      "  category=ConvergenceWarning\n"
     ]
    }
   ],
   "source": [
    "label_prop_model = LabelPropagation(kernel='knn')\n",
    "label_prop_model.fit(iris.data, labels)\n",
    "y_pred = label_prop_model.predict(iris.data)\n",
    "print(accuracy_score(y_pred, iris.target))"
   ]
  },
  {
   "cell_type": "markdown",
   "metadata": {
    "collapsed": true
   },
   "source": [
    "Jeśli tylko mamy dość danych etykietowanych to warto uczyć hiperparametrów. Nistety, sklearn nie daje automatycznych metod uczenia hipeparametrów metod semi-supervised. Musimy to implementować sami.\n",
    "\n",
    "ZADANIE: Napisz metodę która robi CV dla LabelSpreading po ilościach sąsiadów"
   ]
  },
  {
   "cell_type": "code",
   "execution_count": 7,
   "metadata": {},
   "outputs": [
    {
     "name": "stdout",
     "output_type": "stream",
     "text": [
      "(150, 4)\n",
      "[-1 -1 -1 -1 -1 -1  0 -1  0  0  0 -1 -1 -1  0 -1 -1  0  0 -1 -1  0 -1 -1\n",
      " -1 -1 -1 -1 -1 -1 -1 -1  0  0 -1  0 -1 -1 -1 -1  0  0 -1  0 -1 -1 -1 -1\n",
      " -1  0 -1 -1 -1 -1 -1  1 -1  1 -1  1  1 -1  1 -1 -1 -1  1 -1 -1 -1 -1 -1\n",
      "  1  1  1 -1  1  1 -1 -1 -1 -1 -1 -1  1 -1 -1 -1 -1 -1  1  1 -1 -1  1 -1\n",
      "  1 -1 -1 -1 -1 -1  2 -1  2  2  2  2 -1 -1 -1 -1 -1 -1 -1 -1 -1 -1  2 -1\n",
      " -1 -1  2 -1 -1  2 -1  2  2  2  2 -1  2  2  2 -1 -1 -1  2 -1 -1 -1 -1  2\n",
      " -1 -1 -1  2 -1  2]\n"
     ]
    }
   ],
   "source": [
    "from sklearn import datasets\n",
    "from sklearn.semi_supervised import LabelPropagation\n",
    "from sklearn.semi_supervised import LabelSpreading\n",
    "\n",
    "rng = np.random.RandomState(42)\n",
    "iris = datasets.load_iris()\n",
    "labels = np.copy(iris.target)\n",
    "\n",
    "random.seed(1)\n",
    "num_labels = 50\n",
    "num_unlabeled = len(iris.target)-num_labels\n",
    "inds_unlabeled = random.sample(range(len(iris.target)), num_unlabeled)\n",
    "labels[inds_unlabeled] = -1\n",
    "\n",
    "len(labels[labels > -1])\n",
    "\n",
    "X= iris.data\n",
    "y=labels\n",
    "print(X.shape)\n",
    "print(y)"
   ]
  },
  {
   "cell_type": "code",
   "execution_count": 18,
   "metadata": {},
   "outputs": [],
   "source": [
    "from sklearn.model_selection import KFold\n",
    "folds = 3\n",
    "knns = [2, 6, 12]\n",
    "\n",
    "def CV(X, y, folds = 3):\n",
    "    \n",
    "    inds = np.arange(len(y))\n",
    "    l_inds = inds[y>-1]\n",
    "\n",
    "    kf = KFold(n_splits = folds, shuffle = True)\n",
    "\n",
    "    scores = [0,0,0]\n",
    "    for train_inds, test_inds in kf.split(l_inds):\n",
    "        y_labels = copy.deepcopy(y)\n",
    "        y_labels[l_inds[test_inds]] = -1\n",
    "#         y_test = l_inds[test_inds]\n",
    "        for k in range(len(knns)):\n",
    "            model = LabelSpreading(kernel='knn', n_neighbors = knns[k])\n",
    "            model.fit(X,y_labels)\n",
    "            y_pred = model.transduction_\n",
    "            y_test_pred = y_pred[l_inds[test_inds]]\n",
    "            y_test = y[l_inds[test_inds]]\n",
    "            acc = accuracy_score(y_test, y_test_pred)\n",
    "    #         print(acc)\n",
    "            scores[k] += acc\n",
    "    for i in range(len(scores)):\n",
    "        scores[i] /= folds\n",
    "    print(scores)\n",
    "    return np.argmax(scores)\n"
   ]
  },
  {
   "cell_type": "markdown",
   "metadata": {},
   "source": [
    "Uruchom metodę"
   ]
  },
  {
   "cell_type": "code",
   "execution_count": 19,
   "metadata": {},
   "outputs": [
    {
     "name": "stdout",
     "output_type": "stream",
     "text": [
      "[0.698529411764706, 0.9399509803921569, 0.8982843137254902]\n"
     ]
    },
    {
     "name": "stderr",
     "output_type": "stream",
     "text": [
      "C:\\Users\\marek\\Anaconda3\\lib\\site-packages\\sklearn\\semi_supervised\\label_propagation.py:293: RuntimeWarning: invalid value encountered in true_divide\n",
      "  self.label_distributions_ /= normalizer\n"
     ]
    },
    {
     "data": {
      "text/plain": [
       "1"
      ]
     },
     "execution_count": 19,
     "metadata": {},
     "output_type": "execute_result"
    }
   ],
   "source": [
    "CV(X,y)"
   ]
  },
  {
   "cell_type": "markdown",
   "metadata": {
    "collapsed": true
   },
   "source": [
    "ZADANIE: Napisz klasę, która pozwoli robić greed search po podanych parametrach i zwracać te wartości, które dają najwyższe accuracy. \n",
    "\n",
    "Zobacz: \n",
    "\n",
    "http://scikit-learn.org/stable/auto_examples/model_selection/plot_grid_search_digits.html#sphx-glr-auto-examples-model-selection-plot-grid-search-digits-py\n",
    "\n",
    "\n",
    "http://scikit-learn.org/stable/modules/generated/sklearn.model_selection.GridSearchCV.html#sklearn.model_selection.GridSearchCV"
   ]
  },
  {
   "cell_type": "code",
   "execution_count": 24,
   "metadata": {},
   "outputs": [],
   "source": [
    "from itertools import product\n",
    "\n",
    "class GridSearchCVSemi:\n",
    "    def __init__(self, model, param_grid, cv):\n",
    "        self.model = model\n",
    "        self.params_grid = params_grid\n",
    "        self.cv = cv\n",
    "        \n",
    "    def fit(self, X, y):\n",
    "        inds = np.arange(len(y))\n",
    "        l_inds = inds[y>-1]\n",
    "        kf = KFold(n_splits = self.cv, shuffle = True)\n",
    "        \n",
    "        params_list = list(product(*self.params_grid.values()))\n",
    "        keys = list(self.params_grid.keys())\n",
    "        scores = [0] * len(params_list)\n",
    "        \n",
    "        for train_inds, test_inds in kf.split(l_inds):\n",
    "            y_labels = copy.deepcopy(y)\n",
    "            y_labels[l_inds[test_inds]] = -1\n",
    "            y_test = y[l_inds[test_inds]]\n",
    "            \n",
    "            \n",
    "            \n",
    "            for i,params in enumerate(params_list):\n",
    "                dic = {}\n",
    "                for i,k in enumerate(keys):\n",
    "                    dic[k] = params[i]\n",
    "                self.model.set_params(**dic)\n",
    "                self.model.fit(X,y_labels)\n",
    "                y_pred = self.model.transduction_\n",
    "                y_test_pred = y_pred[l_inds[test_inds]]\n",
    "                y_test = y[l_inds[test_inds]]\n",
    "                acc = accuracy_score(y_test, y_test_pred)\n",
    "#                 print(acc)\n",
    "                scores[i] += acc\n",
    "        ind = np.argmax(scores)\n",
    "        dic = {}\n",
    "        for i,k in enumerate(keys):\n",
    "            dic[k] = params_list[ind][i]\n",
    "        self.model.set_params(**dic)\n",
    "        self.model.fit(X,y)\n",
    "        \n",
    "        return self.model.transduction_"
   ]
  },
  {
   "cell_type": "markdown",
   "metadata": {},
   "source": [
    "ZADANIE: Uruchamiamy model"
   ]
  },
  {
   "cell_type": "code",
   "execution_count": 26,
   "metadata": {},
   "outputs": [],
   "source": [
    "params_grid = {'kernel': ['rbf'], 'gamma': [0.1, 1., 10, 20]}\n",
    "gs = GridSearchCVSemi(LabelSpreading(), params_grid, 3)\n",
    "y_pred = gs.fit(X,y)"
   ]
  },
  {
   "cell_type": "code",
   "execution_count": 27,
   "metadata": {},
   "outputs": [
    {
     "data": {
      "text/plain": [
       "0.9666666666666667"
      ]
     },
     "execution_count": 27,
     "metadata": {},
     "output_type": "execute_result"
    }
   ],
   "source": [
    "accuracy_score(iris.target, y_pred)"
   ]
  },
  {
   "cell_type": "markdown",
   "metadata": {},
   "source": [
    "ZADANIE: Użyj napisanej klasy do porównania różnych metod semi-supervised na zbiorze digits dla 50 etykeitowanych przykładów"
   ]
  },
  {
   "cell_type": "code",
   "execution_count": 18,
   "metadata": {
    "collapsed": true
   },
   "outputs": [],
   "source": [
    "#TODO"
   ]
  },
  {
   "cell_type": "code",
   "execution_count": null,
   "metadata": {
    "collapsed": true
   },
   "outputs": [],
   "source": []
  }
 ],
 "metadata": {
  "kernelspec": {
   "display_name": "Python 3",
   "language": "python",
   "name": "python3"
  },
  "language_info": {
   "codemirror_mode": {
    "name": "ipython",
    "version": 3
   },
   "file_extension": ".py",
   "mimetype": "text/x-python",
   "name": "python",
   "nbconvert_exporter": "python",
   "pygments_lexer": "ipython3",
   "version": "3.6.5"
  }
 },
 "nbformat": 4,
 "nbformat_minor": 2
}
