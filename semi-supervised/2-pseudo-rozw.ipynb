{
 "cells": [
  {
   "cell_type": "code",
   "execution_count": 29,
   "metadata": {
    "collapsed": true
   },
   "outputs": [],
   "source": [
    "import pandas as pd\n",
    "import numpy as np\n",
    "import matplotlib.pyplot as plt\n",
    "import random\n",
    "%matplotlib inline\n",
    "\n",
    "from sklearn.utils import shuffle\n",
    "import copy\n",
    "from scipy import stats\n",
    "from sklearn.datasets import make_blobs\n",
    "from sklearn.metrics import accuracy_score\n",
    "from sklearn import datasets\n",
    "from sklearn.model_selection import train_test_split"
   ]
  },
  {
   "cell_type": "code",
   "execution_count": 30,
   "metadata": {
    "collapsed": true
   },
   "outputs": [],
   "source": [
    "def draw(model, X, y):\n",
    "\n",
    "    h = .02\n",
    "\n",
    "    # Plot the decision boundary. For that, we will assign a color to each\n",
    "    # point in the mesh [x_min, x_max]x[y_min, y_max].\n",
    "    x_min, x_max = X[:, 0].min() - .5, X[:, 0].max() + .5\n",
    "    y_min, y_max = X[:, 1].min() - .5, X[:, 1].max() + .5\n",
    "    xx, yy = np.meshgrid(np.arange(x_min, x_max, h), np.arange(y_min, y_max, h))\n",
    "    Z = model.predict(np.c_[xx.ravel(), yy.ravel()])\n",
    "\n",
    "    Z = Z.reshape(xx.shape)\n",
    "    plt.figure(1, figsize=(4, 3))\n",
    "    plt.pcolormesh(xx, yy, Z, cmap=plt.cm.Paired)\n",
    "\n",
    "    plt.scatter(X[:, 0], X[:, 1], c=y, edgecolors='k', cmap=plt.cm.Paired)\n",
    "    plt.xlabel('Sepal length')\n",
    "    plt.ylabel('Sepal width')"
   ]
  },
  {
   "cell_type": "markdown",
   "metadata": {},
   "source": [
    "# Semi-supervised learning\n",
    "\n",
    "Załóżmy, że mamy 10 przykładów z etykietami i nie jesteśmy w stanie dostrczyć więcej etykiet. Mamy też dużo danych bez etykiet. Jak je wykorzystać?"
   ]
  },
  {
   "cell_type": "markdown",
   "metadata": {},
   "source": [
    "# Toy example"
   ]
  },
  {
   "cell_type": "code",
   "execution_count": 31,
   "metadata": {
    "scrolled": true
   },
   "outputs": [
    {
     "data": {
      "image/png": "[encoded data removed]",
      "text/plain": [
       "<matplotlib.figure.Figure at 0x13534fe2b00>"
      ]
     },
     "metadata": {},
     "output_type": "display_data"
    }
   ],
   "source": [
    "\n",
    "\n",
    "X, y = make_blobs(n_samples=210, centers = [[-2,0],[2,0]], random_state=42)\n",
    "# X, y = make_moons(n_samples=200, noise=0.05, random_state=42)\n",
    "y_save = copy.deepcopy(y)\n",
    "X_save = copy.deepcopy(X)\n",
    "plt.scatter(X[:, 0], X[:, 1])\n",
    "plt.axis('equal')\n",
    "plt.show()"
   ]
  },
  {
   "cell_type": "code",
   "execution_count": 32,
   "metadata": {},
   "outputs": [
    {
     "name": "stdout",
     "output_type": "stream",
     "text": [
      "200\n",
      "10\n"
     ]
    }
   ],
   "source": [
    "\n",
    "\n",
    "num_labels = 10\n",
    "num_unlabeled = len(y_save)-num_labels\n",
    "print(num_unlabeled)\n",
    "print(num_labels)\n",
    "random.seed(1)\n",
    "inds_unlabeled = random.sample(range(len(y_save)), num_unlabeled)\n",
    "y[inds_unlabeled] = -1\n"
   ]
  },
  {
   "cell_type": "code",
   "execution_count": 33,
   "metadata": {
    "collapsed": true
   },
   "outputs": [],
   "source": [
    "X_train = X_save[y>-1]\n",
    "X_test = X_save[y == -1]\n",
    "y_train = y_save[y > -1]\n",
    "y_test = y_save[y == -1]"
   ]
  },
  {
   "cell_type": "code",
   "execution_count": 34,
   "metadata": {},
   "outputs": [
    {
     "data": {
      "image/png": "[encoded data removed]",
      "text/plain": [
       "<matplotlib.figure.Figure at 0x135350a87f0>"
      ]
     },
     "metadata": {},
     "output_type": "display_data"
    }
   ],
   "source": [
    "plt.scatter(X[y>=0][:,0], X[y>=0][:,1], c = y[y>=0])\n",
    "plt.show()"
   ]
  },
  {
   "cell_type": "markdown",
   "metadata": {},
   "source": [
    "ZADANIE: napisz klasę self-trainera, który sam etykietuje najbardziej pewne etykiety. "
   ]
  },
  {
   "cell_type": "code",
   "execution_count": 35,
   "metadata": {
    "collapsed": true
   },
   "outputs": [],
   "source": [
    "\n",
    "\n",
    "class PseudoLabeler:\n",
    "    def __init__(self, model, sample_rate=0.05, upper_bound = 1.0, seed=42):\n",
    "        self.sample_rate = sample_rate\n",
    "        self.upper_bound = upper_bound\n",
    "        self.seed = seed\n",
    "        self.model = model\n",
    "        self.model.seed = seed\n",
    "        \n",
    "    def fit(self, X, y):\n",
    "        X_aug = X[y >= 0]\n",
    "        y_aug = y[y >= 0]\n",
    "        X_pool = X[y == -1]\n",
    "        rate = self.sample_rate    \n",
    "        num_labels = int(X_pool.shape[0] * self.sample_rate)\n",
    "        while rate <= self.upper_bound:\n",
    "            X_aug, y_aug, X_pool = self.pseudo_label(X_aug, y_aug, X_pool, num_labels)\n",
    "            rate += self.sample_rate\n",
    "        self.model.fit(X_aug, y_aug)\n",
    "        return self\n",
    "    \n",
    "    def pseudo_label(self, X, y, X_pool, num_labels):\n",
    "        # Train the model and creat the pseudo-labels\n",
    "        self.model.fit(X, y)\n",
    "        proba_labels = self.model.predict_proba(X_pool)\n",
    "        pseudo_labels = self.model.predict(X_pool)\n",
    "              \n",
    "        # Take a subset of the pool set with pseudo-labels and append in onto the training set\n",
    "        ind_selected = self.select_by_confidence2(proba_labels, num_labels)\n",
    "        X_aug = np.vstack((X, X_pool[ind_selected]))\n",
    "        y_aug = np.hstack((y, pseudo_labels[ind_selected]))\n",
    "        X_pool = np.delete(X_pool, ind_selected, 0)\n",
    "\n",
    "        return X_aug, y_aug, X_pool\n",
    "    \n",
    "    def select_by_sampling(self, proba, num_labels):\n",
    "        return random.sample(range(len(proba)), num_labels)\n",
    "    \n",
    "    \n",
    "    def select_by_confidence2(self, proba, num_labels):\n",
    "        p_ind_sort = np.argsort(proba, axis = 0)[::-1]\n",
    "        portion = int(num_labels/p_ind_sort.shape[1])\n",
    "        inds = p_ind_sort[:portion, :].flatten().tolist()\n",
    "        return inds\n",
    "    \n",
    "    def predict(self, X):\n",
    "        return self.model.predict(X)\n",
    "        \n"
   ]
  },
  {
   "cell_type": "markdown",
   "metadata": {},
   "source": [
    "ZADANIE: Naucz self trainera"
   ]
  },
  {
   "cell_type": "code",
   "execution_count": 36,
   "metadata": {},
   "outputs": [
    {
     "data": {
      "text/plain": [
       "<__main__.PseudoLabeler at 0x135362847f0>"
      ]
     },
     "execution_count": 36,
     "metadata": {},
     "output_type": "execute_result"
    }
   ],
   "source": [
    "from sklearn.naive_bayes import GaussianNB\n",
    "from sklearn import linear_model\n",
    "\n",
    "model = PseudoLabeler(\n",
    "    linear_model.LogisticRegression(C=1e5, random_state= 42)\n",
    ")\n",
    "model.fit(X, y)\n"
   ]
  },
  {
   "cell_type": "code",
   "execution_count": 37,
   "metadata": {},
   "outputs": [
    {
     "name": "stdout",
     "output_type": "stream",
     "text": [
      "1.0\n",
      "0.98\n"
     ]
    }
   ],
   "source": [
    "y_train_pred = model.predict(X_train)\n",
    "y_test_pred = model.predict(X_test)\n",
    "print(accuracy_score(y_train, y_train_pred))\n",
    "print(accuracy_score(y_test, y_test_pred))"
   ]
  },
  {
   "cell_type": "code",
   "execution_count": 38,
   "metadata": {},
   "outputs": [
    {
     "data": {
      "image/png": "[encoded data removed]",
      "text/plain": [
       "<matplotlib.figure.Figure at 0x1353509f208>"
      ]
     },
     "metadata": {},
     "output_type": "display_data"
    }
   ],
   "source": [
    "draw(model, X, y)"
   ]
  },
  {
   "cell_type": "markdown",
   "metadata": {
    "collapsed": true
   },
   "source": [
    "ZADANIE: Naucz zwykły klasyfikator"
   ]
  },
  {
   "cell_type": "code",
   "execution_count": 39,
   "metadata": {},
   "outputs": [
    {
     "name": "stdout",
     "output_type": "stream",
     "text": [
      "1.0\n",
      "0.9\n"
     ]
    }
   ],
   "source": [
    "m2 = linear_model.LogisticRegression(C=1e5, random_state= 42)\n",
    "m2.fit(X_train, y_train)\n",
    "y_train_pred2 = m2.predict(X_train)\n",
    "y_test_pred2 = m2.predict(X_test)\n",
    "\n",
    "print(accuracy_score(y_train, y_train_pred2))\n",
    "print(accuracy_score(y_test, y_test_pred2))\n"
   ]
  },
  {
   "cell_type": "code",
   "execution_count": 40,
   "metadata": {},
   "outputs": [
    {
     "data": {
      "image/png": "[encoded data removed]",
      "text/plain": [
       "<matplotlib.figure.Figure at 0x13536284208>"
      ]
     },
     "metadata": {},
     "output_type": "display_data"
    }
   ],
   "source": [
    "draw(m2, X, y)"
   ]
  },
  {
   "cell_type": "code",
   "execution_count": null,
   "metadata": {
    "collapsed": true
   },
   "outputs": [],
   "source": []
  },
  {
   "cell_type": "markdown",
   "metadata": {},
   "source": [
    "# Real data\n",
    "\n",
    "Weź zbiór digits i porównaj wyniki"
   ]
  },
  {
   "cell_type": "code",
   "execution_count": 53,
   "metadata": {
    "collapsed": true
   },
   "outputs": [],
   "source": [
    "from sklearn import datasets\n",
    "\n",
    "digits = datasets.load_digits()\n",
    "rng = np.random.RandomState(0)\n",
    "indices = np.arange(len(digits.data))\n",
    "rng.shuffle(indices)\n",
    "\n",
    "X = digits.data[indices[:500]]\n",
    "y = digits.target[indices[:500]]\n",
    "images = digits.images[indices[:500]]"
   ]
  },
  {
   "cell_type": "code",
   "execution_count": 54,
   "metadata": {},
   "outputs": [
    {
     "name": "stdout",
     "output_type": "stream",
     "text": [
      "470\n",
      "30\n"
     ]
    },
    {
     "data": {
      "text/plain": [
       "10"
      ]
     },
     "execution_count": 54,
     "metadata": {},
     "output_type": "execute_result"
    }
   ],
   "source": [
    "\n",
    "\n",
    "y_save = copy.deepcopy(y)\n",
    "X_save = copy.deepcopy(X)\n",
    "\n",
    "num_labels = 30\n",
    "num_unlabeled = len(y_save)-num_labels\n",
    "print(num_unlabeled)\n",
    "print(num_labels)\n",
    "random.seed(1)\n",
    "inds_unlabeled = random.sample(range(len(y_save)), num_unlabeled)\n",
    "y[inds_unlabeled] = -1\n",
    "len(set(y_save[y > -1]))"
   ]
  },
  {
   "cell_type": "code",
   "execution_count": 55,
   "metadata": {
    "collapsed": true
   },
   "outputs": [],
   "source": [
    "X_train = X_save[y>-1]\n",
    "X_test = X_save[y == -1]\n",
    "y_train = y_save[y > -1]\n",
    "y_test = y_save[y == -1]"
   ]
  },
  {
   "cell_type": "code",
   "execution_count": 56,
   "metadata": {},
   "outputs": [
    {
     "data": {
      "text/plain": [
       "<__main__.PseudoLabeler at 0x1353506db38>"
      ]
     },
     "execution_count": 56,
     "metadata": {},
     "output_type": "execute_result"
    }
   ],
   "source": [
    "from sklearn.naive_bayes import GaussianNB\n",
    "from sklearn import linear_model\n",
    "\n",
    "model = PseudoLabeler(\n",
    "    linear_model.LogisticRegression(C=1e5, random_state= 42)\n",
    ")\n",
    "model.fit(X, y)\n"
   ]
  },
  {
   "cell_type": "code",
   "execution_count": 57,
   "metadata": {},
   "outputs": [
    {
     "name": "stdout",
     "output_type": "stream",
     "text": [
      "1.0\n",
      "0.787234042553\n"
     ]
    }
   ],
   "source": [
    "from sklearn.metrics import accuracy_score\n",
    "\n",
    "y_train_pred = model.predict(X_train)\n",
    "y_test_pred = model.predict(X_test)\n",
    "\n",
    "print(accuracy_score(y_train, y_train_pred))\n",
    "print(accuracy_score(y_test, y_test_pred))"
   ]
  },
  {
   "cell_type": "code",
   "execution_count": null,
   "metadata": {
    "collapsed": true
   },
   "outputs": [],
   "source": []
  },
  {
   "cell_type": "code",
   "execution_count": 58,
   "metadata": {},
   "outputs": [
    {
     "name": "stdout",
     "output_type": "stream",
     "text": [
      "1.0\n",
      "0.708510638298\n"
     ]
    }
   ],
   "source": [
    "m2 = linear_model.LogisticRegression(C=1e5, random_state= 42)\n",
    "m2.fit(X_train, y_train)\n",
    "y_train_pred2 = m2.predict(X_train)\n",
    "y_test_pred2 = m2.predict(X_test)\n",
    "\n",
    "print(accuracy_score(y_train, y_train_pred2))\n",
    "print(accuracy_score(y_test, y_test_pred2))\n"
   ]
  },
  {
   "cell_type": "code",
   "execution_count": null,
   "metadata": {
    "collapsed": true
   },
   "outputs": [],
   "source": []
  },
  {
   "cell_type": "markdown",
   "metadata": {},
   "source": [
    "# Benchmark\n",
    "\n",
    "ZADANIE: Wykorzystaj różne klasyfikatory i porównaj czy nasz SSL jest nadal sensowny."
   ]
  },
  {
   "cell_type": "code",
   "execution_count": 351,
   "metadata": {
    "collapsed": true
   },
   "outputs": [],
   "source": [
    "#TODO"
   ]
  },
  {
   "cell_type": "code",
   "execution_count": null,
   "metadata": {
    "collapsed": true
   },
   "outputs": [],
   "source": []
  }
 ],
 "metadata": {
  "kernelspec": {
   "display_name": "Python 3",
   "language": "python",
   "name": "python3"
  },
  "language_info": {
   "codemirror_mode": {
    "name": "ipython",
    "version": 3
   },
   "file_extension": ".py",
   "mimetype": "text/x-python",
   "name": "python",
   "nbconvert_exporter": "python",
   "pygments_lexer": "ipython3",
   "version": "3.6.5"
  }
 },
 "nbformat": 4,
 "nbformat_minor": 2
}
