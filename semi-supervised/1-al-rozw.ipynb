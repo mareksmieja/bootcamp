{
 "cells": [
  {
   "cell_type": "code",
   "execution_count": 4,
   "metadata": {},
   "outputs": [],
   "source": [
    "import pandas as pd\n",
    "import numpy as np\n",
    "import matplotlib.pyplot as plt\n",
    "%matplotlib inline\n",
    "\n",
    "import random\n",
    "from sklearn.linear_model import LogisticRegression\n",
    "from sklearn.metrics import accuracy_score\n",
    "from sklearn.model_selection import train_test_split"
   ]
  },
  {
   "cell_type": "markdown",
   "metadata": {},
   "source": [
    "ZADANIE: Weź 300 przykładów zbioru digits. Porównaj wynik klasyfikacji biorąc jako test ustalone 100 przykładów, a jako trening 10,20,...,100 przykładów. Uruchom logistyczną regresję i narysuj zależność accuracy od ilości danych w treningu."
   ]
  },
  {
   "cell_type": "code",
   "execution_count": 25,
   "metadata": {
    "scrolled": true
   },
   "outputs": [],
   "source": [
    "from sklearn import datasets\n",
    "\n",
    "digits = datasets.load_digits()\n",
    "rng = np.random.RandomState(0)\n",
    "indices = np.arange(len(digits.data))\n",
    "rng.shuffle(indices)\n",
    "\n",
    "X = digits.data[indices[:300]]\n",
    "y = digits.target[indices[:300]]\n",
    "images = digits.images[indices[:300]]"
   ]
  },
  {
   "cell_type": "code",
   "execution_count": 26,
   "metadata": {},
   "outputs": [],
   "source": [
    "X_train, X_test, y_train, y_test = train_test_split(\n",
    "    X, y, test_size=0.333,random_state=42)"
   ]
  },
  {
   "cell_type": "code",
   "execution_count": 27,
   "metadata": {},
   "outputs": [
    {
     "name": "stdout",
     "output_type": "stream",
     "text": [
      "(200, 64)\n",
      "(100, 64)\n",
      "10\n"
     ]
    }
   ],
   "source": [
    "print(X_train.shape)\n",
    "print(X_test.shape)\n",
    "print(len(set(y_train)))"
   ]
  },
  {
   "cell_type": "code",
   "execution_count": 28,
   "metadata": {},
   "outputs": [
    {
     "name": "stderr",
     "output_type": "stream",
     "text": [
      "C:\\Users\\marek\\Anaconda3\\lib\\site-packages\\sklearn\\discriminant_analysis.py:388: UserWarning: Variables are collinear.\n",
      "  warnings.warn(\"Variables are collinear.\")\n"
     ]
    }
   ],
   "source": [
    "\n",
    "tab = []\n",
    "inds = range(X_train.shape[0])\n",
    "num_training = [10,20,30,40,50,60,70,80,90,100]\n",
    "random.seed(0)\n",
    "\n",
    "for k in num_training:\n",
    "    samples = random.sample(inds,k)\n",
    "    train_samples = X_train[samples, :]\n",
    "    train_labels = y_train[samples]\n",
    "#     model = LogisticRegression(C=1e5)\n",
    "    model = LinearDiscriminantAnalysis()\n",
    "    model.fit(train_samples, train_labels)\n",
    "    y_pred = model.predict(X_test)\n",
    "    tab.append(accuracy_score(y_test, y_pred))\n",
    "    "
   ]
  },
  {
   "cell_type": "code",
   "execution_count": 29,
   "metadata": {},
   "outputs": [
    {
     "data": {
      "image/png": "[encoded data removed]",
      "text/plain": [
       "<Figure size 432x288 with 1 Axes>"
      ]
     },
     "metadata": {},
     "output_type": "display_data"
    }
   ],
   "source": [
    "plt.plot(num_training, tab)\n",
    "plt.show()"
   ]
  },
  {
   "cell_type": "code",
   "execution_count": 30,
   "metadata": {},
   "outputs": [
    {
     "data": {
      "text/plain": [
       "0.6"
      ]
     },
     "execution_count": 30,
     "metadata": {},
     "output_type": "execute_result"
    }
   ],
   "source": [
    "tab[2]"
   ]
  },
  {
   "cell_type": "markdown",
   "metadata": {},
   "source": [
    "Załóżmy, że możemy pozyskać 30 przykładów i możemy które przykłady chcemy poetykietować. Jak je wybrać?"
   ]
  },
  {
   "cell_type": "code",
   "execution_count": 10,
   "metadata": {},
   "outputs": [
    {
     "data": {
      "text/plain": [
       "(10, 64)"
      ]
     },
     "execution_count": 10,
     "metadata": {},
     "output_type": "execute_result"
    }
   ],
   "source": [
    "X_labeled, X_unlabeled, y_labeled, y_unlabeled = train_test_split(X_train, y_train, test_size=0.95,random_state=42)\n",
    "X_labeled.shape\n"
   ]
  },
  {
   "cell_type": "markdown",
   "metadata": {},
   "source": [
    "ZADANIE: Zaimplementuj active learnera z kryterium entropijnym oraz losowym. Porównaj ich działanie na postawionym powyżej problemie"
   ]
  },
  {
   "cell_type": "code",
   "execution_count": 33,
   "metadata": {},
   "outputs": [],
   "source": [
    "from sklearn.utils import shuffle\n",
    "from sklearn.base import BaseEstimator\n",
    "import copy\n",
    "from scipy import stats\n",
    "import random\n",
    "\n",
    "class AL(BaseEstimator):\n",
    "    def __init__(self, model, X_test, y_test, sampling_style = 'entropy', \n",
    "                 sample_num=2, upper_bound = 30, seed=42):\n",
    "        self.sample_num = sample_num\n",
    "        self.upper_bound = upper_bound\n",
    "        self.seed = seed\n",
    "        self.model = model\n",
    "        self.model.seed = seed\n",
    "        self.X_test = X_test\n",
    "        self.y_test = y_test\n",
    "        self.sampling_style = sampling_style\n",
    "        \n",
    "    def fit(self, X, y):\n",
    "        num = X.shape[0]    \n",
    "        X_aug = copy.deepcopy(X)\n",
    "        y_aug = copy.deepcopy(y)\n",
    "        X_pool = copy.deepcopy(X_test)\n",
    "        y_pool = copy.deepcopy(y_test)\n",
    "        while num <= self.upper_bound-X.shape[0]:\n",
    "            X_aug, y_aug, X_pool, y_pool = self.active_label(X_aug, y_aug, X_pool, y_pool)\n",
    "            num += self.sample_num\n",
    "        self.model.fit(X_aug, y_aug)\n",
    "        return self\n",
    "    \n",
    "    def active_label(self, X, y, X_pool, y_pool):\n",
    "        \n",
    "        # Train the model and creat the pseudo-labels\n",
    "        self.model.fit(X, y)\n",
    "        proba_labels = self.model.predict_proba(X_pool)\n",
    "        # Take a subset of the pool set with pseudo-labels and append in onto the training set\n",
    "        if self.sampling_style == 'entropy':\n",
    "            ind_selected = self.select_by_entropy(proba_labels)\n",
    "        else:\n",
    "            ind_selected = self.select_by_sampling(proba_labels)\n",
    "        X_aug = np.vstack((X, X_pool[ind_selected]))\n",
    "        y_aug = np.hstack((y, y_pool[ind_selected]))\n",
    "        X_pool = np.delete(X_pool, ind_selected, 0)\n",
    "        y_pool = np.delete(y_pool, ind_selected, 0)\n",
    "        \n",
    "        return X_aug, y_aug, X_pool, y_pool\n",
    "    \n",
    "    def select_by_sampling(self, proba):\n",
    "        print(\"sampling\")\n",
    "        return random.sample(range(len(proba)), self.sample_num)\n",
    "    \n",
    "      \n",
    "    def select_by_entropy(self, proba):\n",
    "        print(\"entropy\")\n",
    "        entropies = stats.distributions.entropy(proba.T)\n",
    "        inds = (np.argsort(entropies)[::-1]).tolist()\n",
    "        return inds[:self.sample_num]\n",
    "    \n",
    "    def predict(self, X):\n",
    "        return self.model.predict(X)\n",
    "        \n"
   ]
  },
  {
   "cell_type": "markdown",
   "metadata": {},
   "source": [
    "ZADANIE: Użyjmy entropijnego"
   ]
  },
  {
   "cell_type": "code",
   "execution_count": 34,
   "metadata": {},
   "outputs": [
    {
     "name": "stdout",
     "output_type": "stream",
     "text": [
      "entropy\n",
      "entropy\n",
      "entropy\n",
      "entropy\n",
      "entropy\n",
      "entropy\n"
     ]
    },
    {
     "data": {
      "text/plain": [
       "AL(X_test=array([[ 0.,  0., ...,  0.,  0.],\n",
       "       [ 0.,  3., ...,  0.,  0.],\n",
       "       ...,\n",
       "       [ 0.,  0., ...,  0.,  0.],\n",
       "       [ 0.,  1., ..., 16.,  0.]]),\n",
       "  model=LogisticRegression(C=100000.0, class_weight=None, dual=False,\n",
       "          fit_intercept=True, intercept_scaling=1, max_iter=100,\n",
       "          multi_class='ovr', n_jobs=1, penalty='l2', random_state=None,\n",
       "          solver='liblinear', tol=0.0001, verbose=0, warm_start=False),\n",
       "  sample_num=2, sampling_style='entropy', seed=42, upper_bound=30,\n",
       "  y_test=array([8, 8, ..., 1, 2]))"
      ]
     },
     "execution_count": 34,
     "metadata": {},
     "output_type": "execute_result"
    }
   ],
   "source": [
    "from sklearn.ensemble import GradientBoostingRegressor\n",
    "\n",
    "from sklearn import linear_model\n",
    "\n",
    "model = AL(\n",
    "    linear_model.LogisticRegression(C=1e5),\n",
    "    X_unlabeled,\n",
    "    y_unlabeled,\n",
    "    'entropy'\n",
    ")\n",
    "# Train the model and use it to predict\n",
    "model.fit(X_labeled, y_labeled)\n"
   ]
  },
  {
   "cell_type": "code",
   "execution_count": 35,
   "metadata": {},
   "outputs": [
    {
     "data": {
      "text/plain": [
       "(200, 64)"
      ]
     },
     "execution_count": 35,
     "metadata": {},
     "output_type": "execute_result"
    }
   ],
   "source": [
    "X_train.shape"
   ]
  },
  {
   "cell_type": "code",
   "execution_count": 36,
   "metadata": {},
   "outputs": [],
   "source": [
    "y_train_pred = model.predict(X_train)\n",
    "y_test_pred = model.predict(X_test)"
   ]
  },
  {
   "cell_type": "code",
   "execution_count": 37,
   "metadata": {},
   "outputs": [
    {
     "name": "stdout",
     "output_type": "stream",
     "text": [
      "0.805\n",
      "0.8\n"
     ]
    }
   ],
   "source": [
    "from sklearn.metrics import accuracy_score\n",
    "\n",
    "print(accuracy_score(y_train, y_train_pred))\n",
    "print(accuracy_score(y_test, y_test_pred))"
   ]
  },
  {
   "cell_type": "markdown",
   "metadata": {
    "collapsed": true
   },
   "source": [
    "ZADANIE: Użyjmy randomowego"
   ]
  },
  {
   "cell_type": "code",
   "execution_count": 16,
   "metadata": {},
   "outputs": [
    {
     "name": "stdout",
     "output_type": "stream",
     "text": [
      "sampling\n",
      "sampling\n"
     ]
    },
    {
     "data": {
      "text/plain": [
       "AL(X_test=array([[ 0.,  0., ...,  0.,  0.],\n",
       "       [ 0.,  3., ...,  0.,  0.],\n",
       "       ...,\n",
       "       [ 0.,  0., ...,  0.,  0.],\n",
       "       [ 0.,  1., ..., 16.,  0.]]),\n",
       "  model=LogisticRegression(C=100000.0, class_weight=None, dual=False,\n",
       "          fit_intercept=True, intercept_scaling=1, max_iter=100,\n",
       "          multi_class='ovr', n_jobs=1, penalty='l2', random_state=None,\n",
       "          solver='liblinear', tol=0.0001, verbose=0, warm_start=False),\n",
       "  sample_num=10, sampling_style='random', seed=42, upper_bound=30,\n",
       "  y_test=array([8, 8, ..., 1, 2]))"
      ]
     },
     "execution_count": 16,
     "metadata": {},
     "output_type": "execute_result"
    }
   ],
   "source": [
    "from sklearn.ensemble import GradientBoostingRegressor\n",
    "\n",
    "from sklearn import linear_model\n",
    "\n",
    "model_random = AL(\n",
    "    linear_model.LogisticRegression(C=1e5),\n",
    "    X_unlabeled,\n",
    "    y_unlabeled,\n",
    "    'random'\n",
    ")\n",
    "# Train the model and use it to predict\n",
    "model_random.fit(X_labeled, y_labeled)\n"
   ]
  },
  {
   "cell_type": "code",
   "execution_count": 17,
   "metadata": {},
   "outputs": [
    {
     "name": "stdout",
     "output_type": "stream",
     "text": [
      "0.58\n",
      "0.64\n"
     ]
    }
   ],
   "source": [
    "y_train_pred = model_random.predict(X_train)\n",
    "y_test_pred = model_random.predict(X_test)\n",
    "print(accuracy_score(y_train, y_train_pred))\n",
    "print(accuracy_score(y_test, y_test_pred))"
   ]
  },
  {
   "cell_type": "markdown",
   "metadata": {},
   "source": [
    "ZADANIE: Weź jakiś klasyfikator nieliniowy i spradź działanie"
   ]
  },
  {
   "cell_type": "code",
   "execution_count": 31,
   "metadata": {},
   "outputs": [
    {
     "name": "stdout",
     "output_type": "stream",
     "text": [
      "entropy\n",
      "entropy\n"
     ]
    },
    {
     "name": "stderr",
     "output_type": "stream",
     "text": [
      "C:\\Users\\marek\\Anaconda3\\lib\\site-packages\\sklearn\\discriminant_analysis.py:388: UserWarning: Variables are collinear.\n",
      "  warnings.warn(\"Variables are collinear.\")\n",
      "C:\\Users\\marek\\Anaconda3\\lib\\site-packages\\sklearn\\discriminant_analysis.py:442: UserWarning: The priors do not sum to 1. Renormalizing\n",
      "  UserWarning)\n"
     ]
    },
    {
     "data": {
      "text/plain": [
       "AL(X_test=array([[ 0.,  0., ...,  0.,  0.],\n",
       "       [ 0.,  3., ...,  0.,  0.],\n",
       "       ...,\n",
       "       [ 0.,  0., ...,  0.,  0.],\n",
       "       [ 0.,  1., ..., 16.,  0.]]),\n",
       "  model=LinearDiscriminantAnalysis(n_components=None, priors=None, shrinkage=None,\n",
       "              solver='svd', store_covariance=False, tol=0.0001),\n",
       "  sample_num=10, sampling_style='entropy', seed=42, upper_bound=30,\n",
       "  y_test=array([8, 8, ..., 1, 2]))"
      ]
     },
     "execution_count": 31,
     "metadata": {},
     "output_type": "execute_result"
    }
   ],
   "source": [
    "\n",
    "\n",
    "from sklearn.discriminant_analysis import LinearDiscriminantAnalysis\n",
    "\n",
    "# from sklearn.ensemble import GradientBoostingRegressor\n",
    "\n",
    "\n",
    "model = AL(\n",
    "    LinearDiscriminantAnalysis(),\n",
    "    X_unlabeled,\n",
    "    y_unlabeled,\n",
    "    'entropy'\n",
    ")\n",
    "# Train the model and use it to predict\n",
    "model.fit(X_labeled, y_labeled)\n"
   ]
  },
  {
   "cell_type": "code",
   "execution_count": 32,
   "metadata": {},
   "outputs": [
    {
     "name": "stdout",
     "output_type": "stream",
     "text": [
      "0.58\n",
      "0.64\n"
     ]
    }
   ],
   "source": [
    "y_train_pred = model_random.predict(X_train)\n",
    "y_test_pred = model_random.predict(X_test)\n",
    "print(accuracy_score(y_train, y_train_pred))\n",
    "print(accuracy_score(y_test, y_test_pred))"
   ]
  },
  {
   "cell_type": "code",
   "execution_count": null,
   "metadata": {},
   "outputs": [],
   "source": []
  }
 ],
 "metadata": {
  "kernelspec": {
   "display_name": "Python 3",
   "language": "python",
   "name": "python3"
  },
  "language_info": {
   "codemirror_mode": {
    "name": "ipython",
    "version": 3
   },
   "file_extension": ".py",
   "mimetype": "text/x-python",
   "name": "python",
   "nbconvert_exporter": "python",
   "pygments_lexer": "ipython3",
   "version": "3.6.5"
  }
 },
 "nbformat": 4,
 "nbformat_minor": 2
}
