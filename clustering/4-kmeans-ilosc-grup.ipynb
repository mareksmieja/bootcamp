{
 "cells": [
  {
   "cell_type": "markdown",
   "metadata": {},
   "source": [
    "# k-means - ilość grup (ELBOW)\n",
    "\n",
    "W praktyce możemy nie wiedziec jak ilość grup jest właściwa. Pytanie jaką ilość wybrać.\n",
    "\n",
    "ZADANIE: Proszę wziąć dane Iris (środkowe współrzędne) i  podzielić na 1 do 20 klastrów. Narysować jak zmienia się błąd SSE. SSE jest wewnętętrzną miarą jakości k-means. Czy można z tego wyciągnąć wniosek na temat właściwej ilości klastrów?"
   ]
  },
  {
   "cell_type": "code",
   "execution_count": 8,
   "metadata": {},
   "outputs": [],
   "source": [
    "#import numpy as np\n",
    "import pandas as pd\n",
    "import matplotlib.pyplot as plt\n",
    "from sklearn.cluster import KMeans\n",
    "\n",
    "from sklearn import datasets\n",
    "iris = datasets.load_digits()\n",
    "\n",
    "X=iris.data[:,1:3]\n",
    "y = iris.target\n",
    "\n",
    "# plt.scatter(X[:,0], X[:, 1], c = y)\n",
    "# plt.show()"
   ]
  },
  {
   "cell_type": "code",
   "execution_count": 11,
   "metadata": {},
   "outputs": [],
   "source": [
    "k = 20\n",
    "\n",
    "SSE = []\n",
    "for k in range(2,k):\n",
    "    km = KMeans(n_clusters = k)\n",
    "    y_km = km.fit_predict(X)\n",
    "    \n",
    "    sse = km.inertia_\n",
    "    SSE.append(sse)\n",
    "    \n",
    "#     plt.scatter(X[:,0], X[:,1], c = y_km)\n",
    "#     plt.show()"
   ]
  },
  {
   "cell_type": "code",
   "execution_count": 12,
   "metadata": {},
   "outputs": [
    {
     "data": {
      "image/png": "[encoded data removed]",
      "text/plain": [
       "<Figure size 432x288 with 1 Axes>"
      ]
     },
     "metadata": {},
     "output_type": "display_data"
    }
   ],
   "source": [
    "plt.plot(SSE)\n",
    "plt.show()"
   ]
  },
  {
   "cell_type": "code",
   "execution_count": null,
   "metadata": {},
   "outputs": [],
   "source": []
  },
  {
   "cell_type": "markdown",
   "metadata": {},
   "source": [
    "PYTANIA: Dlaczego błąd SSE maleje wraz ze wzrostem ilością klastrów?"
   ]
  },
  {
   "cell_type": "markdown",
   "metadata": {
    "collapsed": true
   },
   "source": [
    "Heurystyka ELBOW (https://en.wikipedia.org/wiki/Elbow_method_(clustering)) mówi, że powinniśmy wybrać taką ilość klastrów, gdzie koszt przestaje się (szybko) zmieniać."
   ]
  },
  {
   "cell_type": "markdown",
   "metadata": {},
   "source": [
    "ZADANIE: Proszę wiząć dane digits z sklearn i wykonać powyższą analizę."
   ]
  },
  {
   "cell_type": "code",
   "execution_count": 2,
   "metadata": {},
   "outputs": [],
   "source": [
    "#"
   ]
  },
  {
   "cell_type": "markdown",
   "metadata": {},
   "source": [
    "Czy ocena jest tak samo łatwa jak w iris? "
   ]
  },
  {
   "cell_type": "code",
   "execution_count": null,
   "metadata": {
    "collapsed": true
   },
   "outputs": [],
   "source": []
  }
 ],
 "metadata": {
  "kernelspec": {
   "display_name": "Python 3",
   "language": "python",
   "name": "python3"
  },
  "language_info": {
   "codemirror_mode": {
    "name": "ipython",
    "version": 3
   },
   "file_extension": ".py",
   "mimetype": "text/x-python",
   "name": "python",
   "nbconvert_exporter": "python",
   "pygments_lexer": "ipython3",
   "version": "3.6.5"
  }
 },
 "nbformat": 4,
 "nbformat_minor": 2
}
