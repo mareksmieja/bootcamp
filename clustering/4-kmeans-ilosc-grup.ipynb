{
 "cells": [
  {
   "cell_type": "markdown",
   "metadata": {},
   "source": [
    "# k-means - ilość grup (ELBOW)\n",
    "\n",
    "W praktyce możemy nie wiedziec jak ilość grup jest właściwa. Pytanie jaką ilość wybrać.\n",
    "\n",
    "ZADANIE: Proszę wziąć dane Iris (środkowe współrzędne) i  podzielić na 1 do 20 klastrów. Narysować jak zmienia się błąd SSE. SSE jest wewnętętrzną miarą jakości k-means. Czy można z tego wyciągnąć wniosek na temat właściwej ilości klastrów?"
   ]
  },
  {
   "cell_type": "code",
   "execution_count": 1,
   "metadata": {},
   "outputs": [],
   "source": [
    "#"
   ]
  },
  {
   "cell_type": "markdown",
   "metadata": {},
   "source": [
    "PYTANIA: Dlaczego błąd SSE maleje wraz ze wzrostem ilością klastrów?"
   ]
  },
  {
   "cell_type": "markdown",
   "metadata": {
    "collapsed": true
   },
   "source": [
    "Heurystyka ELBOW (https://en.wikipedia.org/wiki/Elbow_method_(clustering)) mówi, że powinniśmy wybrać taką ilość klastrów, gdzie koszt przestaje się (szybko) zmieniać."
   ]
  },
  {
   "cell_type": "markdown",
   "metadata": {},
   "source": [
    "ZADANIE: Proszę wiząć dane digits z sklearn i wykonać powyższą analizę."
   ]
  },
  {
   "cell_type": "code",
   "execution_count": 2,
   "metadata": {},
   "outputs": [],
   "source": [
    "#"
   ]
  },
  {
   "cell_type": "markdown",
   "metadata": {},
   "source": [
    "Czy ocena jest tak samo łatwa jak w iris? "
   ]
  },
  {
   "cell_type": "code",
   "execution_count": null,
   "metadata": {
    "collapsed": true
   },
   "outputs": [],
   "source": []
  }
 ],
 "metadata": {
  "kernelspec": {
   "display_name": "Python 3",
   "language": "python",
   "name": "python3"
  },
  "language_info": {
   "codemirror_mode": {
    "name": "ipython",
    "version": 3
   },
   "file_extension": ".py",
   "mimetype": "text/x-python",
   "name": "python",
   "nbconvert_exporter": "python",
   "pygments_lexer": "ipython3",
   "version": "3.6.3"
  }
 },
 "nbformat": 4,
 "nbformat_minor": 2
}
