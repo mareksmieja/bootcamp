{
 "cells": [
  {
   "cell_type": "markdown",
   "metadata": {},
   "source": [
    "# Zad.\n",
    "Pytamy się jakie są naturalne grupy w postach. Bierzemy zbiór 20newsgroups."
   ]
  },
  {
   "cell_type": "code",
   "execution_count": 47,
   "metadata": {},
   "outputs": [],
   "source": [
    "import numpy as np\n",
    "import pandas as pd\n",
    "import matplotlib.pyplot as plt"
   ]
  },
  {
   "cell_type": "markdown",
   "metadata": {},
   "source": [
    "### wczytaj dane"
   ]
  },
  {
   "cell_type": "code",
   "execution_count": 48,
   "metadata": {},
   "outputs": [],
   "source": [
    "from sklearn.datasets import fetch_20newsgroups\n",
    "twenty = fetch_20newsgroups(subset='all', shuffle=True)#, remove=('headers', 'footers', 'quotes'))"
   ]
  },
  {
   "cell_type": "code",
   "execution_count": 49,
   "metadata": {},
   "outputs": [
    {
     "data": {
      "text/plain": [
       "'the 20 newsgroups by date dataset'"
      ]
     },
     "execution_count": 49,
     "metadata": {},
     "output_type": "execute_result"
    }
   ],
   "source": [
    "twenty.description"
   ]
  },
  {
   "cell_type": "code",
   "execution_count": 50,
   "metadata": {},
   "outputs": [
    {
     "data": {
      "text/plain": [
       "['alt.atheism',\n",
       " 'comp.graphics',\n",
       " 'comp.os.ms-windows.misc',\n",
       " 'comp.sys.ibm.pc.hardware',\n",
       " 'comp.sys.mac.hardware',\n",
       " 'comp.windows.x',\n",
       " 'misc.forsale',\n",
       " 'rec.autos',\n",
       " 'rec.motorcycles',\n",
       " 'rec.sport.baseball',\n",
       " 'rec.sport.hockey',\n",
       " 'sci.crypt',\n",
       " 'sci.electronics',\n",
       " 'sci.med',\n",
       " 'sci.space',\n",
       " 'soc.religion.christian',\n",
       " 'talk.politics.guns',\n",
       " 'talk.politics.mideast',\n",
       " 'talk.politics.misc',\n",
       " 'talk.religion.misc']"
      ]
     },
     "execution_count": 50,
     "metadata": {},
     "output_type": "execute_result"
    }
   ],
   "source": [
    "twenty.target_names"
   ]
  },
  {
   "cell_type": "markdown",
   "metadata": {},
   "source": [
    "### Wypisz pierwszy post"
   ]
  },
  {
   "cell_type": "code",
   "execution_count": 51,
   "metadata": {},
   "outputs": [
    {
     "name": "stdout",
     "output_type": "stream",
     "text": [
      "From: Mamatha Devineni Ratnam <mr47+@andrew.cmu.edu>\n",
      "Subject: Pens fans reactions\n",
      "Organization: Post Office, Carnegie Mellon, Pittsburgh, PA\n",
      "Lines: 12\n",
      "NNTP-Posting-Host: po4.andrew.cmu.edu\n",
      "\n",
      "\n",
      "\n",
      "I am sure some bashers of Pens fans are pretty confused about the lack\n",
      "of any kind of posts about the recent Pens massacre of the Devils. Actually,\n",
      "I am  bit puzzled too and a bit relieved. However, I am going to put an end\n",
      "to non-PIttsburghers' relief with a bit of praise for the Pens. Man, they\n",
      "are killing those Devils worse than I thought. Jagr just showed you why\n",
      "he is much better than his regular season stats. He is also a lot\n",
      "fo fun to watch in the playoffs. Bowman should let JAgr have a lot of\n",
      "fun in the next couple of games since the Pens are going to beat the pulp out of Jersey anyway. I was very disappointed not to see the Islanders lose the final\n",
      "regular season game.          PENS RULE!!!\n",
      "\n",
      "\n"
     ]
    }
   ],
   "source": [
    "print(twenty.data[0])"
   ]
  },
  {
   "cell_type": "markdown",
   "metadata": {},
   "source": [
    "ZADANIE: Zbiór jest dość duży. Weź po 50 przykładów z każdej z klas dla 5 kategorii. Wynik zapisz w\n",
    "\n",
    " * X_set\n",
    " * y_set\n",
    " \n"
   ]
  },
  {
   "cell_type": "code",
   "execution_count": 52,
   "metadata": {},
   "outputs": [],
   "source": [
    "data = []\n",
    "for j in range(len(twenty.target_names)):\n",
    "    data.append([twenty.data[i] for i in range(twenty.target.shape[0]) if twenty.target[i] == j])"
   ]
  },
  {
   "cell_type": "code",
   "execution_count": 53,
   "metadata": {},
   "outputs": [],
   "source": [
    "categories = 5\n",
    "\n",
    "num = 50\n",
    "X_set = []\n",
    "y_set = []\n",
    "for i in range(categories):\n",
    "    X_set = X_set + data[i][:num]\n",
    "    y_set = y_set + [i][:num]"
   ]
  },
  {
   "cell_type": "code",
   "execution_count": 54,
   "metadata": {},
   "outputs": [
    {
     "data": {
      "text/plain": [
       "5"
      ]
     },
     "execution_count": 54,
     "metadata": {},
     "output_type": "execute_result"
    }
   ],
   "source": [
    "len(y_set)"
   ]
  },
  {
   "cell_type": "code",
   "execution_count": 55,
   "metadata": {},
   "outputs": [],
   "source": [
    "#"
   ]
  },
  {
   "cell_type": "markdown",
   "metadata": {},
   "source": [
    "ZADANIE: Proszę zwektoryzować dane"
   ]
  },
  {
   "cell_type": "code",
   "execution_count": 56,
   "metadata": {},
   "outputs": [
    {
     "data": {
      "text/plain": [
       "(250, 451)"
      ]
     },
     "execution_count": 56,
     "metadata": {},
     "output_type": "execute_result"
    }
   ],
   "source": [
    "from nltk import word_tokenize\n",
    "from nltk.stem import PorterStemmer\n",
    "from nltk.corpus import stopwords\n",
    "from sklearn.feature_extraction.text import TfidfVectorizer\n",
    "import string\n",
    "\n",
    "def preprocessing(text):\n",
    "    tokens = word_tokenize(text)\n",
    "    tokens = [w for w in tokens if not w in set(string.punctuation)]\n",
    "    stemmer = PorterStemmer()\n",
    "    tokens = [stemmer.stem(t) for t in tokens]\n",
    "    return tokens\n",
    "\n",
    "vectorizer = TfidfVectorizer(tokenizer = preprocessing,\n",
    "                            stop_words = stopwords.words('english'),\n",
    "                            min_df = 0.04,\n",
    "                            max_df = 0.5,\n",
    "                            lowercase = True)\n",
    "\n",
    "X_vectors = vectorizer.fit_transform(X_set) \n",
    "X_vectors.shape"
   ]
  },
  {
   "cell_type": "markdown",
   "metadata": {},
   "source": [
    "# Zad. \n",
    "\n",
    "Wykonajmy grupowanie danych metodą hierarchiczną.\n",
    "\n",
    "Użyj odległości:\n",
    "    \n",
    "   * 'euclidean'\n",
    "   * 'cosine'\n",
    "    \n"
   ]
  },
  {
   "cell_type": "code",
   "execution_count": 57,
   "metadata": {},
   "outputs": [],
   "source": [
    "from scipy.spatial.distance import pdist, squareform\n",
    "from scipy.cluster.hierarchy import linkage\n",
    "from scipy.cluster.hierarchy import dendrogram\n",
    "from scipy.cluster.hierarchy import fcluster\n",
    "from sklearn import metrics"
   ]
  },
  {
   "cell_type": "code",
   "execution_count": 64,
   "metadata": {},
   "outputs": [
    {
     "data": {
      "image/png": "[encoded data removed]",
      "text/plain": [
       "<Figure size 1080x720 with 1 Axes>"
      ]
     },
     "metadata": {},
     "output_type": "display_data"
    }
   ],
   "source": [
    "df = pd.DataFrame(X_vectors.todense())\n",
    "\n",
    "plt.figure(figsize=(15, 10))\n",
    "row_clusters = linkage(df.values, metric='euclidean', method='average') \n",
    "row_dendr = dendrogram(row_clusters)\n",
    "#                        ,\n",
    "#                        truncate_mode='lastp',  # show only the last p merged clusters\n",
    "#                        p=5,  # show only the last p merged clusters\n",
    "#                        show_leaf_counts=True)\n",
    "\n",
    "plt.show()"
   ]
  },
  {
   "cell_type": "code",
   "execution_count": 89,
   "metadata": {},
   "outputs": [
    {
     "data": {
      "image/png": "[encoded data removed]",
      "text/plain": [
       "<Figure size 1080x720 with 1 Axes>"
      ]
     },
     "metadata": {},
     "output_type": "display_data"
    }
   ],
   "source": [
    "df = pd.DataFrame(X_vectors.todense())\n",
    "\n",
    "plt.figure(figsize=(15, 10))\n",
    "row_clusters = linkage(df.values, metric='cosine', method='complete') \n",
    "row_dendr = dendrogram(row_clusters,\n",
    "                       truncate_mode='lastp',  # show only the last p merged clusters\n",
    "                       p=10,  # show only the last p merged clusters\n",
    "                       show_leaf_counts=True)\n",
    "\n",
    "plt.show()"
   ]
  },
  {
   "cell_type": "code",
   "execution_count": 90,
   "metadata": {},
   "outputs": [
    {
     "data": {
      "text/plain": [
       "{'keith': 234,\n",
       " 'islam': 230,\n",
       " 'wa': 428,\n",
       " 'caus': 99,\n",
       " 'atheism': 70,\n",
       " 'case': 98,\n",
       " 'univers': 413,\n",
       " '14': 13,\n",
       " 'nntp-posting-host': 287,\n",
       " 'articl': 66,\n",
       " 'write': 443,\n",
       " 'posit': 312,\n",
       " 'note': 288,\n",
       " 'accept': 41,\n",
       " 'time': 402,\n",
       " 'long': 250,\n",
       " 'even': 161,\n",
       " 'either': 153,\n",
       " \"''\": 0,\n",
       " 'state': 378,\n",
       " 'john': 232,\n",
       " 'a.': 38,\n",
       " 'year': 449,\n",
       " 'say': 348,\n",
       " 'christian': 104,\n",
       " 'moral': 276,\n",
       " 'specif': 374,\n",
       " \"'d\": 1,\n",
       " 'like': 244,\n",
       " 'know': 238,\n",
       " 'two': 408,\n",
       " 'peopl': 304,\n",
       " 'right': 344,\n",
       " 'b': 73,\n",
       " 'one': 294,\n",
       " 'wrong': 445,\n",
       " 'though': 400,\n",
       " 'pretti': 318,\n",
       " 'good': 195,\n",
       " 'idea': 218,\n",
       " 'c': 93,\n",
       " 'never': 284,\n",
       " 'ani': 53,\n",
       " 'inform': 224,\n",
       " 'make': 257,\n",
       " 'best': 82,\n",
       " 'guess': 201,\n",
       " 'realli': 334,\n",
       " 'must': 278,\n",
       " '``': 37,\n",
       " 'whether': 432,\n",
       " 'better': 83,\n",
       " 'question': 328,\n",
       " 'need': 281,\n",
       " 'discuss': 140,\n",
       " 'ha': 202,\n",
       " 'correct': 124,\n",
       " 'answer': 55,\n",
       " 'e': 150,\n",
       " 'someth': 371,\n",
       " 'els': 154,\n",
       " 'would': 442,\n",
       " 'hope': 213,\n",
       " 'tell': 393,\n",
       " 'actual': 44,\n",
       " 'real': 333,\n",
       " 'part': 302,\n",
       " 'way': 430,\n",
       " 'rather': 331,\n",
       " 'sens': 359,\n",
       " 'ask': 68,\n",
       " 'anoth': 54,\n",
       " 'let': 242,\n",
       " 'point': 310,\n",
       " 'look': 251,\n",
       " 'true': 406,\n",
       " 'littl': 247,\n",
       " 'hand': 203,\n",
       " 'therefor': 396,\n",
       " 'suggest': 381,\n",
       " 'ca': 94,\n",
       " 'consid': 119,\n",
       " 'assum': 69,\n",
       " 'problem': 323,\n",
       " 'agre': 49,\n",
       " 'first': 181,\n",
       " 'reason': 335,\n",
       " 'abov': 40,\n",
       " 'bad': 75,\n",
       " 'without': 436,\n",
       " 'sorri': 372,\n",
       " 'issu': 231,\n",
       " 'differ': 138,\n",
       " 'depart': 134,\n",
       " 'get': 190,\n",
       " 'life': 243,\n",
       " 'comput': 117,\n",
       " 'scienc': 350,\n",
       " 'thing': 397,\n",
       " 'becaus': 78,\n",
       " 'compar': 114,\n",
       " \"'re\": 4,\n",
       " 'ever': 162,\n",
       " \"'s\": 5,\n",
       " 'post': 314,\n",
       " 'anyon': 57,\n",
       " 'give': 191,\n",
       " 'high': 212,\n",
       " 'speed': 375,\n",
       " 'gener': 189,\n",
       " 'whole': 434,\n",
       " 'go': 193,\n",
       " 'work': 440,\n",
       " 'said': 347,\n",
       " 'keep': 233,\n",
       " 'big': 84,\n",
       " 'file': 178,\n",
       " 'stuff': 380,\n",
       " 'creat': 127,\n",
       " 'noth': 289,\n",
       " 'exist': 168,\n",
       " '1': 8,\n",
       " 'human': 215,\n",
       " 'doe': 145,\n",
       " 'everyth': 164,\n",
       " 'explain': 171,\n",
       " 'logic': 249,\n",
       " '2': 19,\n",
       " 'believ': 81,\n",
       " '3': 25,\n",
       " 'new': 285,\n",
       " 'fax': 177,\n",
       " 'thought': 401,\n",
       " 'keyword': 235,\n",
       " 'book': 88,\n",
       " 'day': 131,\n",
       " '...': 7,\n",
       " 'whi': 433,\n",
       " 'follow': 183,\n",
       " 'back': 74,\n",
       " 'drive': 148,\n",
       " 'think': 398,\n",
       " 'abl': 39,\n",
       " 'tri': 405,\n",
       " 'find': 179,\n",
       " 'onli': 295,\n",
       " 'around': 65,\n",
       " 'mani': 259,\n",
       " 'hear': 207,\n",
       " 'see': 354,\n",
       " 'someon': 370,\n",
       " 'call': 95,\n",
       " 'god': 194,\n",
       " 'possibl': 313,\n",
       " 'use': 418,\n",
       " 'written': 444,\n",
       " 'veri': 422,\n",
       " 'doubt': 147,\n",
       " 'fact': 172,\n",
       " 'exampl': 166,\n",
       " 'david': 130,\n",
       " 'sinc': 366,\n",
       " 'mention': 268,\n",
       " 'given': 192,\n",
       " '24': 23,\n",
       " 'hi': 211,\n",
       " 'order': 298,\n",
       " 'select': 357,\n",
       " 'befor': 80,\n",
       " 'public': 326,\n",
       " 'access': 42,\n",
       " 'also': 51,\n",
       " 'anyth': 58,\n",
       " 'happen': 204,\n",
       " 'word': 439,\n",
       " 'hard': 205,\n",
       " 'delet': 133,\n",
       " 'sever': 363,\n",
       " 'school': 349,\n",
       " \"'ve\": 6,\n",
       " 'want': 429,\n",
       " 'copi': 123,\n",
       " 'enough': 158,\n",
       " 'mail': 256,\n",
       " 'seem': 355,\n",
       " 'suppos': 384,\n",
       " 'deal': 132,\n",
       " 'got': 196,\n",
       " 'list': 246,\n",
       " 'atheist': 71,\n",
       " 'could': 126,\n",
       " 'kind': 237,\n",
       " 'help': 210,\n",
       " 'appreci': 62,\n",
       " 'send': 358,\n",
       " 'thank': 395,\n",
       " 'sure': 385,\n",
       " 'pleas': 309,\n",
       " 'email': 155,\n",
       " 'box': 89,\n",
       " 'everi': 163,\n",
       " 'unix': 414,\n",
       " 'user': 419,\n",
       " 'group': 200,\n",
       " 'x-newsread': 447,\n",
       " 'tin': 403,\n",
       " 'version': 423,\n",
       " '1.1': 9,\n",
       " '20': 20,\n",
       " 'wrote': 446,\n",
       " 'technolog': 392,\n",
       " 'type': 409,\n",
       " 'made': 255,\n",
       " 'etc': 160,\n",
       " 'claim': 105,\n",
       " 'religion': 338,\n",
       " 'seen': 356,\n",
       " 'opinion': 296,\n",
       " 'summari': 382,\n",
       " \"'m\": 3,\n",
       " \"'ll\": 2,\n",
       " 'lot': 252,\n",
       " 'might': 271,\n",
       " 'quit': 329,\n",
       " 'address': 46,\n",
       " 'expect': 169,\n",
       " 'read': 332,\n",
       " 'faq': 173,\n",
       " 'run': 346,\n",
       " 'fine': 180,\n",
       " 'understand': 412,\n",
       " 'ye': 448,\n",
       " 'wo': 437,\n",
       " 'still': 379,\n",
       " 'newsgroup': 286,\n",
       " 'care': 97,\n",
       " 'well': 431,\n",
       " 'end': 156,\n",
       " 'anyway': 59,\n",
       " 'mayb': 264,\n",
       " 'start': 377,\n",
       " 'much': 277,\n",
       " 'memori': 267,\n",
       " '10': 10,\n",
       " 'distribut': 143,\n",
       " 'world': 441,\n",
       " 'rememb': 339,\n",
       " 'system': 387,\n",
       " 'inc.': 221,\n",
       " 'replac': 340,\n",
       " 'place': 308,\n",
       " 'support': 383,\n",
       " 'live': 248,\n",
       " 'allow': 50,\n",
       " 'take': 388,\n",
       " 'come': 109,\n",
       " 'tech': 390,\n",
       " '12': 12,\n",
       " 'alway': 52,\n",
       " 'connect': 118,\n",
       " 'wonder': 438,\n",
       " '4': 30,\n",
       " 'appl': 60,\n",
       " 'kill': 236,\n",
       " 'name': 279,\n",
       " 'mean': 265,\n",
       " 'sourc': 373,\n",
       " 'larg': 239,\n",
       " 'second': 353,\n",
       " 'refer': 337,\n",
       " 'poster': 315,\n",
       " 'may': 263,\n",
       " 'least': 241,\n",
       " 'origin': 299,\n",
       " 'import': 220,\n",
       " 'ok': 292,\n",
       " 'standard': 376,\n",
       " 'mac': 253,\n",
       " 'michael': 270,\n",
       " 'program': 325,\n",
       " 'anybodi': 56,\n",
       " 'except': 167,\n",
       " 'told': 404,\n",
       " 'howev': 214,\n",
       " 'old': 293,\n",
       " 'bit': 86,\n",
       " 'full': 188,\n",
       " 'power': 316,\n",
       " 'done': 146,\n",
       " 'probabl': 322,\n",
       " 'matter': 262,\n",
       " 'free': 186,\n",
       " '19': 17,\n",
       " 'perform': 305,\n",
       " 'us': 416,\n",
       " 'comment': 111,\n",
       " 'found': 185,\n",
       " 'slow': 367,\n",
       " 'board': 87,\n",
       " 'hello': 209,\n",
       " 'argument': 64,\n",
       " 'turn': 407,\n",
       " 'view': 427,\n",
       " 'becom': 79,\n",
       " 'basic': 77,\n",
       " 'person': 306,\n",
       " 'base': 76,\n",
       " 'practic': 317,\n",
       " 'usual': 420,\n",
       " 'last': 240,\n",
       " 'switch': 386,\n",
       " 'talk': 389,\n",
       " 'interest': 227,\n",
       " 'offer': 291,\n",
       " 'far': 174,\n",
       " 'contain': 120,\n",
       " 'buy': 92,\n",
       " 'show': 364,\n",
       " 'data': 129,\n",
       " 'test': 394,\n",
       " 'set': 361,\n",
       " 'necessarili': 280,\n",
       " 'requir': 342,\n",
       " 'effect': 152,\n",
       " 'exactli': 165,\n",
       " 'messag': 269,\n",
       " 'institut': 226,\n",
       " 'activ': 43,\n",
       " 'includ': 222,\n",
       " 'third': 399,\n",
       " '11': 11,\n",
       " 'commun': 112,\n",
       " 'article-i.d': 67,\n",
       " 'engin': 157,\n",
       " 'limit': 245,\n",
       " 'yet': 450,\n",
       " 'robert': 345,\n",
       " 'put': 327,\n",
       " 'chip': 103,\n",
       " 'uk': 411,\n",
       " '22': 22,\n",
       " 'u': 410,\n",
       " 'dept': 135,\n",
       " 'mark': 261,\n",
       " '7': 34,\n",
       " 'heard': 208,\n",
       " '35': 28,\n",
       " 'page': 301,\n",
       " '16': 15,\n",
       " 'number': 290,\n",
       " 'net': 282,\n",
       " 'control': 121,\n",
       " 'directli': 139,\n",
       " 'current': 128,\n",
       " 'complet': 116,\n",
       " 'small': 368,\n",
       " '30': 27,\n",
       " 'error': 159,\n",
       " 'great': 198,\n",
       " 'technic': 391,\n",
       " '26': 24,\n",
       " '15': 14,\n",
       " 'apr': 63,\n",
       " 'util': 421,\n",
       " 'busi': 91,\n",
       " 'ftp': 187,\n",
       " 'compani': 113,\n",
       " 'research': 343,\n",
       " 'reply-to': 341,\n",
       " 'check': 102,\n",
       " 'ago': 48,\n",
       " '21': 21,\n",
       " 'advanc': 47,\n",
       " '8': 35,\n",
       " 'experi': 170,\n",
       " 'colleg': 107,\n",
       " '1993': 18,\n",
       " 'devic': 137,\n",
       " 'price': 319,\n",
       " 'phone': 307,\n",
       " '9': 36,\n",
       " 'document': 144,\n",
       " 'mode': 273,\n",
       " 'softwar': 369,\n",
       " 'graphic': 197,\n",
       " 'pc': 303,\n",
       " 'develop': 136,\n",
       " 'vesa': 424,\n",
       " 'command': 110,\n",
       " 'packag': 300,\n",
       " 'usa': 417,\n",
       " 'machin': 254,\n",
       " 'greatli': 199,\n",
       " 'model': 274,\n",
       " 'product': 324,\n",
       " 'manag': 258,\n",
       " '17': 16,\n",
       " 'applic': 61,\n",
       " 'window': 435,\n",
       " 'info': 223,\n",
       " '486': 31,\n",
       " 'faster': 176,\n",
       " 'color': 108,\n",
       " 'ram': 330,\n",
       " 'meg': 266,\n",
       " 'ibm': 216,\n",
       " 'avail': 72,\n",
       " 'format': 184,\n",
       " 'e-mail': 151,\n",
       " 'chang': 101,\n",
       " 'convert': 122,\n",
       " 'video': 426,\n",
       " 'disk': 141,\n",
       " 'center': 100,\n",
       " 'imag': 219,\n",
       " 'print': 320,\n",
       " 'vga': 425,\n",
       " 'internet': 228,\n",
       " 'recent': 336,\n",
       " 'mine': 272,\n",
       " 'display': 142,\n",
       " 'card': 96,\n",
       " 'screen': 351,\n",
       " 'cost': 125,\n",
       " 'port': 311,\n",
       " 'option': 297,\n",
       " 'driver': 149,\n",
       " 'bio': 85,\n",
       " 'bu': 90,\n",
       " 'fast': 175,\n",
       " 'code': 106,\n",
       " '5': 32,\n",
       " 'compat': 115,\n",
       " 'servic': 360,\n",
       " 'network': 283,\n",
       " 'floppi': 182,\n",
       " 'manual': 260,\n",
       " 'scsi': 352,\n",
       " 'setup': 362,\n",
       " 'printer': 321,\n",
       " '6': 33,\n",
       " 'hardwar': 206,\n",
       " '3.1': 26,\n",
       " '386': 29,\n",
       " 'instal': 225,\n",
       " 'similar': 365,\n",
       " 'ad': 45,\n",
       " 'isa': 229,\n",
       " 'monitor': 275,\n",
       " 'ide': 217,\n",
       " 'upgrad': 415}"
      ]
     },
     "execution_count": 90,
     "metadata": {},
     "output_type": "execute_result"
    }
   ],
   "source": [
    "vectorizer.vocabulary_"
   ]
  },
  {
   "cell_type": "code",
   "execution_count": 91,
   "metadata": {},
   "outputs": [
    {
     "data": {
      "text/plain": [
       "matrix([[0.        , 0.        , 0.        , 0.        , 0.        ,\n",
       "         0.16301376, 0.        , 0.        , 0.        , 0.        ,\n",
       "         0.        , 0.        , 0.        , 0.        , 0.        ,\n",
       "         0.        , 0.        , 0.        , 0.        , 0.25755755,\n",
       "         0.        , 0.        , 0.        , 0.        , 0.        ,\n",
       "         0.        , 0.        , 0.        , 0.        , 0.        ,\n",
       "         0.        , 0.        , 0.        , 0.        , 0.        ,\n",
       "         0.        , 0.        , 0.        , 0.        , 0.        ,\n",
       "         0.        , 0.        , 0.        , 0.        , 0.        ,\n",
       "         0.        , 0.        , 0.        , 0.        , 0.        ,\n",
       "         0.        , 0.        , 0.        , 0.        , 0.        ,\n",
       "         0.32855207, 0.        , 0.        , 0.        , 0.        ,\n",
       "         0.        , 0.        , 0.        , 0.        , 0.        ,\n",
       "         0.        , 0.        , 0.        , 0.        , 0.        ,\n",
       "         0.        , 0.        , 0.        , 0.        , 0.        ,\n",
       "         0.        , 0.        , 0.        , 0.        , 0.        ,\n",
       "         0.        , 0.        , 0.        , 0.        , 0.        ,\n",
       "         0.        , 0.        , 0.        , 0.        , 0.        ,\n",
       "         0.        , 0.72271073, 0.        , 0.        , 0.        ,\n",
       "         0.        , 0.        , 0.        , 0.        , 0.        ,\n",
       "         0.        , 0.        , 0.        , 0.        , 0.        ,\n",
       "         0.        , 0.        , 0.        , 0.        , 0.        ,\n",
       "         0.        , 0.        , 0.        , 0.        , 0.        ,\n",
       "         0.        , 0.        , 0.        , 0.        , 0.        ,\n",
       "         0.        , 0.        , 0.        , 0.        , 0.        ,\n",
       "         0.        , 0.        , 0.        , 0.        , 0.        ,\n",
       "         0.        , 0.        , 0.        , 0.        , 0.        ,\n",
       "         0.        , 0.        , 0.        , 0.        , 0.        ,\n",
       "         0.        , 0.        , 0.        , 0.        , 0.        ,\n",
       "         0.        , 0.        , 0.        , 0.        , 0.        ,\n",
       "         0.        , 0.        , 0.        , 0.        , 0.        ,\n",
       "         0.        , 0.        , 0.        , 0.        , 0.        ,\n",
       "         0.        , 0.        , 0.        , 0.        , 0.        ,\n",
       "         0.        , 0.        , 0.        , 0.        , 0.        ,\n",
       "         0.        , 0.        , 0.        , 0.        , 0.        ,\n",
       "         0.        , 0.        , 0.        , 0.        , 0.        ,\n",
       "         0.        , 0.        , 0.        , 0.        , 0.        ,\n",
       "         0.        , 0.        , 0.        , 0.        , 0.        ,\n",
       "         0.        , 0.        , 0.        , 0.        , 0.        ,\n",
       "         0.        , 0.        , 0.        , 0.        , 0.        ,\n",
       "         0.        , 0.        , 0.        , 0.        , 0.        ,\n",
       "         0.        , 0.        , 0.        , 0.31824052, 0.        ,\n",
       "         0.        , 0.        , 0.        , 0.        , 0.        ,\n",
       "         0.        , 0.        , 0.        , 0.        , 0.        ,\n",
       "         0.        , 0.        , 0.        , 0.        , 0.        ,\n",
       "         0.        , 0.        , 0.        , 0.        , 0.        ,\n",
       "         0.        , 0.        , 0.        , 0.        , 0.        ,\n",
       "         0.        , 0.        , 0.        , 0.        , 0.        ,\n",
       "         0.        , 0.        , 0.        , 0.        , 0.        ,\n",
       "         0.        , 0.        , 0.        , 0.        , 0.        ,\n",
       "         0.        , 0.        , 0.        , 0.        , 0.        ,\n",
       "         0.        , 0.        , 0.        , 0.        , 0.        ,\n",
       "         0.        , 0.        , 0.        , 0.        , 0.        ,\n",
       "         0.        , 0.        , 0.        , 0.        , 0.        ,\n",
       "         0.        , 0.        , 0.        , 0.        , 0.        ,\n",
       "         0.        , 0.        , 0.        , 0.        , 0.        ,\n",
       "         0.        , 0.        , 0.        , 0.        , 0.        ,\n",
       "         0.        , 0.        , 0.15587929, 0.        , 0.        ,\n",
       "         0.27648724, 0.        , 0.        , 0.        , 0.        ,\n",
       "         0.        , 0.        , 0.        , 0.        , 0.        ,\n",
       "         0.        , 0.        , 0.        , 0.        , 0.        ,\n",
       "         0.        , 0.        , 0.        , 0.        , 0.        ,\n",
       "         0.        , 0.        , 0.        , 0.        , 0.        ,\n",
       "         0.        , 0.        , 0.        , 0.        , 0.        ,\n",
       "         0.        , 0.        , 0.        , 0.        , 0.        ,\n",
       "         0.        , 0.        , 0.        , 0.        , 0.        ,\n",
       "         0.        , 0.        , 0.        , 0.        , 0.        ,\n",
       "         0.        , 0.        , 0.        , 0.        , 0.        ,\n",
       "         0.        , 0.        , 0.        , 0.        , 0.        ,\n",
       "         0.        , 0.        , 0.        , 0.        , 0.        ,\n",
       "         0.        , 0.        , 0.        , 0.        , 0.        ,\n",
       "         0.        , 0.        , 0.        , 0.        , 0.        ,\n",
       "         0.        , 0.        , 0.        , 0.        , 0.        ,\n",
       "         0.        , 0.        , 0.        , 0.        , 0.        ,\n",
       "         0.        , 0.        , 0.        , 0.        , 0.        ,\n",
       "         0.        , 0.        , 0.        , 0.        , 0.        ,\n",
       "         0.        , 0.        , 0.        , 0.        , 0.        ,\n",
       "         0.        , 0.        , 0.        , 0.        , 0.        ,\n",
       "         0.        , 0.        , 0.        , 0.        , 0.        ,\n",
       "         0.        , 0.        , 0.        , 0.        , 0.        ,\n",
       "         0.        , 0.        , 0.        , 0.        , 0.        ,\n",
       "         0.        , 0.27351926, 0.        , 0.        , 0.        ,\n",
       "         0.        , 0.        , 0.        , 0.        , 0.        ,\n",
       "         0.        , 0.        , 0.        , 0.        , 0.        ,\n",
       "         0.        , 0.        , 0.        , 0.        , 0.        ,\n",
       "         0.        , 0.        , 0.        , 0.        , 0.        ,\n",
       "         0.        , 0.        , 0.        , 0.        , 0.        ,\n",
       "         0.        , 0.        , 0.        , 0.        , 0.        ,\n",
       "         0.        , 0.        , 0.        , 0.        , 0.        ,\n",
       "         0.        , 0.        , 0.        , 0.        , 0.        ,\n",
       "         0.        ]])"
      ]
     },
     "execution_count": 91,
     "metadata": {},
     "output_type": "execute_result"
    }
   ],
   "source": [
    "X_vectors[185].todense()"
   ]
  },
  {
   "cell_type": "markdown",
   "metadata": {},
   "source": [
    "# Zad \n",
    "\n",
    "Podziel dane na 20 grup"
   ]
  },
  {
   "cell_type": "code",
   "execution_count": 98,
   "metadata": {},
   "outputs": [],
   "source": [
    "from scipy.cluster.hierarchy import fcluster\n",
    "\n",
    "part = fcluster(row_clusters, 20, 'maxclust')"
   ]
  },
  {
   "cell_type": "code",
   "execution_count": 99,
   "metadata": {},
   "outputs": [
    {
     "data": {
      "text/plain": [
       "(array([ 1,  2,  3,  4,  5,  6,  7,  8,  9, 10, 11, 12, 13, 14, 15, 16, 17,\n",
       "        18, 19, 20], dtype=int32),\n",
       " array([ 8, 19,  8, 15, 11, 15, 18,  9,  8, 13, 16,  6, 21,  9, 11,  8,  5,\n",
       "        24,  5, 21], dtype=int64))"
      ]
     },
     "execution_count": 99,
     "metadata": {},
     "output_type": "execute_result"
    }
   ],
   "source": [
    "np.unique(part,return_counts = True)"
   ]
  },
  {
   "cell_type": "markdown",
   "metadata": {},
   "source": [
    "ZADANIE: Prosze wypisać liczności grup"
   ]
  },
  {
   "cell_type": "code",
   "execution_count": 100,
   "metadata": {},
   "outputs": [],
   "source": [
    "X_dense = X_vectors.todense()"
   ]
  },
  {
   "cell_type": "markdown",
   "metadata": {},
   "source": [
    "Liczności klastrów powinny być rozsądne.\n",
    "\n",
    "Chcemy zobaczyć reprezentantów klastrów:\n",
    "* średnie będą reprezentowały częstości słów\n",
    "* możemy wylistować zdania będące najbliżej średnich\n",
    "\n",
    "Wypisujemy najbardziej reprezentatywne słowa w klastrach (jakie są reprezentatywne?)"
   ]
  },
  {
   "cell_type": "code",
   "execution_count": 101,
   "metadata": {},
   "outputs": [
    {
     "data": {
      "text/plain": [
       "array([[0.05990475, 0.00958753, 0.02210381, ..., 0.        , 0.0232372 ,\n",
       "        0.        ],\n",
       "       [0.01784532, 0.02627564, 0.00292909, ..., 0.        , 0.02008242,\n",
       "        0.01440918],\n",
       "       [0.        , 0.        , 0.05004829, ..., 0.        , 0.        ,\n",
       "        0.        ],\n",
       "       ...,\n",
       "       [0.10591504, 0.01359858, 0.02515537, ..., 0.02977907, 0.02914461,\n",
       "        0.02824069],\n",
       "       [0.05393401, 0.        , 0.        , ..., 0.01716698, 0.        ,\n",
       "        0.        ],\n",
       "       [0.02777722, 0.02780239, 0.        , ..., 0.        , 0.        ,\n",
       "        0.00474755]])"
      ]
     },
     "execution_count": 101,
     "metadata": {},
     "output_type": "execute_result"
    }
   ],
   "source": [
    "centers = np.zeros((20, X_dense.shape[1]))\n",
    "for i in range(1, 21):\n",
    "    centers[i-1] = np.mean(X_dense[part == i], axis = 0)\n",
    "centers"
   ]
  },
  {
   "cell_type": "code",
   "execution_count": 102,
   "metadata": {},
   "outputs": [
    {
     "name": "stdout",
     "output_type": "stream",
     "text": [
      "['problem', 'research', '17', 'chang', 'monitor']\n",
      "['wa', 'univers', 'problem', 'get', 'tech']\n",
      "['know', 'ani', 'comput', 'want', 'packag']\n",
      "['know', '``', 'would', 'doe', 'error']\n",
      "[\"''\", 'speed', 'video', 'card', 'fast']\n",
      "['summari', 'softwar', 'product', 'port', 'network']\n",
      "['articl', 'write', \"''\", '``', 'mac']\n",
      "['keith', 'atheist', 'mac', 'color', 'ram']\n",
      "['univers', 'ani', 'pc', 'network', 'printer']\n",
      "['drive', 'hard', 'devic', 'scsi', 'ide']\n",
      "['wa', \"''\", '``', \"'s\", 'ibm']\n",
      "['nntp-posting-host', 'creat', 'window', '5', 'instal']\n",
      "['look', 'address', 'memori', 'bit', 'imag']\n",
      "['version', 'system', 'ftp', 'card', 'driver']\n",
      "['...', 'control', 'info', 'card', 'ide']\n",
      "[\"''\", 'ha', 'list', 'system', '9']\n",
      "['make', 'question', 'answer', 'busi', 'graphic']\n",
      "['islam', \"''\", 'believ', 'god', 'atheist']\n",
      "['24', 'support', 'mode', 'vesa', 'vga']\n",
      "['file', 'use', 'version', 'run', 'window']\n"
     ]
    }
   ],
   "source": [
    "top = 5\n",
    "for i in range(20):\n",
    "    tops = np.argsort(centers[i,:])[-top:]\n",
    "    print([w for w in vectorizer.vocabulary_ if vectorizer.vocabulary_[w] in tops])"
   ]
  },
  {
   "cell_type": "markdown",
   "metadata": {},
   "source": [
    "# Zad\n",
    "\n",
    "Wypiszmy teraz posty najbardziej reprezentujące klaster (zdania najbliższe średniej)"
   ]
  },
  {
   "cell_type": "code",
   "execution_count": 12,
   "metadata": {},
   "outputs": [],
   "source": [
    "#"
   ]
  },
  {
   "cell_type": "markdown",
   "metadata": {
    "collapsed": true
   },
   "source": [
    "ZADANIE: Porównaj wynik z LDA"
   ]
  },
  {
   "cell_type": "code",
   "execution_count": 13,
   "metadata": {
    "collapsed": true
   },
   "outputs": [],
   "source": [
    "#"
   ]
  }
 ],
 "metadata": {
  "kernelspec": {
   "display_name": "Python 3",
   "language": "python",
   "name": "python3"
  },
  "language_info": {
   "codemirror_mode": {
    "name": "ipython",
    "version": 3
   },
   "file_extension": ".py",
   "mimetype": "text/x-python",
   "name": "python",
   "nbconvert_exporter": "python",
   "pygments_lexer": "ipython3",
   "version": "3.6.5"
  }
 },
 "nbformat": 4,
 "nbformat_minor": 2
}
