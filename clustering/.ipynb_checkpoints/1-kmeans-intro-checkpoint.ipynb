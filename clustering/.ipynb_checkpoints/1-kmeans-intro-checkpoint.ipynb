{
 "cells": [
  {
   "cell_type": "markdown",
   "metadata": {},
   "source": [
    "<h1>Analiza profilu klienta</h1>\n",
    "\n",
    "Firma prowadzi kampanie handlowe wysyłając do klientów oferty. \n",
    "\n",
    "Pobieramy dane z pliku \"datasets/WineKMC.xlsx\". Co się w nich znajduje?"
   ]
  },
  {
   "cell_type": "code",
   "execution_count": 2,
   "metadata": {},
   "outputs": [
    {
     "data": {
      "text/html": [
       "<div>\n",
       "<style>\n",
       "    .dataframe thead tr:only-child th {\n",
       "        text-align: right;\n",
       "    }\n",
       "\n",
       "    .dataframe thead th {\n",
       "        text-align: left;\n",
       "    }\n",
       "\n",
       "    .dataframe tbody tr th {\n",
       "        vertical-align: top;\n",
       "    }\n",
       "</style>\n",
       "<table border=\"1\" class=\"dataframe\">\n",
       "  <thead>\n",
       "    <tr style=\"text-align: right;\">\n",
       "      <th></th>\n",
       "      <th>offer_id</th>\n",
       "      <th>campaign</th>\n",
       "      <th>varietal</th>\n",
       "      <th>min_qty</th>\n",
       "      <th>discount</th>\n",
       "      <th>origin</th>\n",
       "      <th>past_peak</th>\n",
       "    </tr>\n",
       "  </thead>\n",
       "  <tbody>\n",
       "    <tr>\n",
       "      <th>0</th>\n",
       "      <td>1</td>\n",
       "      <td>January</td>\n",
       "      <td>Malbec</td>\n",
       "      <td>72</td>\n",
       "      <td>56</td>\n",
       "      <td>France</td>\n",
       "      <td>False</td>\n",
       "    </tr>\n",
       "    <tr>\n",
       "      <th>1</th>\n",
       "      <td>2</td>\n",
       "      <td>January</td>\n",
       "      <td>Pinot Noir</td>\n",
       "      <td>72</td>\n",
       "      <td>17</td>\n",
       "      <td>France</td>\n",
       "      <td>False</td>\n",
       "    </tr>\n",
       "    <tr>\n",
       "      <th>2</th>\n",
       "      <td>3</td>\n",
       "      <td>February</td>\n",
       "      <td>Espumante</td>\n",
       "      <td>144</td>\n",
       "      <td>32</td>\n",
       "      <td>Oregon</td>\n",
       "      <td>True</td>\n",
       "    </tr>\n",
       "    <tr>\n",
       "      <th>3</th>\n",
       "      <td>4</td>\n",
       "      <td>February</td>\n",
       "      <td>Champagne</td>\n",
       "      <td>72</td>\n",
       "      <td>48</td>\n",
       "      <td>France</td>\n",
       "      <td>True</td>\n",
       "    </tr>\n",
       "    <tr>\n",
       "      <th>4</th>\n",
       "      <td>5</td>\n",
       "      <td>February</td>\n",
       "      <td>Cabernet Sauvignon</td>\n",
       "      <td>144</td>\n",
       "      <td>44</td>\n",
       "      <td>New Zealand</td>\n",
       "      <td>True</td>\n",
       "    </tr>\n",
       "  </tbody>\n",
       "</table>\n",
       "</div>"
      ],
      "text/plain": [
       "   offer_id  campaign            varietal  min_qty  discount       origin  \\\n",
       "0         1   January              Malbec       72        56       France   \n",
       "1         2   January          Pinot Noir       72        17       France   \n",
       "2         3  February           Espumante      144        32       Oregon   \n",
       "3         4  February           Champagne       72        48       France   \n",
       "4         5  February  Cabernet Sauvignon      144        44  New Zealand   \n",
       "\n",
       "   past_peak  \n",
       "0      False  \n",
       "1      False  \n",
       "2       True  \n",
       "3       True  \n",
       "4       True  "
      ]
     },
     "execution_count": 2,
     "metadata": {},
     "output_type": "execute_result"
    }
   ],
   "source": [
    "import pandas as pd\n",
    "\n",
    "df_offers = pd.read_excel(\"data_cl/WineKMC.xlsx\", sheetname=0)\n",
    "df_offers.columns = [\"offer_id\", \"campaign\", \"varietal\", \"min_qty\", \"discount\", \"origin\", \"past_peak\"]\n",
    "df_offers.head()"
   ]
  },
  {
   "cell_type": "code",
   "execution_count": 3,
   "metadata": {},
   "outputs": [
    {
     "data": {
      "text/html": [
       "<div>\n",
       "<style>\n",
       "    .dataframe thead tr:only-child th {\n",
       "        text-align: right;\n",
       "    }\n",
       "\n",
       "    .dataframe thead th {\n",
       "        text-align: left;\n",
       "    }\n",
       "\n",
       "    .dataframe tbody tr th {\n",
       "        vertical-align: top;\n",
       "    }\n",
       "</style>\n",
       "<table border=\"1\" class=\"dataframe\">\n",
       "  <thead>\n",
       "    <tr style=\"text-align: right;\">\n",
       "      <th></th>\n",
       "      <th>customer_name</th>\n",
       "      <th>offer_id</th>\n",
       "      <th>n</th>\n",
       "    </tr>\n",
       "  </thead>\n",
       "  <tbody>\n",
       "    <tr>\n",
       "      <th>0</th>\n",
       "      <td>Smith</td>\n",
       "      <td>2</td>\n",
       "      <td>1</td>\n",
       "    </tr>\n",
       "    <tr>\n",
       "      <th>1</th>\n",
       "      <td>Smith</td>\n",
       "      <td>24</td>\n",
       "      <td>1</td>\n",
       "    </tr>\n",
       "    <tr>\n",
       "      <th>2</th>\n",
       "      <td>Johnson</td>\n",
       "      <td>17</td>\n",
       "      <td>1</td>\n",
       "    </tr>\n",
       "    <tr>\n",
       "      <th>3</th>\n",
       "      <td>Johnson</td>\n",
       "      <td>24</td>\n",
       "      <td>1</td>\n",
       "    </tr>\n",
       "    <tr>\n",
       "      <th>4</th>\n",
       "      <td>Johnson</td>\n",
       "      <td>26</td>\n",
       "      <td>1</td>\n",
       "    </tr>\n",
       "  </tbody>\n",
       "</table>\n",
       "</div>"
      ],
      "text/plain": [
       "  customer_name  offer_id  n\n",
       "0         Smith         2  1\n",
       "1         Smith        24  1\n",
       "2       Johnson        17  1\n",
       "3       Johnson        24  1\n",
       "4       Johnson        26  1"
      ]
     },
     "execution_count": 3,
     "metadata": {},
     "output_type": "execute_result"
    }
   ],
   "source": [
    "df_transactions = pd.read_excel(\"data_cl/WineKMC.xlsx\", sheetname=1)\n",
    "df_transactions.columns = [\"customer_name\", \"offer_id\"]\n",
    "df_transactions['n'] = 1\n",
    "df_transactions.head()"
   ]
  },
  {
   "cell_type": "markdown",
   "metadata": {},
   "source": [
    "Czego dotyczą dane? \n",
    "\n",
    "\n"
   ]
  },
  {
   "cell_type": "markdown",
   "metadata": {},
   "source": [
    "Firma będzie tworzyć nowe oferty. Chcielibyśmy wiedzieć do których klientów skierować poszczególne oferty. Możemy założyć że klientów jest milion i nie jesteśmy w stanie rozpatrzyć każdego indywidualnie. Poza tym klient może chcieć chcieć kupić coś innego, dlatego nie możemy się kierować tylko tym co już kupił.\n",
    "\n",
    "ZADANIE: \n",
    "Stwórzmy tabelę, gdzie w wierszach są klienci a w kolumnach oferty - dla każdego klienta zaznaczmy czy wybrał daną ofertę (1) czy nie (0)"
   ]
  },
  {
   "cell_type": "code",
   "execution_count": 82,
   "metadata": {
    "scrolled": false
   },
   "outputs": [
    {
     "name": "stdout",
     "output_type": "stream",
     "text": [
      "offer_id customer_name    1    2    3    4    5    6    7    8    9 ...    23  \\\n",
      "0                Adams  0.0  0.0  0.0  0.0  0.0  0.0  0.0  0.0  0.0 ...   0.0   \n",
      "1                Allen  0.0  0.0  0.0  0.0  0.0  0.0  0.0  0.0  1.0 ...   0.0   \n",
      "2             Anderson  0.0  0.0  0.0  0.0  0.0  0.0  0.0  0.0  0.0 ...   0.0   \n",
      "3               Bailey  0.0  0.0  0.0  0.0  0.0  0.0  1.0  0.0  0.0 ...   0.0   \n",
      "4                Baker  0.0  0.0  0.0  0.0  0.0  0.0  1.0  0.0  0.0 ...   0.0   \n",
      "5               Barnes  0.0  0.0  0.0  0.0  0.0  0.0  0.0  0.0  0.0 ...   0.0   \n",
      "6                 Bell  0.0  1.0  0.0  0.0  0.0  0.0  0.0  0.0  0.0 ...   0.0   \n",
      "7              Bennett  0.0  0.0  0.0  0.0  0.0  0.0  0.0  1.0  0.0 ...   0.0   \n",
      "8               Brooks  0.0  0.0  1.0  0.0  0.0  0.0  0.0  1.0  0.0 ...   0.0   \n",
      "9                Brown  0.0  0.0  0.0  0.0  0.0  0.0  1.0  0.0  0.0 ...   0.0   \n",
      "10              Butler  1.0  0.0  0.0  1.0  0.0  0.0  0.0  0.0  0.0 ...   0.0   \n",
      "11            Campbell  0.0  1.0  0.0  0.0  0.0  0.0  0.0  0.0  0.0 ...   0.0   \n",
      "12              Carter  0.0  0.0  0.0  0.0  0.0  0.0  1.0  0.0  0.0 ...   0.0   \n",
      "13               Clark  0.0  0.0  0.0  1.0  0.0  0.0  0.0  0.0  0.0 ...   0.0   \n",
      "14             Collins  0.0  0.0  0.0  0.0  0.0  0.0  0.0  0.0  0.0 ...   0.0   \n",
      "15                Cook  0.0  0.0  0.0  0.0  0.0  0.0  0.0  0.0  0.0 ...   0.0   \n",
      "16              Cooper  0.0  0.0  0.0  1.0  0.0  0.0  0.0  0.0  0.0 ...   0.0   \n",
      "17                 Cox  0.0  1.0  0.0  0.0  0.0  0.0  0.0  0.0  0.0 ...   0.0   \n",
      "18                Cruz  0.0  0.0  0.0  0.0  0.0  0.0  0.0  0.0  0.0 ...   0.0   \n",
      "19               Davis  0.0  0.0  0.0  0.0  0.0  0.0  0.0  0.0  0.0 ...   0.0   \n",
      "20                Diaz  0.0  0.0  0.0  0.0  0.0  0.0  1.0  1.0  0.0 ...   0.0   \n",
      "21             Edwards  0.0  0.0  0.0  0.0  0.0  0.0  0.0  1.0  0.0 ...   0.0   \n",
      "22               Evans  0.0  0.0  0.0  0.0  0.0  0.0  0.0  0.0  0.0 ...   0.0   \n",
      "23              Fisher  1.0  1.0  0.0  0.0  0.0  0.0  0.0  0.0  0.0 ...   0.0   \n",
      "24              Flores  0.0  0.0  0.0  0.0  0.0  0.0  0.0  0.0  0.0 ...   0.0   \n",
      "25              Foster  1.0  0.0  0.0  0.0  0.0  0.0  0.0  0.0  1.0 ...   1.0   \n",
      "26              Garcia  0.0  0.0  0.0  0.0  0.0  0.0  0.0  0.0  0.0 ...   0.0   \n",
      "27               Gomez  0.0  0.0  0.0  0.0  0.0  0.0  0.0  0.0  0.0 ...   0.0   \n",
      "28            Gonzalez  0.0  0.0  0.0  0.0  0.0  0.0  0.0  0.0  1.0 ...   0.0   \n",
      "29                Gray  0.0  0.0  0.0  0.0  0.0  0.0  0.0  0.0  0.0 ...   0.0   \n",
      "..                 ...  ...  ...  ...  ...  ...  ...  ...  ...  ... ...   ...   \n",
      "70                Reed  0.0  0.0  0.0  0.0  1.0  0.0  0.0  0.0  0.0 ...   0.0   \n",
      "71               Reyes  0.0  0.0  0.0  0.0  0.0  0.0  0.0  0.0  1.0 ...   1.0   \n",
      "72          Richardson  0.0  0.0  1.0  0.0  0.0  1.0  0.0  0.0  0.0 ...   0.0   \n",
      "73              Rivera  0.0  0.0  0.0  0.0  0.0  0.0  1.0  0.0  0.0 ...   0.0   \n",
      "74             Roberts  0.0  0.0  0.0  0.0  0.0  0.0  0.0  0.0  0.0 ...   0.0   \n",
      "75            Robinson  0.0  0.0  0.0  0.0  0.0  0.0  1.0  0.0  0.0 ...   0.0   \n",
      "76           Rodriguez  0.0  1.0  0.0  0.0  0.0  0.0  0.0  0.0  0.0 ...   0.0   \n",
      "77              Rogers  0.0  0.0  1.0  0.0  0.0  0.0  1.0  1.0  0.0 ...   0.0   \n",
      "78                Ross  0.0  0.0  0.0  0.0  0.0  0.0  0.0  0.0  0.0 ...   0.0   \n",
      "79             Russell  0.0  0.0  0.0  0.0  0.0  0.0  0.0  0.0  0.0 ...   0.0   \n",
      "80             Sanchez  0.0  0.0  0.0  1.0  1.0  0.0  0.0  0.0  0.0 ...   0.0   \n",
      "81             Sanders  1.0  0.0  0.0  1.0  1.0  1.0  0.0  0.0  1.0 ...   0.0   \n",
      "82               Scott  0.0  0.0  0.0  0.0  0.0  1.0  0.0  0.0  0.0 ...   1.0   \n",
      "83               Smith  0.0  1.0  0.0  0.0  0.0  0.0  0.0  0.0  0.0 ...   0.0   \n",
      "84             Stewart  0.0  0.0  0.0  0.0  0.0  0.0  0.0  1.0  0.0 ...   0.0   \n",
      "85            Sullivan  0.0  0.0  0.0  0.0  0.0  0.0  0.0  1.0  0.0 ...   0.0   \n",
      "86              Taylor  0.0  0.0  0.0  0.0  0.0  0.0  1.0  0.0  0.0 ...   0.0   \n",
      "87              Thomas  1.0  0.0  0.0  1.0  0.0  0.0  0.0  0.0  1.0 ...   0.0   \n",
      "88            Thompson  0.0  0.0  0.0  0.0  0.0  0.0  0.0  0.0  1.0 ...   0.0   \n",
      "89              Torres  0.0  0.0  0.0  0.0  0.0  0.0  0.0  1.0  0.0 ...   0.0   \n",
      "90              Turner  0.0  0.0  0.0  1.0  0.0  1.0  0.0  0.0  0.0 ...   0.0   \n",
      "91              Walker  0.0  0.0  0.0  0.0  0.0  0.0  0.0  0.0  0.0 ...   0.0   \n",
      "92                Ward  0.0  0.0  0.0  1.0  0.0  0.0  0.0  0.0  0.0 ...   0.0   \n",
      "93              Watson  0.0  0.0  0.0  0.0  0.0  0.0  1.0  0.0  0.0 ...   0.0   \n",
      "94               White  0.0  0.0  0.0  0.0  0.0  0.0  0.0  0.0  0.0 ...   0.0   \n",
      "95            Williams  0.0  0.0  0.0  0.0  0.0  0.0  0.0  0.0  0.0 ...   0.0   \n",
      "96              Wilson  0.0  0.0  0.0  0.0  0.0  0.0  0.0  1.0  0.0 ...   0.0   \n",
      "97                Wood  1.0  0.0  0.0  0.0  0.0  0.0  0.0  0.0  0.0 ...   0.0   \n",
      "98              Wright  0.0  0.0  0.0  1.0  0.0  1.0  0.0  0.0  0.0 ...   0.0   \n",
      "99               Young  0.0  0.0  0.0  0.0  0.0  1.0  0.0  0.0  1.0 ...   0.0   \n",
      "\n",
      "offer_id   24   25   26   27   28   29   30   31   32  \n",
      "0         0.0  0.0  0.0  0.0  0.0  1.0  1.0  0.0  0.0  \n",
      "1         0.0  0.0  0.0  1.0  0.0  0.0  0.0  0.0  0.0  \n",
      "2         1.0  0.0  1.0  0.0  0.0  0.0  0.0  0.0  0.0  \n",
      "3         0.0  0.0  0.0  0.0  0.0  0.0  1.0  0.0  0.0  \n",
      "4         0.0  0.0  0.0  0.0  0.0  0.0  0.0  1.0  0.0  \n",
      "5         0.0  0.0  0.0  0.0  0.0  0.0  0.0  1.0  0.0  \n",
      "6         1.0  0.0  1.0  0.0  0.0  0.0  0.0  0.0  0.0  \n",
      "7         0.0  0.0  0.0  0.0  0.0  1.0  0.0  0.0  0.0  \n",
      "8         0.0  0.0  0.0  0.0  0.0  0.0  0.0  0.0  0.0  \n",
      "9         0.0  0.0  0.0  0.0  0.0  1.0  1.0  0.0  0.0  \n",
      "10        0.0  0.0  0.0  0.0  1.0  0.0  1.0  0.0  0.0  \n",
      "11        1.0  0.0  1.0  0.0  0.0  0.0  0.0  0.0  0.0  \n",
      "12        0.0  0.0  0.0  0.0  0.0  1.0  1.0  0.0  0.0  \n",
      "13        0.0  0.0  0.0  0.0  1.0  0.0  0.0  1.0  0.0  \n",
      "14        0.0  0.0  0.0  0.0  0.0  0.0  1.0  0.0  0.0  \n",
      "15        1.0  0.0  1.0  0.0  0.0  0.0  0.0  0.0  0.0  \n",
      "16        0.0  0.0  0.0  0.0  0.0  0.0  0.0  0.0  1.0  \n",
      "17        1.0  0.0  1.0  0.0  0.0  0.0  0.0  0.0  0.0  \n",
      "18        0.0  0.0  0.0  0.0  0.0  1.0  1.0  0.0  0.0  \n",
      "19        0.0  1.0  0.0  0.0  0.0  0.0  0.0  0.0  0.0  \n",
      "20        0.0  0.0  0.0  0.0  0.0  1.0  1.0  0.0  0.0  \n",
      "21        0.0  0.0  0.0  1.0  0.0  0.0  0.0  0.0  0.0  \n",
      "22        0.0  0.0  0.0  1.0  0.0  0.0  0.0  0.0  0.0  \n",
      "23        0.0  0.0  0.0  0.0  1.0  0.0  1.0  1.0  0.0  \n",
      "24        1.0  0.0  0.0  0.0  0.0  0.0  0.0  0.0  0.0  \n",
      "25        0.0  0.0  0.0  0.0  0.0  0.0  0.0  0.0  0.0  \n",
      "26        0.0  0.0  0.0  0.0  0.0  0.0  0.0  0.0  0.0  \n",
      "27        0.0  1.0  0.0  0.0  0.0  0.0  0.0  0.0  1.0  \n",
      "28        0.0  0.0  0.0  0.0  0.0  0.0  0.0  1.0  0.0  \n",
      "29        0.0  0.0  1.0  0.0  0.0  0.0  0.0  0.0  0.0  \n",
      "..        ...  ...  ...  ...  ...  ...  ...  ...  ...  \n",
      "70        0.0  0.0  0.0  0.0  0.0  0.0  0.0  0.0  0.0  \n",
      "71        0.0  0.0  0.0  0.0  0.0  0.0  0.0  0.0  0.0  \n",
      "72        0.0  0.0  0.0  0.0  0.0  0.0  0.0  0.0  0.0  \n",
      "73        0.0  0.0  0.0  0.0  0.0  0.0  0.0  0.0  0.0  \n",
      "74        0.0  0.0  0.0  0.0  0.0  0.0  0.0  1.0  0.0  \n",
      "75        0.0  0.0  0.0  0.0  0.0  1.0  0.0  0.0  0.0  \n",
      "76        0.0  0.0  1.0  0.0  0.0  0.0  0.0  0.0  0.0  \n",
      "77        0.0  0.0  0.0  0.0  0.0  0.0  0.0  0.0  0.0  \n",
      "78        0.0  0.0  0.0  0.0  0.0  0.0  0.0  0.0  0.0  \n",
      "79        0.0  0.0  1.0  0.0  0.0  0.0  0.0  0.0  0.0  \n",
      "80        0.0  0.0  1.0  0.0  0.0  0.0  0.0  0.0  0.0  \n",
      "81        0.0  1.0  1.0  0.0  0.0  0.0  0.0  0.0  0.0  \n",
      "82        0.0  0.0  0.0  0.0  0.0  0.0  0.0  0.0  0.0  \n",
      "83        1.0  0.0  0.0  0.0  0.0  0.0  0.0  0.0  0.0  \n",
      "84        0.0  0.0  0.0  0.0  0.0  1.0  1.0  0.0  0.0  \n",
      "85        0.0  0.0  0.0  0.0  0.0  0.0  0.0  0.0  0.0  \n",
      "86        0.0  0.0  0.0  0.0  0.0  1.0  1.0  0.0  0.0  \n",
      "87        0.0  0.0  1.0  0.0  0.0  0.0  0.0  0.0  0.0  \n",
      "88        0.0  1.0  0.0  0.0  0.0  0.0  1.0  0.0  0.0  \n",
      "89        0.0  0.0  0.0  0.0  0.0  0.0  0.0  0.0  0.0  \n",
      "90        0.0  0.0  0.0  1.0  0.0  0.0  0.0  1.0  0.0  \n",
      "91        0.0  0.0  0.0  0.0  0.0  1.0  0.0  0.0  0.0  \n",
      "92        0.0  0.0  0.0  0.0  0.0  0.0  0.0  0.0  0.0  \n",
      "93        0.0  0.0  0.0  0.0  0.0  1.0  0.0  0.0  0.0  \n",
      "94        0.0  1.0  0.0  0.0  0.0  0.0  1.0  0.0  0.0  \n",
      "95        0.0  0.0  0.0  0.0  0.0  0.0  0.0  1.0  0.0  \n",
      "96        0.0  0.0  0.0  0.0  0.0  0.0  1.0  0.0  0.0  \n",
      "97        0.0  0.0  0.0  0.0  0.0  0.0  0.0  1.0  0.0  \n",
      "98        0.0  0.0  0.0  1.0  0.0  0.0  0.0  0.0  0.0  \n",
      "99        0.0  0.0  0.0  0.0  0.0  0.0  0.0  1.0  1.0  \n",
      "\n",
      "[100 rows x 33 columns]\n"
     ]
    }
   ],
   "source": [
    "# join the offers and transactions table\n",
    "df = pd.merge(df_offers, df_transactions)\n",
    "# create a \"pivot table\" which will give us the number of times each customer responded to a given offer\n",
    "matrix = df.pivot_table(index=['customer_name'], columns=['offer_id'], values='n')\n",
    "# a little tidying up. fill NA values with 0 and make the index into a column\n",
    "matrix = matrix.fillna(0).reset_index()\n",
    "# # save a list of the 0/1 columns. we'll use these a bit later\n",
    "x_cols = matrix.columns[1:]\n",
    "# print(df)\n",
    "# print(\"------------\")\n",
    "print(matrix)"
   ]
  },
  {
   "cell_type": "markdown",
   "metadata": {},
   "source": [
    "Podzielmy klientów na grupy (segmenty) - do jednej grupy włączamy podobnych klientów - podobni klienci reagują na podobne oferty. Użyjemy Kmeans do grupowania."
   ]
  },
  {
   "cell_type": "code",
   "execution_count": 91,
   "metadata": {
    "collapsed": true
   },
   "outputs": [],
   "source": [
    "from sklearn.cluster import KMeans\n",
    "\n",
    "cluster = KMeans(n_clusters=5, random_state = 42)\n",
    "# slice matrix so we only include the 0/1 indicator columns in the clustering\n",
    "matrix['cluster'] = cluster.fit_predict(matrix[matrix.columns[2:]])\n"
   ]
  },
  {
   "cell_type": "markdown",
   "metadata": {},
   "source": [
    "ZADANIE: Jakie są liczności grup?"
   ]
  },
  {
   "cell_type": "code",
   "execution_count": 92,
   "metadata": {},
   "outputs": [
    {
     "data": {
      "text/plain": [
       "3    33\n",
       "2    20\n",
       "0    17\n",
       "4    16\n",
       "1    14\n",
       "Name: cluster, dtype: int64"
      ]
     },
     "execution_count": 92,
     "metadata": {},
     "output_type": "execute_result"
    }
   ],
   "source": [
    "matrix.cluster.value_counts()"
   ]
  },
  {
   "cell_type": "markdown",
   "metadata": {},
   "source": [
    "ZADANIE: Proszę zwizualizować wynik na płaszczyźnie (znacie odpowiednie metody)"
   ]
  },
  {
   "cell_type": "code",
   "execution_count": 93,
   "metadata": {},
   "outputs": [
    {
     "data": {
      "text/html": [
       "<div>\n",
       "<style scoped>\n",
       "    .dataframe tbody tr th:only-of-type {\n",
       "        vertical-align: middle;\n",
       "    }\n",
       "\n",
       "    .dataframe tbody tr th {\n",
       "        vertical-align: top;\n",
       "    }\n",
       "\n",
       "    .dataframe thead th {\n",
       "        text-align: right;\n",
       "    }\n",
       "</style>\n",
       "<table border=\"1\" class=\"dataframe\">\n",
       "  <thead>\n",
       "    <tr style=\"text-align: right;\">\n",
       "      <th>offer_id</th>\n",
       "      <th>customer_name</th>\n",
       "      <th>cluster</th>\n",
       "      <th>x</th>\n",
       "      <th>y</th>\n",
       "    </tr>\n",
       "  </thead>\n",
       "  <tbody>\n",
       "    <tr>\n",
       "      <th>0</th>\n",
       "      <td>Adams</td>\n",
       "      <td>2</td>\n",
       "      <td>1.007580</td>\n",
       "      <td>0.108215</td>\n",
       "    </tr>\n",
       "    <tr>\n",
       "      <th>1</th>\n",
       "      <td>Allen</td>\n",
       "      <td>3</td>\n",
       "      <td>-0.287539</td>\n",
       "      <td>0.044715</td>\n",
       "    </tr>\n",
       "    <tr>\n",
       "      <th>2</th>\n",
       "      <td>Anderson</td>\n",
       "      <td>0</td>\n",
       "      <td>-0.392032</td>\n",
       "      <td>1.038391</td>\n",
       "    </tr>\n",
       "    <tr>\n",
       "      <th>3</th>\n",
       "      <td>Bailey</td>\n",
       "      <td>4</td>\n",
       "      <td>0.699477</td>\n",
       "      <td>-0.022542</td>\n",
       "    </tr>\n",
       "    <tr>\n",
       "      <th>4</th>\n",
       "      <td>Baker</td>\n",
       "      <td>4</td>\n",
       "      <td>0.088183</td>\n",
       "      <td>-0.471695</td>\n",
       "    </tr>\n",
       "  </tbody>\n",
       "</table>\n",
       "</div>"
      ],
      "text/plain": [
       "offer_id customer_name  cluster         x         y\n",
       "0                Adams        2  1.007580  0.108215\n",
       "1                Allen        3 -0.287539  0.044715\n",
       "2             Anderson        0 -0.392032  1.038391\n",
       "3               Bailey        4  0.699477 -0.022542\n",
       "4                Baker        4  0.088183 -0.471695"
      ]
     },
     "execution_count": 93,
     "metadata": {},
     "output_type": "execute_result"
    }
   ],
   "source": [
    "from sklearn.decomposition import PCA\n",
    "\n",
    "pca = PCA(n_components=2)\n",
    "matrix['x'] = pca.fit_transform(matrix[x_cols])[:,0]\n",
    "matrix['y'] = pca.fit_transform(matrix[x_cols])[:,1]\n",
    "matrix = matrix.reset_index()\n",
    "\n",
    "customer_clusters = matrix[['customer_name', 'cluster', 'x', 'y']]\n",
    "customer_clusters.head()"
   ]
  },
  {
   "cell_type": "code",
   "execution_count": 94,
   "metadata": {},
   "outputs": [
    {
     "data": {
      "text/plain": [
       "2    -0.392032\n",
       "6    -0.591941\n",
       "11   -0.522247\n",
       "15   -0.392032\n",
       "17   -0.591941\n",
       "24   -0.239706\n",
       "29   -0.330960\n",
       "40   -0.392032\n",
       "41   -0.461726\n",
       "52   -0.342938\n",
       "53   -0.239706\n",
       "56   -0.461726\n",
       "65   -0.797379\n",
       "66   -0.239706\n",
       "76   -0.403273\n",
       "79   -0.273058\n",
       "83   -0.300227\n",
       "Name: x, dtype: float64"
      ]
     },
     "execution_count": 94,
     "metadata": {},
     "output_type": "execute_result"
    }
   ],
   "source": [
    "matrix.iloc[np.where(matrix['cluster'].values == 0)]['x']\n"
   ]
  },
  {
   "cell_type": "code",
   "execution_count": 95,
   "metadata": {},
   "outputs": [
    {
     "data": {
      "image/png": "[encoded data removed]",
      "text/plain": [
       "<Figure size 576x432 with 1 Axes>"
      ]
     },
     "metadata": {},
     "output_type": "display_data"
    }
   ],
   "source": [
    "import matplotlib.pyplot as plt\n",
    "import numpy as np\n",
    "\n",
    "\n",
    "\n",
    "colors = ['b', 'g', 'r', 'c', 'm']\n",
    "\n",
    "fig = plt.figure(figsize=(8,6))\n",
    "for i in range(5):\n",
    "    plt.scatter(matrix.iloc[np.where(matrix['cluster'].values == i)[0]]['x'], matrix.iloc[np.where(matrix['cluster'].values == i)[0]]['y'],\n",
    "            marker='x', color=colors[i], label='Iris-setosa')\n",
    "\n",
    "\n",
    "# plt.plot(matrix['x'], matrix['y'], 'x', color = colors[matrix['cluster']])\n",
    "plt.show()\n"
   ]
  },
  {
   "cell_type": "markdown",
   "metadata": {},
   "source": [
    "Zanalizujmy ostatni klaster.\n",
    "\n",
    "ZADANIE: Dla każdego wina wylistować ilość klientów które go kupili - z klastra 4 i z innych klastrów. "
   ]
  },
  {
   "cell_type": "code",
   "execution_count": 96,
   "metadata": {},
   "outputs": [
    {
     "data": {
      "text/plain": [
       "is_4   varietal          \n",
       "False  Prosecco              27\n",
       "       Espumante             21\n",
       "       Champagne             10\n",
       "       Pinot Noir             9\n",
       "       Malbec                 7\n",
       "       Chardonnay             6\n",
       "       Cabernet Sauvignon     4\n",
       "True   Espumante              5\n",
       "       Prosecco               4\n",
       "       Malbec                 3\n",
       "       Champagne              2\n",
       "       Chardonnay             1\n",
       "       Pinot Noir             1\n",
       "Name: varietal, dtype: int64"
      ]
     },
     "execution_count": 96,
     "metadata": {},
     "output_type": "execute_result"
    }
   ],
   "source": [
    "df['is_4'] = matrix['cluster']==4\n",
    "df.groupby(\"is_4\").varietal.value_counts()"
   ]
  },
  {
   "cell_type": "markdown",
   "metadata": {},
   "source": [
    "Które wino jest kupowane tylko przez ten klaster, a które wcale?"
   ]
  },
  {
   "cell_type": "markdown",
   "metadata": {},
   "source": [
    "ZADANIE: Spójrzmy na numeryczne atrybuty. Jak jest średnia ilości i rabatu?"
   ]
  },
  {
   "cell_type": "code",
   "execution_count": 97,
   "metadata": {},
   "outputs": [
    {
     "data": {
      "text/html": [
       "<div>\n",
       "<style scoped>\n",
       "    .dataframe tbody tr th:only-of-type {\n",
       "        vertical-align: middle;\n",
       "    }\n",
       "\n",
       "    .dataframe tbody tr th {\n",
       "        vertical-align: top;\n",
       "    }\n",
       "\n",
       "    .dataframe thead th {\n",
       "        text-align: right;\n",
       "    }\n",
       "</style>\n",
       "<table border=\"1\" class=\"dataframe\">\n",
       "  <thead>\n",
       "    <tr style=\"text-align: right;\">\n",
       "      <th></th>\n",
       "      <th>min_qty</th>\n",
       "      <th>discount</th>\n",
       "    </tr>\n",
       "    <tr>\n",
       "      <th>is_4</th>\n",
       "      <th></th>\n",
       "      <th></th>\n",
       "    </tr>\n",
       "  </thead>\n",
       "  <tbody>\n",
       "    <tr>\n",
       "      <th>False</th>\n",
       "      <td>65.857143</td>\n",
       "      <td>46.630952</td>\n",
       "    </tr>\n",
       "    <tr>\n",
       "      <th>True</th>\n",
       "      <td>73.875000</td>\n",
       "      <td>53.000000</td>\n",
       "    </tr>\n",
       "  </tbody>\n",
       "</table>\n",
       "</div>"
      ],
      "text/plain": [
       "         min_qty   discount\n",
       "is_4                       \n",
       "False  65.857143  46.630952\n",
       "True   73.875000  53.000000"
      ]
     },
     "execution_count": 97,
     "metadata": {},
     "output_type": "execute_result"
    }
   ],
   "source": [
    "df.groupby(\"is_4\")[['min_qty', 'discount']].mean()"
   ]
  },
  {
   "cell_type": "markdown",
   "metadata": {
    "collapsed": true
   },
   "source": [
    "Czy ci klienci kupują duże czy małe ilości?"
   ]
  },
  {
   "cell_type": "code",
   "execution_count": 98,
   "metadata": {},
   "outputs": [
    {
     "data": {
      "text/html": [
       "<div>\n",
       "<style scoped>\n",
       "    .dataframe tbody tr th:only-of-type {\n",
       "        vertical-align: middle;\n",
       "    }\n",
       "\n",
       "    .dataframe tbody tr th {\n",
       "        vertical-align: top;\n",
       "    }\n",
       "\n",
       "    .dataframe thead th {\n",
       "        text-align: right;\n",
       "    }\n",
       "</style>\n",
       "<table border=\"1\" class=\"dataframe\">\n",
       "  <thead>\n",
       "    <tr style=\"text-align: right;\">\n",
       "      <th></th>\n",
       "      <th>min_qty</th>\n",
       "      <th>discount</th>\n",
       "    </tr>\n",
       "    <tr>\n",
       "      <th>is_4</th>\n",
       "      <th></th>\n",
       "      <th></th>\n",
       "    </tr>\n",
       "  </thead>\n",
       "  <tbody>\n",
       "    <tr>\n",
       "      <th>False</th>\n",
       "      <td>56.966518</td>\n",
       "      <td>17.376608</td>\n",
       "    </tr>\n",
       "    <tr>\n",
       "      <th>True</th>\n",
       "      <td>56.358229</td>\n",
       "      <td>19.186801</td>\n",
       "    </tr>\n",
       "  </tbody>\n",
       "</table>\n",
       "</div>"
      ],
      "text/plain": [
       "         min_qty   discount\n",
       "is_4                       \n",
       "False  56.966518  17.376608\n",
       "True   56.358229  19.186801"
      ]
     },
     "execution_count": 98,
     "metadata": {},
     "output_type": "execute_result"
    }
   ],
   "source": [
    "df.groupby(\"is_4\")[['min_qty', 'discount']].std()"
   ]
  },
  {
   "cell_type": "code",
   "execution_count": null,
   "metadata": {
    "collapsed": true
   },
   "outputs": [],
   "source": []
  }
 ],
 "metadata": {
  "kernelspec": {
   "display_name": "Python 3",
   "language": "python",
   "name": "python3"
  },
  "language_info": {
   "codemirror_mode": {
    "name": "ipython",
    "version": 3
   },
   "file_extension": ".py",
   "mimetype": "text/x-python",
   "name": "python",
   "nbconvert_exporter": "python",
   "pygments_lexer": "ipython3",
   "version": "3.6.3"
  }
 },
 "nbformat": 4,
 "nbformat_minor": 2
}
