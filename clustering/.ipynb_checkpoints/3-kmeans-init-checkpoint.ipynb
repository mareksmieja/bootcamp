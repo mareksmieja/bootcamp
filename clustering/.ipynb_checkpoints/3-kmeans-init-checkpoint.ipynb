{
 "cells": [
  {
   "cell_type": "markdown",
   "metadata": {},
   "source": [
    "# k-means - inicjalizacja\n",
    "\n",
    "Algorytm zależy od początkowej inicjalizacji (funkcja kosztu jest niewypukła). \n",
    "\n",
    "ZADANIE: Proszę uruchomić algorytm na danych Iris 100 razy (2 środkowe współrzędne) z różnymi inicjalizacjami. Zaraportować błąd średniokwadratowy oraz zwizualizować wynik."
   ]
  },
  {
   "cell_type": "code",
   "execution_count": 9,
   "metadata": {
    "collapsed": true
   },
   "outputs": [],
   "source": [
    "import numpy as np\n",
    "import pandas as pd\n",
    "import matplotlib.pyplot as plt\n",
    "from sklearn.cluster import KMeans"
   ]
  },
  {
   "cell_type": "code",
   "execution_count": 1,
   "metadata": {},
   "outputs": [],
   "source": [
    "#"
   ]
  },
  {
   "cell_type": "markdown",
   "metadata": {},
   "source": [
    "Dlatego warto uruchamiać k-means kilka razy i brać wynik z najniższym kosztem\n",
    "\n",
    "ZADANIE: Proszę ustawić inicjalizację jako k-means++ i porównać z losową"
   ]
  },
  {
   "cell_type": "code",
   "execution_count": 2,
   "metadata": {
    "collapsed": true
   },
   "outputs": [],
   "source": [
    "#"
   ]
  }
 ],
 "metadata": {
  "kernelspec": {
   "display_name": "Python 3",
   "language": "python",
   "name": "python3"
  },
  "language_info": {
   "codemirror_mode": {
    "name": "ipython",
    "version": 3
   },
   "file_extension": ".py",
   "mimetype": "text/x-python",
   "name": "python",
   "nbconvert_exporter": "python",
   "pygments_lexer": "ipython3",
   "version": "3.6.3"
  }
 },
 "nbformat": 4,
 "nbformat_minor": 2
}
