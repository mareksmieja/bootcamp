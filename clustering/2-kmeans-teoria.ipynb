{
 "cells": [
  {
   "cell_type": "markdown",
   "metadata": {},
   "source": [
    "Problem: Dostarczamy towar odbiorcom. Każdy odbiorca ma fizyczną siedzibę. Chcemy wybudować $k$ punktów dystrybucji tak aby najłatwiej obsłużyć wszystkich odbiorców. Mogą to być odbiorcy telefoni komórkowej i chcemy ustawić wieże nadawcze. \n",
    "\n",
    "Gdzie powinnośmy umieścić nasze punkty dystrybucji?"
   ]
  },
  {
   "cell_type": "markdown",
   "metadata": {},
   "source": [
    "ZADANIE: Załóżmy że umieszczamy jeden punkt dla wszystkich klientów. Gdzie powinien się znaleźć?"
   ]
  },
  {
   "cell_type": "code",
   "execution_count": 1,
   "metadata": {},
   "outputs": [],
   "source": [
    "import numpy as np\n",
    "import matplotlib.pyplot as plt\n",
    "n = 100\n",
    "\n",
    "X = np.random.rand(n,2)\n",
    "\n",
    "\n",
    "#m = \n",
    "\n",
    "\n",
    "# plt.plot(X[:,0], X[:,1],'x')\n",
    "# plt.scatter(m[0],m[1],color = 'r')\n",
    "# plt.show()"
   ]
  },
  {
   "cell_type": "markdown",
   "metadata": {},
   "source": [
    "ZADANIE: Załóżmy teraz że chcemy umieścić $k$ centrów. Jak je umieścić? Proszę zaproponować i zaimplementować."
   ]
  },
  {
   "cell_type": "code",
   "execution_count": 2,
   "metadata": {
    "collapsed": true
   },
   "outputs": [],
   "source": [
    "#"
   ]
  },
  {
   "cell_type": "markdown",
   "metadata": {},
   "source": [
    "Chociaż algorytm grupowania danych k-means może być zastosowane do danych w wysokich wymiarach my zaczniemy od bardzo prostych danych.\n",
    "\n",
    "ZADANIE: Prosze wygenerować dane z 3 blobów na płaszczyźnie i narysować zaznaczając osobnym kolorem każdy blob. Następnie poklastrować kmeans i narysować wynik"
   ]
  },
  {
   "cell_type": "code",
   "execution_count": 3,
   "metadata": {},
   "outputs": [],
   "source": [
    "#"
   ]
  },
  {
   "cell_type": "markdown",
   "metadata": {},
   "source": [
    "W rzeczywistych zastosowaniach klastrowania (analizy skupień), nie mamy żadnej informacji na temat tych próbek (w przeciwnym razie należałoby do kategorii nauki nadzorowanej). \n",
    "\n",
    "W rzeczywistych zastosowaniach klastrowania (analizy skupień), nie mamy żadnej informacji na temat tych próbek (w przeciwnym razie należałoby do kategorii nauki nadzorowanej). \n",
    "\n",
    "Dlatego naszym celem jest grupowanie próbek w oparciu o podobieństwo poszczegulnych punktów, które możemy osiągnąć za pomocą algorytmu k-średnich, który można podsumować w czterech następujących krokach:\n",
    "\n",
    "1. Losowo wybierz $k$ centroidy z punktów jako początkowe centroidy grup.\n",
    "2. Przypisz każdą próbkę do najbliższego centroidu $\\mu^(j)$ dla $j \\in 1, \\ldots, k$.\n",
    "3. Wylicz nowe centroidy środki nowo powstałych grup.\n",
    "4. Powtórz kroki 2 i 3, dopóki \n",
    "  * przynależność do grup wszytkich punktów się nie zmienia \n",
    "  * lub zmiana funkcji kosztu jest mniejsza niż tolerancja zdefiniowana przez użytkownika \n",
    "  * lub zostanie osiągnięta maksymalna liczba iteracji."
   ]
  },
  {
   "cell_type": "markdown",
   "metadata": {},
   "source": [
    "# Przykład\n",
    "\n",
    "  * ustawiamy liczbę żądanych klastrów na 3 (określenie liczby klastrów a priori jest jednym z ograniczeń metody k-means)   *     * ustawiamy n_init = 10, aby uruchamiać algorytmy k-średnich klastrów 10 razy niezależnie z różnymi losowymi centroidami, aby wybrać ostateczny model z najniższym SSE. \n",
    "  * Poprzez parametr max_iter określamy maksymalną liczbę iteracji dla każdego pojedynczego uruchomienia (tutaj, 300). \n",
    "    * Zauważ, że implementacja k-means w **scikit-learn** zatrzymuje się wcześniej jeśli osiągnie zbierzność.\n",
    "    * Możliwe jest, że algorytm k-means nie osiągną zbieżności dla określonego przebiegu co może być kosztowne obliczeniowo (dla dużych max_iter). \n",
    "    * Jednym ze sposobów radzenia sobie z problemami zbieżności jest wybór większych wartości dla parametru tol, który kontroluje tolerancję w odniesieniu do zmian SSE. "
   ]
  },
  {
   "cell_type": "code",
   "execution_count": 4,
   "metadata": {
    "collapsed": true
   },
   "outputs": [],
   "source": [
    "from sklearn.cluster import KMeans\n",
    "\n",
    "km = KMeans(n_clusters=3, \n",
    "            init='random', \n",
    "            n_init=10, \n",
    "            max_iter=300,\n",
    "            tol=1e-04,\n",
    "            random_state=0)\n",
    "\n",
    "y_km = km.fit_predict(X)\n",
    "\n"
   ]
  },
  {
   "cell_type": "code",
   "execution_count": 5,
   "metadata": {},
   "outputs": [
    {
     "data": {
      "image/png": "[encoded data removed]",
      "text/plain": [
       "<matplotlib.figure.Figure at 0x1c06e1f7320>"
      ]
     },
     "metadata": {},
     "output_type": "display_data"
    }
   ],
   "source": [
    "plt.scatter(X[y_km == 0, 0],\n",
    "            X[y_km == 0, 1],\n",
    "            label='cluster 1')\n",
    "plt.scatter(X[y_km == 1, 0],\n",
    "            X[y_km == 1, 1],\n",
    "            label='cluster 2')\n",
    "plt.scatter(X[y_km == 2, 0],\n",
    "            X[y_km == 2, 1],\n",
    "            label='cluster 3')\n",
    "plt.show()"
   ]
  },
  {
   "cell_type": "code",
   "execution_count": null,
   "metadata": {
    "collapsed": true
   },
   "outputs": [],
   "source": []
  }
 ],
 "metadata": {
  "kernelspec": {
   "display_name": "Python 3",
   "language": "python",
   "name": "python3"
  },
  "language_info": {
   "codemirror_mode": {
    "name": "ipython",
    "version": 3
   },
   "file_extension": ".py",
   "mimetype": "text/x-python",
   "name": "python",
   "nbconvert_exporter": "python",
   "pygments_lexer": "ipython3",
   "version": "3.6.3"
  }
 },
 "nbformat": 4,
 "nbformat_minor": 2
}
