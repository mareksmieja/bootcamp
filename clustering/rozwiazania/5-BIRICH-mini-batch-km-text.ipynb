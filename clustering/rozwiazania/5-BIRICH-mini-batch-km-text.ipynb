{
 "cells": [
  {
   "cell_type": "markdown",
   "metadata": {},
   "source": [
    "# Zad\n",
    "Weź 20newsgroup i zastosuj algorytmy:\n",
    " * PCA + k-means\n",
    " * MiniBatchKMeans (batch_size = 100)\n",
    " * Birch + k-means\n",
    " \n",
    " "
   ]
  },
  {
   "cell_type": "markdown",
   "metadata": {},
   "source": [
    "# Zad\n",
    "\n",
    "Wypiszmy najbardziej znaczące współrzędne środków dla każdej z metod."
   ]
  },
  {
   "cell_type": "markdown",
   "metadata": {},
   "source": [
    "# Zad\n",
    "\n",
    "Narysujmy w tabeli:\n",
    "  * środki grup,\n",
    "  * najbliższe elementy w grupach,\n",
    "  * najdalsze elementy w grupach."
   ]
  },
  {
   "cell_type": "markdown",
   "metadata": {
    "collapsed": true
   },
   "source": [
    "# Zad\n",
    "\n",
    "porówniaj dla wszystkich podejść:\n",
    "```python\n",
    "metrics.adjusted_rand_score\n",
    "```\n"
   ]
  },
  {
   "cell_type": "code",
   "execution_count": null,
   "metadata": {
    "collapsed": true
   },
   "outputs": [],
   "source": []
  }
 ],
 "metadata": {
  "kernelspec": {
   "display_name": "Python 3",
   "language": "python",
   "name": "python3"
  },
  "language_info": {
   "codemirror_mode": {
    "name": "ipython",
    "version": 3
   },
   "file_extension": ".py",
   "mimetype": "text/x-python",
   "name": "python",
   "nbconvert_exporter": "python",
   "pygments_lexer": "ipython3",
   "version": "3.6.5"
  }
 },
 "nbformat": 4,
 "nbformat_minor": 2
}
