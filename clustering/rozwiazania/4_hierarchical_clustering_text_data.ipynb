{
 "cells": [
  {
   "cell_type": "markdown",
   "metadata": {},
   "source": [
    "# Zad.\n",
    "Pytamy się jakie są naturalne grupy w postach. Bierzemy zbiór 20newsgroups."
   ]
  },
  {
   "cell_type": "code",
   "execution_count": 67,
   "metadata": {},
   "outputs": [],
   "source": [
    "import numpy as np\n",
    "import pandas as pd\n",
    "import matplotlib.pyplot as plt"
   ]
  },
  {
   "cell_type": "markdown",
   "metadata": {},
   "source": [
    "### wczytaj dane"
   ]
  },
  {
   "cell_type": "code",
   "execution_count": 68,
   "metadata": {},
   "outputs": [],
   "source": [
    "from sklearn.datasets import fetch_20newsgroups\n",
    "twenty = fetch_20newsgroups(subset='all', shuffle=True)#, remove=('headers', 'footers', 'quotes'))"
   ]
  },
  {
   "cell_type": "code",
   "execution_count": 69,
   "metadata": {},
   "outputs": [
    {
     "data": {
      "text/plain": [
       "'the 20 newsgroups by date dataset'"
      ]
     },
     "execution_count": 69,
     "metadata": {},
     "output_type": "execute_result"
    }
   ],
   "source": [
    "twenty.description"
   ]
  },
  {
   "cell_type": "code",
   "execution_count": 70,
   "metadata": {},
   "outputs": [
    {
     "data": {
      "text/plain": [
       "['alt.atheism',\n",
       " 'comp.graphics',\n",
       " 'comp.os.ms-windows.misc',\n",
       " 'comp.sys.ibm.pc.hardware',\n",
       " 'comp.sys.mac.hardware',\n",
       " 'comp.windows.x',\n",
       " 'misc.forsale',\n",
       " 'rec.autos',\n",
       " 'rec.motorcycles',\n",
       " 'rec.sport.baseball',\n",
       " 'rec.sport.hockey',\n",
       " 'sci.crypt',\n",
       " 'sci.electronics',\n",
       " 'sci.med',\n",
       " 'sci.space',\n",
       " 'soc.religion.christian',\n",
       " 'talk.politics.guns',\n",
       " 'talk.politics.mideast',\n",
       " 'talk.politics.misc',\n",
       " 'talk.religion.misc']"
      ]
     },
     "execution_count": 70,
     "metadata": {},
     "output_type": "execute_result"
    }
   ],
   "source": [
    "twenty.target_names"
   ]
  },
  {
   "cell_type": "markdown",
   "metadata": {},
   "source": [
    "### Wypisz pierwszy post"
   ]
  },
  {
   "cell_type": "code",
   "execution_count": 71,
   "metadata": {},
   "outputs": [
    {
     "name": "stdout",
     "output_type": "stream",
     "text": [
      "From: Mamatha Devineni Ratnam <mr47+@andrew.cmu.edu>\n",
      "Subject: Pens fans reactions\n",
      "Organization: Post Office, Carnegie Mellon, Pittsburgh, PA\n",
      "Lines: 12\n",
      "NNTP-Posting-Host: po4.andrew.cmu.edu\n",
      "\n",
      "\n",
      "\n",
      "I am sure some bashers of Pens fans are pretty confused about the lack\n",
      "of any kind of posts about the recent Pens massacre of the Devils. Actually,\n",
      "I am  bit puzzled too and a bit relieved. However, I am going to put an end\n",
      "to non-PIttsburghers' relief with a bit of praise for the Pens. Man, they\n",
      "are killing those Devils worse than I thought. Jagr just showed you why\n",
      "he is much better than his regular season stats. He is also a lot\n",
      "fo fun to watch in the playoffs. Bowman should let JAgr have a lot of\n",
      "fun in the next couple of games since the Pens are going to beat the pulp out of Jersey anyway. I was very disappointed not to see the Islanders lose the final\n",
      "regular season game.          PENS RULE!!!\n",
      "\n",
      "\n"
     ]
    }
   ],
   "source": [
    "print(twenty.data[0])"
   ]
  },
  {
   "cell_type": "markdown",
   "metadata": {},
   "source": [
    "ZADANIE: Zbiór jest dość duży. Weź po 50 przykładów z każdej z klas dla 5 kategorii. Wynik zapisz w\n",
    "\n",
    " * X_set\n",
    " * y_set\n",
    " \n"
   ]
  },
  {
   "cell_type": "code",
   "execution_count": 72,
   "metadata": {},
   "outputs": [
    {
     "data": {
      "text/plain": [
       "20"
      ]
     },
     "execution_count": 72,
     "metadata": {},
     "output_type": "execute_result"
    }
   ],
   "source": [
    "#grupuje dane z kolejnych klas razem\n",
    "\n",
    "data = []\n",
    "for j in range(len(twenty.target_names)):\n",
    "    data.append([twenty.data[i] \n",
    "                 for i in range(twenty.target.shape[0]) \n",
    "                 if twenty.target[i] == j])\n",
    "len(data)"
   ]
  },
  {
   "cell_type": "code",
   "execution_count": 73,
   "metadata": {},
   "outputs": [],
   "source": [
    "#biore okreslona ilosc danych z kazdej klasy\n",
    "\n",
    "categories = 5\n",
    "num=50\n",
    "X_set = []\n",
    "Y_set =[]\n",
    "for i in range(categories):\n",
    "    X_set = X_set + data[i][:num]\n",
    "    Y_set = Y_set + [i]*num"
   ]
  },
  {
   "cell_type": "code",
   "execution_count": 51,
   "metadata": {},
   "outputs": [
    {
     "data": {
      "text/plain": [
       "[0, 0, 0, 0, 0, 0]"
      ]
     },
     "execution_count": 51,
     "metadata": {},
     "output_type": "execute_result"
    }
   ],
   "source": [
    "Y_set[:6]"
   ]
  },
  {
   "cell_type": "markdown",
   "metadata": {},
   "source": [
    "ZADANIE: Proszę zwektoryzować dane"
   ]
  },
  {
   "cell_type": "code",
   "execution_count": 74,
   "metadata": {},
   "outputs": [],
   "source": [
    "#wektoryzuje dane\n",
    "import string\n",
    "import collections\n",
    " \n",
    "from nltk import word_tokenize\n",
    "from nltk.stem import PorterStemmer\n",
    "from nltk.corpus import stopwords\n",
    "from sklearn.cluster import KMeans\n",
    "from sklearn.feature_extraction.text import TfidfVectorizer\n",
    "from pprint import pprint\n",
    "def process_text(text, stem=True):\n",
    "    \"\"\" Tokenize text and stem words removing punctuation \"\"\"\n",
    "    tokens = word_tokenize(text)\n",
    "    if stem:\n",
    "        stemmer = PorterStemmer()\n",
    "        tokens = [stemmer.stem(t) for t in tokens] \n",
    "    return tokens\n",
    "\"\"\" Transform texts to Tf-Idf coordinates and cluster texts using K-Means \"\"\"\n",
    "vectorizer = TfidfVectorizer(tokenizer=process_text,\n",
    "                             stop_words=stopwords.words('english'),\n",
    "#                              max_df=0.5,\n",
    "                             min_df=0.05,\n",
    "                             lowercase=True)\n",
    "\n",
    "X_vectors = vectorizer.fit_transform(X_set)\n",
    "    \n",
    "\n",
    " "
   ]
  },
  {
   "cell_type": "code",
   "execution_count": 75,
   "metadata": {},
   "outputs": [
    {
     "name": "stdout",
     "output_type": "stream",
     "text": [
      "(250, 357)\n",
      "250\n"
     ]
    }
   ],
   "source": [
    "print(X_vectors.shape)\n",
    "print(len(Y_set))"
   ]
  },
  {
   "cell_type": "code",
   "execution_count": 76,
   "metadata": {},
   "outputs": [
    {
     "data": {
      "text/plain": [
       "array([0, 1, 2, 3, 4])"
      ]
     },
     "execution_count": 76,
     "metadata": {},
     "output_type": "execute_result"
    }
   ],
   "source": [
    "np.unique(Y_set)"
   ]
  },
  {
   "cell_type": "markdown",
   "metadata": {},
   "source": [
    "# Zad. \n",
    "\n",
    "Wykonajmy grupowanie danych metodą hierarchiczną.\n",
    "\n",
    "Użyj odległości:\n",
    "    \n",
    "   * 'euclidean'\n",
    "   * 'cosine'\n",
    "    \n",
    "Dlaczego odległość 'euclidean' jest gorsza od 'cosine'?"
   ]
  },
  {
   "cell_type": "code",
   "execution_count": 61,
   "metadata": {},
   "outputs": [
    {
     "data": {
      "text/plain": [
       "False"
      ]
     },
     "execution_count": 61,
     "metadata": {},
     "output_type": "execute_result"
    }
   ],
   "source": [
    "d = pdist(df, metric='cosine')\n",
    "np.nan_to_num(d, copy = False)\n",
    "np.isnan(d).any()\n"
   ]
  },
  {
   "cell_type": "code",
   "execution_count": 77,
   "metadata": {},
   "outputs": [],
   "source": [
    "from scipy.spatial.distance import pdist, squareform\n",
    "from scipy.cluster.hierarchy import linkage\n",
    "from scipy.cluster.hierarchy import dendrogram\n",
    "from scipy.cluster.hierarchy import fcluster\n",
    "from sklearn import metrics"
   ]
  },
  {
   "cell_type": "code",
   "execution_count": 80,
   "metadata": {},
   "outputs": [
    {
     "data": {
      "image/png": "[encoded data removed]",
      "text/plain": [
       "<Figure size 1800x720 with 1 Axes>"
      ]
     },
     "metadata": {},
     "output_type": "display_data"
    }
   ],
   "source": [
    "df = pd.DataFrame(X_vectors.todense())\n",
    "df\n",
    "\n",
    "plt.figure(figsize=(25, 10))\n",
    "row_clusters = linkage(df.values, metric='euclidean', method='average') \n",
    "row_dendr = dendrogram(row_clusters)\n",
    "plt.show()\n"
   ]
  },
  {
   "cell_type": "code",
   "execution_count": 81,
   "metadata": {},
   "outputs": [
    {
     "data": {
      "image/png": "[encoded data removed]",
      "text/plain": [
       "<Figure size 1800x720 with 1 Axes>"
      ]
     },
     "metadata": {},
     "output_type": "display_data"
    }
   ],
   "source": [
    "df = pd.DataFrame(X_vectors.todense())\n",
    "df\n",
    "\n",
    "plt.figure(figsize=(25, 10))\n",
    "row_clusters = linkage(pdist(df, metric='cosine'), method='average') \n",
    "row_dendr = dendrogram(row_clusters)\n",
    "\n",
    "plt.ylabel('Euclidean distance')\n",
    "plt.show()\n"
   ]
  },
  {
   "cell_type": "code",
   "execution_count": 82,
   "metadata": {},
   "outputs": [
    {
     "data": {
      "image/png": "[encoded data removed]",
      "text/plain": [
       "<Figure size 1800x720 with 1 Axes>"
      ]
     },
     "metadata": {},
     "output_type": "display_data"
    }
   ],
   "source": [
    "df = pd.DataFrame(X_vectors.todense())\n",
    "df\n",
    "\n",
    "plt.figure(figsize=(25, 10))\n",
    "row_clusters = linkage(pdist(df, metric='cosine'), method='complete') \n",
    "row_dendr = dendrogram(row_clusters)\n",
    "\n",
    "plt.ylabel('Euclidean distance')\n",
    "plt.show()"
   ]
  },
  {
   "cell_type": "markdown",
   "metadata": {},
   "source": [
    "# Zad \n",
    "\n",
    "Podziel dane na 20 grup"
   ]
  },
  {
   "cell_type": "code",
   "execution_count": 83,
   "metadata": {},
   "outputs": [],
   "source": [
    "part = fcluster(row_clusters, 20, 'maxclust')\n",
    "# print(part)\n",
    "# print(np.unique(part))"
   ]
  },
  {
   "cell_type": "markdown",
   "metadata": {},
   "source": [
    "ZADANIE: Prosze wypisać liczności grup"
   ]
  },
  {
   "cell_type": "code",
   "execution_count": 85,
   "metadata": {},
   "outputs": [],
   "source": [
    "counts = np.unique(part, return_counts = True)"
   ]
  },
  {
   "cell_type": "markdown",
   "metadata": {},
   "source": [
    "Dostaliśmy rozsądne liczności klastrów. \n",
    "\n",
    "Chcemy zobaczyć reprezentantów klastrów:\n",
    "* średnie będą reprezentowały częstości słów\n",
    "* możemy wylistować zdania będące najbliżej średnich\n",
    "\n",
    "Wypisujemy najbardziej reprezentatywne słowa w klastrach (jakie są reprezentatywne?)"
   ]
  },
  {
   "cell_type": "code",
   "execution_count": 86,
   "metadata": {},
   "outputs": [],
   "source": [
    "n_elements = len(set(part))\n",
    "\n",
    "X_dense = X_vectors.todense()\n",
    "centers = np.zeros((n_elements, X_dense.shape[1]))\n",
    "\n",
    "for i in range(1,n_elements+1):\n",
    "    centers[i-1] = np.mean(X_dense[part == i], axis = 0)\n",
    "# print(\"---------------------------\")\n",
    "# print(centers)\n",
    "# print(\"---------------------------\")"
   ]
  },
  {
   "cell_type": "code",
   "execution_count": 81,
   "metadata": {},
   "outputs": [
    {
     "name": "stdout",
     "output_type": "stream",
     "text": [
      "['univers', 'know', 'good', 'ani', 'question', 'problem', 'comput', \"'s\", 'anyon', '2', 'drive', 'onli', 'use', 'also', 'hard', \"'ve\", 'read', 'program', 'softwar', 'disk']\n",
      "['wa', 'articl', '<', 'write', 'time', 'say', 'right', 'would', 'problem', 'get', 'becaus', \"'s\", 'work', 'new', '...', 'think', \"'\", '!', 'world', 'support']\n",
      "['univers', 'nntp-posting-host', 'even', 'ani', 'question', 'would', 'get', \"'s\", 'work', 'file', 'doe', 'tri', 'find', 'use', 'help', 'thank', 'run', 'system', 'pc', 'window']\n",
      "['univers', 'write', 'time', 'ani', 'need', 'ha', '-', 'way', 'get', 'work', 'file', '...', 'drive', 'use', 'version', 'read', 'run', 'program', 'pc', 'window']\n",
      "['<', 'write', \"''\", '$', 'one', 'make', '``', 'ha', 'actual', 'way', 'anoth', 'go', 'doe', 'drive', 'think', 'use', 'could', 'run', 'system', '16']\n",
      "['wa', 'univers', 'nntp-posting-host', '<', 'time', \"''\", 'state', \"'d\", 'peopl', 'one', '``', 'question', 'would', 'problem', 'doe', '...', 'think', 'use', 'hi', 'could']\n",
      "['univers', 'articl', '<', 'write', 'time', \"''\", 'know', 'one', 'ha', 'littl', 'problem', 'post', 'someon', 'seem', 'could', 'sure', '!', 'read', 'well', 'mac']\n",
      "['ani', 'would', '-', \"'s\", 'work', 'doe', '2', 'use', 'veri', ';', 'want', 'help', 'thank', 'version', '!', 'system', 'may', 'pc', 'window', 'card']\n",
      "['wa', 'articl', '<', \"''\", 'say', '[', ']', 'like', 'know', 'make', '``', 'question', 'would', '-', \"'s\", 'post', 'doe', '...', ';', '!']\n",
      "['wa', 'univers', 'nntp-posting-host', 'write', \"''\", 'say', '[', ']', 'know', 'realli', 'must', '``', 'ha', 'becaus', 'doe', 'use', 'wrote', '!', 'well', '|']\n",
      "['univers', 'nntp-posting-host', '<', '$', 'like', 'know', 'one', 'ani', 'would', 'way', 'get', 'comput', 'anyon', 'doe', 'drive', 'thank', 'pleas', 'distribut', 'world', 'mac']\n",
      "['wa', 'univers', 'like', 'ani', 'ha', 'look', 'problem', 'get', 'thing', \"'s\", 'work', 'use', 'want', 'version', 'well', 'distribut', '4', 'program', 'machin', 'window']\n",
      "['<', \"''\", 'say', 'one', '``', '-', 'way', 'true', \"'s\", '#', 'doe', 'believ', 'possibl', 'also', '!', 'system', 'come', '|', 'mean', 'window']\n",
      "['univers', 'nntp-posting-host', '<', \"''\", '$', '``', 'ha', 'anyon', 'file', '#', '...', 'want', 'could', 'help', 'thank', 'pleas', '!', 'distribut', 'world', 'window']\n",
      "['univers', 'nntp-posting-host', 'articl', '<', \"''\", 'state', 'two', '``', 'need', 'ha', '-', 'comput', \"'s\", '...', 'use', '!', \"'m\", '|', 'mac', 'reply-to']\n",
      "['univers', 'nntp-posting-host', '<', 'state', '-', 'look', 'problem', 'post', '1', '2', '...', 'tri', 'could', 'help', 'thank', 'email', '4', 'mac', 'reply-to', 'usa']\n",
      "['wa', 'nntp-posting-host', 'write', 'one', 'ha', 'someth', 'tell', 'true', 'get', 'comput', \"'s\", '2', '...', 'call', 'sinc', 'want', 'seem', '16', 'number', 'card']\n",
      "['univers', 'nntp-posting-host', 'peopl', 'idea', 'ha', 'would', 'tell', 'get', 'anyon', 'new', '...', 'think', 'hi', \"'ve\", 'thank', 'group', 'distribut', 'world', 'system', 'usa']\n",
      "['nntp-posting-host', \"''\", '[', ']', 'one', 'ani', 'first', 'work', 'believ', '...', 'whi', 'use', 'sinc', \"'\", 'seem', 'thank', 'email', '!', \"'m\", 'pc']\n",
      "['nntp-posting-host', 'write', \"''\", 'one', 'ani', '``', 'need', 'would', 'tell', 'look', \"'s\", 'post', 'anyon', 'work', 'file', 'hi', \"'\", \"'m\", '4', 'may']\n"
     ]
    }
   ],
   "source": [
    "top = 20\n",
    "for i in range(n_elements):\n",
    "    tops = np.argsort(centers[i,:])[-top:]#[::-1]\n",
    "    print([w for w in vectorizer.vocabulary_ \n",
    "           if vectorizer.vocabulary_[w] in tops])"
   ]
  },
  {
   "cell_type": "markdown",
   "metadata": {},
   "source": [
    "# Zad\n",
    "\n",
    "Wypiszmy teraz posty najbardziej reprezentujące klaster (zdania najbliższe średniej)"
   ]
  },
  {
   "cell_type": "code",
   "execution_count": 82,
   "metadata": {},
   "outputs": [
    {
     "name": "stdout",
     "output_type": "stream",
     "text": [
      "From: weidlich@arb-phys.uni-dortmund.de (Weidlich)\n",
      "Subject: Searching for a phonetic font\n",
      "Organization: Institut f. Arbeitsphysiologie a.d. Uni Dortmund\n",
      "Lines: 13\n",
      "\n",
      "I'm searching for a phonetic TrueType font for Windows 3.1. If \n",
      "anybody knows one, please mail me!\n",
      "\n",
      "Thanks.\n",
      "\n",
      "dw \n",
      "\n",
      "\n",
      "##################################################################\n",
      "Dipl.-Inform. Dietmar Weidlich    # IfADo, Ardeystr. 67          #\n",
      "weidlich@arb-phys.uni-dortmund.de # D-4600 Dortmund 50           #\n",
      "Phone ++49 231 1084-250           # >> Dr. B.: \"Koennten Sie das #\n",
      "Fax   ++49 231 1084-401           #      MAL EBEN erledigen?\" << #\n",
      "\n",
      "-----------------------------------------------------------------------------\n",
      "From: sp@odin.NoSubdomain.NoDomain (Svein Pedersen)\n",
      "Subject: Utility for updating Win.ini and system.ini\n",
      "Organization: University of Tromsoe, Norway\n",
      "Lines: 6\n",
      "\n",
      "I nead a utility for updating (deleting, adding, changing) *.ini files for Windows. \n",
      "\n",
      "Do I find it on any FTP host?\n",
      "\n",
      "Svein\n",
      "\n",
      "\n",
      "-----------------------------------------------------------------------------\n",
      "From: weidlich@arb-phys.uni-dortmund.de (Weidlich)\n",
      "Subject: Searching for a phonetic font\n",
      "Organization: Institut f. Arbeitsphysiologie a.d. Uni Dortmund\n",
      "Lines: 13\n",
      "\n",
      "I'm searching for a phonetic TrueType font for Windows 3.1. If \n",
      "anybody knows one, please mail me!\n",
      "\n",
      "Thanks.\n",
      "\n",
      "dw \n",
      "\n",
      "\n",
      "##################################################################\n",
      "Dipl.-Inform. Dietmar Weidlich    # IfADo, Ardeystr. 67          #\n",
      "weidlich@arb-phys.uni-dortmund.de # D-4600 Dortmund 50           #\n",
      "Phone ++49 231 1084-250           # >> Dr. B.: \"Koennten Sie das #\n",
      "Fax   ++49 231 1084-401           #      MAL EBEN erledigen?\" << #\n",
      "\n",
      "-----------------------------------------------------------------------------\n",
      "From: glang@slee01.srl.ford.com (Gordon Lang)\n",
      "Subject: Flame Therapy\n",
      "Article-I.D.: fmsrl7.1pqdfrINN88e\n",
      "Organization: Ford Motor Company Research Laboratory\n",
      "Lines: 5\n",
      "NNTP-Posting-Host: slee01.srl.ford.com\n",
      "X-Newsreader: Tin 1.1 PL5\n",
      "\n",
      "I think it would be a great idea to have a new group created:\n",
      "\n",
      "comp.sys.ibm.pc.flame.therapy\n",
      "\n",
      "anybody agree?\n",
      "\n",
      "-----------------------------------------------------------------------------\n",
      "From: weidlich@arb-phys.uni-dortmund.de (Weidlich)\n",
      "Subject: Searching for a phonetic font\n",
      "Organization: Institut f. Arbeitsphysiologie a.d. Uni Dortmund\n",
      "Lines: 13\n",
      "\n",
      "I'm searching for a phonetic TrueType font for Windows 3.1. If \n",
      "anybody knows one, please mail me!\n",
      "\n",
      "Thanks.\n",
      "\n",
      "dw \n",
      "\n",
      "\n",
      "##################################################################\n",
      "Dipl.-Inform. Dietmar Weidlich    # IfADo, Ardeystr. 67          #\n",
      "weidlich@arb-phys.uni-dortmund.de # D-4600 Dortmund 50           #\n",
      "Phone ++49 231 1084-250           # >> Dr. B.: \"Koennten Sie das #\n",
      "Fax   ++49 231 1084-401           #      MAL EBEN erledigen?\" << #\n",
      "\n",
      "-----------------------------------------------------------------------------\n",
      "From: dewinter@prl.philips.nl (Rob de Winter)\n",
      "Subject: WANTED: Address SYMANTEC\n",
      "Originator: dewinter@prl.philips.nl\n",
      "Organization: Philips Research Laboratories, Eindhoven, The Netherlands\n",
      "Lines: 17\n",
      "\n",
      "I am looking for the exact address of the Symantec Coporatoin, which \n",
      "distributes Norton Desktop and other Windows software.\n",
      "\n",
      "The information I am looking for is:\n",
      "\n",
      "Mail address\n",
      "Phone number\n",
      "Fax number\n",
      "E-mail address\n",
      "\n",
      "Thanks in advance.\n",
      "\n",
      "-- \n",
      "*** Nothing beats skiing, if you want to have real fun during holidays. ***\n",
      "***       Rob de Winter  Philips Research, IST/IT, Building WL-1        ***\n",
      "***       P.O. Box 80000, 5600 JA  Eindhoven. The Netherlands           ***\n",
      "***       Tel: +31 40 743621  E-mail: dewinter@prl.philips.nl           ***\n",
      "\n",
      "-----------------------------------------------------------------------------\n",
      "From: weidlich@arb-phys.uni-dortmund.de (Weidlich)\n",
      "Subject: Searching for a phonetic font\n",
      "Organization: Institut f. Arbeitsphysiologie a.d. Uni Dortmund\n",
      "Lines: 13\n",
      "\n",
      "I'm searching for a phonetic TrueType font for Windows 3.1. If \n",
      "anybody knows one, please mail me!\n",
      "\n",
      "Thanks.\n",
      "\n",
      "dw \n",
      "\n",
      "\n",
      "##################################################################\n",
      "Dipl.-Inform. Dietmar Weidlich    # IfADo, Ardeystr. 67          #\n",
      "weidlich@arb-phys.uni-dortmund.de # D-4600 Dortmund 50           #\n",
      "Phone ++49 231 1084-250           # >> Dr. B.: \"Koennten Sie das #\n",
      "Fax   ++49 231 1084-401           #      MAL EBEN erledigen?\" << #\n",
      "\n",
      "-----------------------------------------------------------------------------\n",
      "From: walter@uni-koblenz.de (Walter Hower)\n",
      "Subject: Re: PARAMETRIC/VARIATIONAL DESIGN\n",
      "Organization: University of Koblenz, Germany\n",
      "Lines: 149\n",
      "NNTP-Posting-Host: wolf.uni-koblenz.de\n",
      "In-reply-to: patel@enuxha.eas.asu.edu's message of Wed, 28 Apr 1993 18:15:40 GMT\n",
      "\n",
      "Here now some initial references; best regards - Walter.\n",
      "@InProceedings{Keirouz:et:al:90,\n",
      "  author = \t\"Walid Keirouz and Jahir Pabon and Robert Young\",\n",
      "  title = \t\"{Integrating parametric geometry, features, and\n",
      "\t\t variational modeling for conceptual design}\",\n",
      "  booktitle = \t\"International Conference on Design Theory and Methodology\",\n",
      "  year = \t\"1990\",\n",
      "  editor = \t\"{J.\\ R.}\\ Rinderle\",\n",
      "  pages = \t\"1--9\",\n",
      "  organization = \t\"American Society of Mechanical Engineers (ASME)\",\n",
      "  OPTpublisher = \t\"\",\n",
      "  OPTaddress = \t\"\",\n",
      "  OPTmonth = \t\"\",\n",
      "  note = \t\"Proceedings\"\n",
      "}\n",
      "\n",
      "\n",
      "@InProceedings{Yamaguchi:Kimura:90,\n",
      "  author = \t\"Yasushi Yamaguchi and Fumihiko Kimura\",\n",
      "  title = \t\"{A constraint modeling system for variational geometry}\",\n",
      "  booktitle = \t\"{Geometric modeling for product engineering}\",\n",
      "  year = \t\"1990\",\n",
      "  editor = \t\"{Michael J.}\\ Wozny and {J.\\ U.}\\ Turner and {K.}\\ Preiss\",\n",
      "  pages = \t\"221--233\",\n",
      "  organization = \t\"IFIP\",\n",
      "  publisher = \t\"Elsevier Science Publishers B.V.\\ (North-Holland),\n",
      "\t\t Amsterdam, The Netherlands\",\n",
      "  OPTaddress = \t\"\",\n",
      "  OPTmonth = \t\"\",\n",
      "  note = \t\"Selected and Expanded Papers form the IFIP WG 5.2/NSF\n",
      "\t\t Working Conference on Geometric Modeling, Rensselaerville, NY, U.S.A.,\n",
      "\t\t 18--22 September 1988\"\n",
      "}\n",
      "\n",
      "@InProceedings{Chung:et:al:88,\n",
      "  author = \t\"{Jack C.\\ H.}\\ Chung and {Joseph W.}\\ Klahs\n",
      "\t\t and {Robert L.}\\ Cook and Thijs Sluiter\",\n",
      "  title = \t\"{Implementation issues in variational geometry and\n",
      "\t\t constraint management}\",\n",
      "  booktitle = \t\"Third International Conference on\n",
      "       CAD/CAM, Robotics and Factories of the Future (CARS and FOF'88)\",\n",
      "  year = \t\"1988\",\n",
      "  OPTeditor = \t\"\",\n",
      "  OPTpages = \t\"\",\n",
      "  OPTorganization = \t\"\",\n",
      "  OPTpublisher = \t\"\",\n",
      "  address = \t\"Detroit, Michigan, USA\",\n",
      "  month = \t\" August 14--17,\",\n",
      "  note = \t\"Proceedings, probably: Springer-Verlag,\n",
      "\t\t Berlin/Heidelberg, 1989\"\n",
      "}\n",
      "\n",
      "@Article{Kimura:et:al:86,\n",
      "  author = \t\"Fumihiko Kimura and Hiromasa Suzuki and Toshio Sata\",\n",
      "  title = \t\"{Variational Product Design by Constraint Propagation\n",
      "\t\t and Satisfaction in Product Modelling}\",\n",
      "  journal = \t\"Annals of the CIRP\",\n",
      "  year = \t\"1986\",\n",
      "  volume = \t\"35\",\n",
      "  number = \t\"1\",\n",
      "  pages = \t\"75--78\",\n",
      "  OPTmonth = \t\"\",\n",
      "  note = \t\"(probably) International Institution for Production Engineering Research\"\n",
      "}\n",
      "\n",
      "@Article{Kimura:et:al:87,\n",
      "  author = \t\"{F.}\\ Kimura and {H.}\\ Suzuki and {H.}\\ Ando and {T.}\\ Sato and\n",
      "\t\t {A.}\\ Kinosada\",\n",
      "  title = \t\"{Variational Geometry Based on Logical Constraints\n",
      "\t\t and its Applications to Product Modelling}\",\n",
      "  journal = \t\"Annals of the CIRP\",\n",
      "  year = \t\"1987\",\n",
      "  volume = \t\"36\",\n",
      "  number = \t\"1\",\n",
      "  pages = \t\"65--68\",\n",
      "\n",
      "@InProceedings{Chung:Schussel:89,\n",
      "  author = \t\"{Jack C.H.}\\ Chung and {Martin D.}\\ Schussel\",\n",
      "  title = \t\"{Comparison of Variational and Parametric Design}\",\n",
      "  booktitle = \t\"Autofact '89\",\n",
      "  year = \t\"1989\",\n",
      "  OPTeditor = \t\"\",\n",
      "  pages = \t\"5-27 -- 5-44\",\n",
      "  OPTorganization = \t\"\",\n",
      "  OPTpublisher = \t\"\",\n",
      "  address = \t\"Detroit, Michigan, USA\",\n",
      "  month = \t\"October 30 -- November 2,\",\n",
      "  note = \t\"Conference Proceedings\"\n",
      "}\n",
      "\n",
      "\n",
      "@Article{Pabon:et:al:92,\n",
      "  author = \t\"Jahir Pabon and Robert Young and Walid Keirouz\",\n",
      "  title = \t\"{Integrating Parametric Geometry, Features, and\n",
      "\t\t Variational Modeling for Conceptual Design}\",\n",
      "  journal = \t\"International Journal of Systems Automation: Research\n",
      "\t\t and Applications (SARA)\",\n",
      "  year = \t\"1992\",\n",
      "  volume = \t\"2\",\n",
      "  OPTnumber = \t\"\",\n",
      "  pages = \t\"17--36\",\n",
      "  OPTmonth = \t\"\",\n",
      "  OPTnote = \t\"\"\n",
      "}\n",
      "\n",
      "@Article{Kondo:90,\n",
      "  author = \t\"Koichi Kondo\",\n",
      "  title = \t\"{PIGMOD: parametric and interactive geometric\n",
      "\t\t modeller for mechanical design}\",\n",
      "  journal = \t\"CAD, computer-aided design\",\n",
      "  year = \t\"1990\",\n",
      "  volume = \t\"22\",\n",
      "  number = \t\"10\",\n",
      "  pages = \t\"633--644\",\n",
      "  month = \t\"december\",\n",
      "  note = \t\"Butterworth-Heinemann Ltd\"\n",
      "}\n",
      "\n",
      "\n",
      "@InProceedings{Zalik:et:al:92a,\n",
      "  author = \t\"Borut {\\v{Z}}alik and Nikola Guid and Aleksander Vesel\",\n",
      "  title = \t\"{Parametric Design Using Constraint Description Graph}\", \n",
      "  booktitle = \t\"CAD '92, Neue Konzepte zur Realisierung\n",
      "\t\t anwendungsorientierter CAD-Systeme\",\n",
      "  year = \t\"1992\",\n",
      "  editor = \t\"{Frank-Lothar} Krause and Detlev Ruland and Helmut Jansen\",\n",
      "  pages = \t\"329--344\",\n",
      "  OPTorganization = \t\"\",\n",
      "  publisher = \t\"Informatik aktuell, Springer-Verlag, Berlin/Heidelberg\",\n",
      "  OPTaddress = \t\"\",\n",
      "  month = \t\"14./15.\\ Mai\",\n",
      "  note = \t\"GI-Fachtagung, Berlin\"\n",
      "}\n",
      "\n",
      "\n",
      "@InProceedings{Murtagh:Shimura:90,\n",
      "  author = \t\"Niall Murtagh and Masamichi Shimura\",\n",
      "  title = \t\"{Parametric Engineering Design Using Constraint-Based Reasoning}\",\n",
      "  booktitle = \t\"AAAI-90, Eighth National Conference on Artificial Intelligence\",\n",
      "  year = \t\"1990\",\n",
      "  OPTeditor = \t\"\",\n",
      "  pages = \t\"505--510\",\n",
      "  organization = \t\"American Association for Artificial Intelligence\",\n",
      "  publisher = \t\"Proceedings, Volume One, AAAI Press, Menlo Park, CA, U.S.A.\",\n",
      "  address = \t\"Boston, MA\",\n",
      "  month = \t\"July 29 -- August 3,\",\n",
      "  OPTnote = \t\"\"\n",
      "}\n",
      "\n",
      "\n",
      "-----------------------------------------------------------------------------\n",
      "From: weidlich@arb-phys.uni-dortmund.de (Weidlich)\n",
      "Subject: Searching for a phonetic font\n",
      "Organization: Institut f. Arbeitsphysiologie a.d. Uni Dortmund\n",
      "Lines: 13\n",
      "\n",
      "I'm searching for a phonetic TrueType font for Windows 3.1. If \n",
      "anybody knows one, please mail me!\n",
      "\n",
      "Thanks.\n",
      "\n",
      "dw \n",
      "\n",
      "\n",
      "##################################################################\n",
      "Dipl.-Inform. Dietmar Weidlich    # IfADo, Ardeystr. 67          #\n",
      "weidlich@arb-phys.uni-dortmund.de # D-4600 Dortmund 50           #\n",
      "Phone ++49 231 1084-250           # >> Dr. B.: \"Koennten Sie das #\n",
      "Fax   ++49 231 1084-401           #      MAL EBEN erledigen?\" << #\n",
      "\n",
      "-----------------------------------------------------------------------------\n",
      "From: weidlich@arb-phys.uni-dortmund.de (Weidlich)\n",
      "Subject: Searching for a phonetic font\n",
      "Organization: Institut f. Arbeitsphysiologie a.d. Uni Dortmund\n",
      "Lines: 13\n",
      "\n",
      "I'm searching for a phonetic TrueType font for Windows 3.1. If \n",
      "anybody knows one, please mail me!\n",
      "\n",
      "Thanks.\n",
      "\n",
      "dw \n",
      "\n",
      "\n",
      "##################################################################\n",
      "Dipl.-Inform. Dietmar Weidlich    # IfADo, Ardeystr. 67          #\n",
      "weidlich@arb-phys.uni-dortmund.de # D-4600 Dortmund 50           #\n",
      "Phone ++49 231 1084-250           # >> Dr. B.: \"Koennten Sie das #\n",
      "Fax   ++49 231 1084-401           #      MAL EBEN erledigen?\" << #\n",
      "\n",
      "-----------------------------------------------------------------------------\n",
      "From: weidlich@arb-phys.uni-dortmund.de (Weidlich)\n",
      "Subject: Searching for a phonetic font\n",
      "Organization: Institut f. Arbeitsphysiologie a.d. Uni Dortmund\n",
      "Lines: 13\n",
      "\n",
      "I'm searching for a phonetic TrueType font for Windows 3.1. If \n",
      "anybody knows one, please mail me!\n",
      "\n",
      "Thanks.\n",
      "\n",
      "dw \n",
      "\n",
      "\n",
      "##################################################################\n",
      "Dipl.-Inform. Dietmar Weidlich    # IfADo, Ardeystr. 67          #\n",
      "weidlich@arb-phys.uni-dortmund.de # D-4600 Dortmund 50           #\n",
      "Phone ++49 231 1084-250           # >> Dr. B.: \"Koennten Sie das #\n",
      "Fax   ++49 231 1084-401           #      MAL EBEN erledigen?\" << #\n",
      "\n",
      "-----------------------------------------------------------------------------\n",
      "From: weidlich@arb-phys.uni-dortmund.de (Weidlich)\n",
      "Subject: Searching for a phonetic font\n",
      "Organization: Institut f. Arbeitsphysiologie a.d. Uni Dortmund\n",
      "Lines: 13\n",
      "\n",
      "I'm searching for a phonetic TrueType font for Windows 3.1. If \n",
      "anybody knows one, please mail me!\n",
      "\n",
      "Thanks.\n",
      "\n",
      "dw \n",
      "\n",
      "\n",
      "##################################################################\n",
      "Dipl.-Inform. Dietmar Weidlich    # IfADo, Ardeystr. 67          #\n",
      "weidlich@arb-phys.uni-dortmund.de # D-4600 Dortmund 50           #\n",
      "Phone ++49 231 1084-250           # >> Dr. B.: \"Koennten Sie das #\n",
      "Fax   ++49 231 1084-401           #      MAL EBEN erledigen?\" << #\n",
      "\n",
      "-----------------------------------------------------------------------------\n",
      "From: ramirez@IASTATE.EDU (Richard G Ramirez)\n",
      "Subject: Re: SUMMARY: Borland/Microsoft Database C Libraries\n",
      "Reply-To: ramirez@IASTATE.EDU (Richard G Ramirez)\n",
      "Organization: Iowa State University\n",
      "Lines: 4\n",
      "\n",
      "Could you post a description of ObjectBase, your chosen\n",
      "product.\n",
      "\n",
      "Thanks\n",
      "\n",
      "-----------------------------------------------------------------------------\n",
      "From: rlb534@ibm-03.nwscc.sea06.navy.mil\n",
      "Subject: FASTMicro out of business?\n",
      "Organization: UTexas Mail-to-News Gateway\n",
      "Lines: 2\n",
      "NNTP-Posting-Host: cs.utexas.edu\n",
      "\n",
      "    I heard FASTMicro went out of business.  Is this true?  \n",
      "They don't answer their 800 number.  It's 800-821-9000.\n",
      "\n",
      "-----------------------------------------------------------------------------\n",
      "From: weidlich@arb-phys.uni-dortmund.de (Weidlich)\n",
      "Subject: Searching for a phonetic font\n",
      "Organization: Institut f. Arbeitsphysiologie a.d. Uni Dortmund\n",
      "Lines: 13\n",
      "\n",
      "I'm searching for a phonetic TrueType font for Windows 3.1. If \n",
      "anybody knows one, please mail me!\n",
      "\n",
      "Thanks.\n",
      "\n",
      "dw \n",
      "\n",
      "\n",
      "##################################################################\n",
      "Dipl.-Inform. Dietmar Weidlich    # IfADo, Ardeystr. 67          #\n",
      "weidlich@arb-phys.uni-dortmund.de # D-4600 Dortmund 50           #\n",
      "Phone ++49 231 1084-250           # >> Dr. B.: \"Koennten Sie das #\n",
      "Fax   ++49 231 1084-401           #      MAL EBEN erledigen?\" << #\n",
      "\n",
      "-----------------------------------------------------------------------------\n",
      "From: weidlich@arb-phys.uni-dortmund.de (Weidlich)\n",
      "Subject: Searching for a phonetic font\n",
      "Organization: Institut f. Arbeitsphysiologie a.d. Uni Dortmund\n",
      "Lines: 13\n",
      "\n",
      "I'm searching for a phonetic TrueType font for Windows 3.1. If \n",
      "anybody knows one, please mail me!\n",
      "\n",
      "Thanks.\n",
      "\n",
      "dw \n",
      "\n",
      "\n",
      "##################################################################\n",
      "Dipl.-Inform. Dietmar Weidlich    # IfADo, Ardeystr. 67          #\n",
      "weidlich@arb-phys.uni-dortmund.de # D-4600 Dortmund 50           #\n",
      "Phone ++49 231 1084-250           # >> Dr. B.: \"Koennten Sie das #\n",
      "Fax   ++49 231 1084-401           #      MAL EBEN erledigen?\" << #\n",
      "\n",
      "-----------------------------------------------------------------------------\n",
      "From: v-cckch@microsoft.com (Kenneth Charlton)\n",
      "Subject: Re: \"Jump Starting\" a Mac II\n",
      "Organization: Microsoft Corp.\n",
      "Distribution: usa\n",
      "Lines: 5\n",
      "\n",
      "Apple dealerships once had kits to replace the soldered in batteries with a battery \n",
      "holder.\n",
      "\n",
      "Real easy to install, but it does require some soldering.\n",
      "\n",
      "\n",
      "-----------------------------------------------------------------------------\n",
      "From: weidlich@arb-phys.uni-dortmund.de (Weidlich)\n",
      "Subject: Searching for a phonetic font\n",
      "Organization: Institut f. Arbeitsphysiologie a.d. Uni Dortmund\n",
      "Lines: 13\n",
      "\n",
      "I'm searching for a phonetic TrueType font for Windows 3.1. If \n",
      "anybody knows one, please mail me!\n",
      "\n",
      "Thanks.\n",
      "\n",
      "dw \n",
      "\n",
      "\n",
      "##################################################################\n",
      "Dipl.-Inform. Dietmar Weidlich    # IfADo, Ardeystr. 67          #\n",
      "weidlich@arb-phys.uni-dortmund.de # D-4600 Dortmund 50           #\n",
      "Phone ++49 231 1084-250           # >> Dr. B.: \"Koennten Sie das #\n",
      "Fax   ++49 231 1084-401           #      MAL EBEN erledigen?\" << #\n",
      "\n",
      "-----------------------------------------------------------------------------\n",
      "From: Robert Everett Brunskill <rb6t+@andrew.cmu.edu>\n",
      "Subject: Re: $$$ to fix TRACKBALL\n",
      "Organization: Freshman, Electrical and Computer Engineering, Carnegie Mellon, Pittsburgh, PA\n",
      "Lines: 7\n",
      "NNTP-Posting-Host: po4.andrew.cmu.edu\n",
      "In-Reply-To: <93105.152944BR4416A@auvm.american.edu>\n",
      "\n",
      "Of course, if you want to check the honesty of your dealler, take it in\n",
      "knowing what's wrong, and ask them to tell you. :)\n",
      "\n",
      "Of course he'll probably know right a way, then charge you a $20 service\n",
      "fee. :)\n",
      "\n",
      "Rob\n",
      "\n",
      "-----------------------------------------------------------------------------\n",
      "From: weidlich@arb-phys.uni-dortmund.de (Weidlich)\n",
      "Subject: Searching for a phonetic font\n",
      "Organization: Institut f. Arbeitsphysiologie a.d. Uni Dortmund\n",
      "Lines: 13\n",
      "\n",
      "I'm searching for a phonetic TrueType font for Windows 3.1. If \n",
      "anybody knows one, please mail me!\n",
      "\n",
      "Thanks.\n",
      "\n",
      "dw \n",
      "\n",
      "\n",
      "##################################################################\n",
      "Dipl.-Inform. Dietmar Weidlich    # IfADo, Ardeystr. 67          #\n",
      "weidlich@arb-phys.uni-dortmund.de # D-4600 Dortmund 50           #\n",
      "Phone ++49 231 1084-250           # >> Dr. B.: \"Koennten Sie das #\n",
      "Fax   ++49 231 1084-401           #      MAL EBEN erledigen?\" << #\n",
      "\n",
      "-----------------------------------------------------------------------------\n"
     ]
    }
   ],
   "source": [
    "\n",
    "top = 1\n",
    "import scipy.spatial.distance as dist\n",
    "\n",
    "#macierz odległości zdanie-center\n",
    "distances = [[dist.cosine(w,c) for w in X_dense] for c in centers] \n",
    "for i in range(n_elements):\n",
    "    tops = np.argsort(distances[i])[-top:]\n",
    "    for s in tops:\n",
    "        print(X_set[s])\n",
    "    print(\"-----------------------------------------------------------------------------\")\n",
    "#     print([w for w in tf_vectorizer.vocabulary_ if tf_vectorizer.vocabulary_[w] in tops])\n",
    "\n",
    "\n",
    "# #wypiszmy teraz posty najbardziej reprezentujące klaster (zdania najbliższe średniej\n",
    "# top = 2\n",
    "# import scipy.spatial.distance as dist"
   ]
  },
  {
   "cell_type": "markdown",
   "metadata": {
    "collapsed": true
   },
   "source": [
    "ZADANIE: Porównaj wynik z LDA"
   ]
  },
  {
   "cell_type": "code",
   "execution_count": 83,
   "metadata": {
    "collapsed": true
   },
   "outputs": [],
   "source": [
    "n_elements = 20\n",
    "\n",
    "from sklearn.decomposition import LatentDirichletAllocation\n",
    "\n",
    "lda = LatentDirichletAllocation(n_elements)"
   ]
  },
  {
   "cell_type": "code",
   "execution_count": 84,
   "metadata": {},
   "outputs": [
    {
     "name": "stderr",
     "output_type": "stream",
     "text": [
      "C:\\Users\\user\\Anaconda3\\lib\\site-packages\\sklearn\\decomposition\\online_lda.py:536: DeprecationWarning: The default value for 'learning_method' will be changed from 'online' to 'batch' in the release 0.20. This warning was introduced in 0.18.\n",
      "  DeprecationWarning)\n"
     ]
    },
    {
     "data": {
      "text/plain": [
       "array([[ 0.01370614,  0.01370614,  0.01370614, ...,  0.73958339,\n",
       "         0.01370614,  0.01370614],\n",
       "       [ 0.00833627,  0.00833627,  0.00833627, ...,  0.84161092,\n",
       "         0.00833627,  0.00833627],\n",
       "       [ 0.0089653 ,  0.0089653 ,  0.0089653 , ...,  0.8296592 ,\n",
       "         0.0089653 ,  0.0089653 ],\n",
       "       ..., \n",
       "       [ 0.01032327,  0.01032327,  0.01032327, ...,  0.80385782,\n",
       "         0.01032327,  0.01032327],\n",
       "       [ 0.0085748 ,  0.0085748 ,  0.0085748 , ...,  0.83707876,\n",
       "         0.0085748 ,  0.0085748 ],\n",
       "       [ 0.00811239,  0.00811239,  0.00811239, ...,  0.84586452,\n",
       "         0.00811239,  0.00811239]])"
      ]
     },
     "execution_count": 84,
     "metadata": {},
     "output_type": "execute_result"
    }
   ],
   "source": [
    "lda_fit = lda.fit_transform(X_vectors)\n",
    "lda_fit"
   ]
  },
  {
   "cell_type": "code",
   "execution_count": 85,
   "metadata": {},
   "outputs": [
    {
     "data": {
      "text/plain": [
       "array([[ 0.00689118,  0.00859937,  0.00792056, ...,  0.0080575 ,\n",
       "         0.00722571,  0.00980434],\n",
       "       [ 0.00949874,  0.00735049,  0.00728561, ...,  0.00784694,\n",
       "         0.00691652,  0.0108302 ],\n",
       "       [ 0.00815575,  0.007704  ,  0.00723734, ...,  0.0089574 ,\n",
       "         0.00680938,  0.00782879],\n",
       "       ..., \n",
       "       [ 0.01478974,  0.00356745,  0.00962951, ...,  0.01364506,\n",
       "         0.00448468,  0.00688001],\n",
       "       [ 0.00788646,  0.00813337,  0.00716977, ...,  0.00820471,\n",
       "         0.00649384,  0.0061042 ],\n",
       "       [ 0.00809555,  0.00808316,  0.00798157, ...,  0.00752725,\n",
       "         0.00712356,  0.00774088]])"
      ]
     },
     "execution_count": 85,
     "metadata": {},
     "output_type": "execute_result"
    }
   ],
   "source": [
    "topics = lda.components_ / lda.components_.sum(axis=1)[:, np.newaxis]\n",
    "topics"
   ]
  },
  {
   "cell_type": "code",
   "execution_count": 94,
   "metadata": {},
   "outputs": [
    {
     "name": "stdout",
     "output_type": "stream",
     "text": [
      "0   ['wa', '``', 'question', '-', 'look', 'get', 'post', '2', '|', 'mac']\n",
      "1   ['peopl', 'ani', '-', \"'s\", 'whi', 'help', '!', \"'m\", '|', 'card']\n",
      "2   ['nntp-posting-host', 'file', '...', 'onli', 'call', \"'\", 'could', 'number', 'machin', 'window']\n",
      "3   [\"''\", '$', '``', '-', '#', 'use', ';', '!', '|', 'card']\n",
      "4   ['nntp-posting-host', 'say', 'make', 'must', 'better', 'thing', \"'s\", '2', 'believ', \"'m\"]\n",
      "5   ['like', 'good', 'ani', 'look', 'drive', 'veri', 'hi', '!', \"'m\", 'card']\n",
      "6   [\"''\", 'know', 'question', 'differ', 'comput', 'follow', 'think', \"'\", 'well', 'much']\n",
      "7   ['wa', 'write', \"''\", 'know', 'would', 'use', 'version', 'read', 'still', 'window']\n",
      "8   ['univers', 'nntp-posting-host', '$', 'know', '-', 'comput', 'thank', 'reply-to', 'window', 'card']\n",
      "9   ['wa', 'nntp-posting-host', 'time', \"''\", 'look', \"'s\", 'post', 'file', '4', 'mac']\n",
      "10   [\"''\", '``', 'need', '-', '#', '...', \"'\", 'help', 'pleas', '!']\n",
      "11   ['univers', 'ani', 'need', 'littl', 'file', 'find', 'veri', 'anyth', 'email', 'window']\n",
      "12   ['wa', 'univers', 'nntp-posting-host', 'file', 'doe', '...', 'back', 'use', 'well', 'window']\n",
      "13   ['actual', 'file', 'believ', 'onli', 'use', 'could', 'etc', '4', 'reply-to', 'machin']\n",
      "14   [\"''\", 'right', 'one', 'make', '``', 'way', 'look', \"'s\", 'think', 'much']\n",
      "15   [\"''\", '``', 'ha', '...', 'hi', \"'\", 'help', '!', 'distribut', 'world']\n",
      "16   ['write', 'time', 'need', 'comput', 'anyon', 'sinc', 'hi', \"'ve\", '|', 'softwar']\n",
      "17   ['univers', '<', \"''\", 'ani', '``', '-', \"'s\", '...', 'use', '!']\n",
      "18   ['time', \"''\", '[', ']', 'ani', '``', '2', '...', 'mani', 'use']\n",
      "19   ['must', '``', 'better', 'someth', 'problem', 'thing', 'help', 'group', '4', 'pc']\n"
     ]
    }
   ],
   "source": [
    "top = 10\n",
    "for i in range(n_elements):\n",
    "    tops = np.argsort(topics[i,:])[-top:]#[::-1]\n",
    "    print(i, \" \", [w for w in vectorizer.vocabulary_ if vectorizer.vocabulary_[w] in tops])"
   ]
  }
 ],
 "metadata": {
  "kernelspec": {
   "display_name": "Python 3",
   "language": "python",
   "name": "python3"
  },
  "language_info": {
   "codemirror_mode": {
    "name": "ipython",
    "version": 3
   },
   "file_extension": ".py",
   "mimetype": "text/x-python",
   "name": "python",
   "nbconvert_exporter": "python",
   "pygments_lexer": "ipython3",
   "version": "3.6.5"
  }
 },
 "nbformat": 4,
 "nbformat_minor": 2
}
