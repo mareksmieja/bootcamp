{
 "cells": [
  {
   "cell_type": "markdown",
   "metadata": {},
   "source": [
    "# Anomaly detection"
   ]
  },
  {
   "cell_type": "markdown",
   "metadata": {},
   "source": [
    "Będziemy używać zbioru EKG z [PhysioNet](http://physionet.org/physiobank/database/apnea-ecg/). Dokładniejszy opis można znaleźć tu: https://github.com/mrahtz/sanger-machine-learning-workshop"
   ]
  },
  {
   "cell_type": "code",
   "execution_count": 2,
   "metadata": {},
   "outputs": [
    {
     "name": "stdout",
     "output_type": "stream",
     "text": [
      "(3182000,)\n"
     ]
    }
   ],
   "source": [
    "from __future__ import print_function\n",
    "import ekg_data\n",
    "\n",
    "ekg_filename = 'data_cl/a02.dat'\n",
    "ekg_data_save = ekg_data.read_ekg_data(ekg_filename)\n",
    "print(ekg_data_save.shape)"
   ]
  },
  {
   "cell_type": "markdown",
   "metadata": {},
   "source": [
    "Nasze dane to lista liczb"
   ]
  },
  {
   "cell_type": "code",
   "execution_count": 3,
   "metadata": {},
   "outputs": [
    {
     "name": "stdout",
     "output_type": "stream",
     "text": [
      "ekg_data[0]:\t -4.0\n",
      "ekg_data[1]:\t -4.0\n",
      "ekg_data.min:\t -572.0\n",
      "ekg_data.max:\t 580.0\n"
     ]
    }
   ],
   "source": [
    "print(\"ekg_data[0]:\\t\", ekg_data_save[0])\n",
    "print(\"ekg_data[1]:\\t\", ekg_data_save[1])\n",
    "print(\"ekg_data.min:\\t\", ekg_data_save.min())\n",
    "print(\"ekg_data.max:\\t\", ekg_data_save.max())"
   ]
  },
  {
   "cell_type": "markdown",
   "metadata": {},
   "source": [
    "Jest to sygnał więc można go narysować"
   ]
  },
  {
   "cell_type": "code",
   "execution_count": 4,
   "metadata": {},
   "outputs": [
    {
     "data": {
      "image/png": "[encoded data removed]",
      "text/plain": [
       "<matplotlib.figure.Figure at 0x1c7a94c3ef0>"
      ]
     },
     "metadata": {},
     "output_type": "display_data"
    }
   ],
   "source": [
    "# IPython 'magic' command to set the matplotlib backend to display\n",
    "# in the notebook\n",
    "%matplotlib inline\n",
    "\n",
    "import matplotlib.pyplot as plt\n",
    "\n",
    "n_samples_to_plot = 300\n",
    "plt.plot(ekg_data_save[0:n_samples_to_plot])\n",
    "plt.xlabel(\"Sample number\")\n",
    "plt.ylabel(\"Signal value\")\n",
    "plt.show()"
   ]
  },
  {
   "cell_type": "markdown",
   "metadata": {},
   "source": [
    "Jako zbiór treningowy weźmy kilka pierwszych wartości"
   ]
  },
  {
   "cell_type": "code",
   "execution_count": 5,
   "metadata": {
    "collapsed": true
   },
   "outputs": [],
   "source": [
    "ekg_data = ekg_data_save[0:8192]"
   ]
  },
  {
   "cell_type": "markdown",
   "metadata": {},
   "source": [
    "## Windowing"
   ]
  },
  {
   "cell_type": "markdown",
   "metadata": {},
   "source": [
    "Żeby pracować z danymi z szeregu czasowego zwykle go okienkujemy. \n",
    "\n",
    "ZADANIE: Proszę przekształcić ekg_data do postaci wektorowej - idziemy co 2 i tworzymy wektory długości 32"
   ]
  },
  {
   "cell_type": "code",
   "execution_count": 6,
   "metadata": {},
   "outputs": [],
   "source": [
    "#"
   ]
  },
  {
   "cell_type": "markdown",
   "metadata": {},
   "source": [
    "ZADANIE: Proszę narysować przykładowe segmenty"
   ]
  },
  {
   "cell_type": "code",
   "execution_count": 7,
   "metadata": {},
   "outputs": [],
   "source": [
    "#"
   ]
  },
  {
   "cell_type": "markdown",
   "metadata": {},
   "source": [
    "## Clustering"
   ]
  },
  {
   "cell_type": "markdown",
   "metadata": {},
   "source": [
    "ZADANIE: Poklastrować dane tak żeby znaleźć zbiór typowych/reprezentatywnych fali - weźmy 150 grup"
   ]
  },
  {
   "cell_type": "code",
   "execution_count": 8,
   "metadata": {},
   "outputs": [],
   "source": [
    "#"
   ]
  },
  {
   "cell_type": "markdown",
   "metadata": {},
   "source": [
    "ZADANIE: Narysować reprezentatów klastrów"
   ]
  },
  {
   "cell_type": "code",
   "execution_count": 9,
   "metadata": {},
   "outputs": [],
   "source": [
    "#"
   ]
  },
  {
   "cell_type": "markdown",
   "metadata": {},
   "source": [
    "Fala będzie anomalią jeśli będzie daleko od naszego modelu:\n",
    "* dla każdej fali szukamy najbliższego centra\n",
    "* dopasowanie to odległość od najbliższego centra\n",
    "\n"
   ]
  },
  {
   "cell_type": "markdown",
   "metadata": {},
   "source": [
    "ZADANIE: Zobaczmy jak wykląda dopasowanie wybranej fali do centra (narysuj dwie fale na jednym rysunku)"
   ]
  },
  {
   "cell_type": "code",
   "execution_count": 11,
   "metadata": {},
   "outputs": [],
   "source": [
    "#"
   ]
  },
  {
   "cell_type": "markdown",
   "metadata": {},
   "source": [
    "ZADANIE: Dla zbioru testowego (kolejne 8192 obserwacje) i treningowego policz dopasowanie. Narysuj oryginalną falę i falę dopasowania. Oceń które fale są anomaliami"
   ]
  },
  {
   "cell_type": "code",
   "execution_count": 12,
   "metadata": {
    "collapsed": true
   },
   "outputs": [],
   "source": [
    "#"
   ]
  },
  {
   "cell_type": "markdown",
   "metadata": {},
   "source": [
    "ZADANIE: Stwórz ręcznie anomalię, np. wyzeruj 5 współrzędnych w oryginalnym sygnale - powtórze poprzednie zadanie na takim sygnale"
   ]
  },
  {
   "cell_type": "code",
   "execution_count": 13,
   "metadata": {
    "collapsed": true
   },
   "outputs": [],
   "source": [
    "#"
   ]
  }
 ],
 "metadata": {
  "kernelspec": {
   "display_name": "Python 3",
   "language": "python",
   "name": "python3"
  },
  "language_info": {
   "codemirror_mode": {
    "name": "ipython",
    "version": 3
   },
   "file_extension": ".py",
   "mimetype": "text/x-python",
   "name": "python",
   "nbconvert_exporter": "python",
   "pygments_lexer": "ipython3",
   "version": "3.6.3"
  }
 },
 "nbformat": 4,
 "nbformat_minor": 1
}
